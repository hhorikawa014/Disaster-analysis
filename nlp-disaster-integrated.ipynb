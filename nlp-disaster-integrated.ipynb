{
 "cells": [
  {
   "cell_type": "code",
   "execution_count": 1,
   "id": "b06203f1",
   "metadata": {
    "execution": {
     "iopub.execute_input": "2024-10-08T07:36:59.021353Z",
     "iopub.status.busy": "2024-10-08T07:36:59.020957Z",
     "iopub.status.idle": "2024-10-08T07:37:34.412658Z",
     "shell.execute_reply": "2024-10-08T07:37:34.411583Z"
    },
    "papermill": {
     "duration": 35.422218,
     "end_time": "2024-10-08T07:37:34.415224",
     "exception": false,
     "start_time": "2024-10-08T07:36:58.993006",
     "status": "completed"
    },
    "scrolled": true,
    "tags": []
   },
   "outputs": [
    {
     "name": "stdout",
     "output_type": "stream",
     "text": [
      "Requirement already satisfied: keras-nlp in /opt/conda/lib/python3.10/site-packages (0.15.1)\r\n",
      "Requirement already satisfied: absl-py in /opt/conda/lib/python3.10/site-packages (from keras-nlp) (1.4.0)\r\n",
      "Requirement already satisfied: numpy in /opt/conda/lib/python3.10/site-packages (from keras-nlp) (1.26.4)\r\n",
      "Requirement already satisfied: packaging in /opt/conda/lib/python3.10/site-packages (from keras-nlp) (21.3)\r\n",
      "Requirement already satisfied: regex in /opt/conda/lib/python3.10/site-packages (from keras-nlp) (2024.5.15)\r\n",
      "Requirement already satisfied: rich in /opt/conda/lib/python3.10/site-packages (from keras-nlp) (13.7.1)\r\n",
      "Requirement already satisfied: kagglehub in /opt/conda/lib/python3.10/site-packages (from keras-nlp) (0.3.0)\r\n",
      "Requirement already satisfied: tensorflow-text in /opt/conda/lib/python3.10/site-packages (from keras-nlp) (2.16.1)\r\n",
      "Requirement already satisfied: requests in /opt/conda/lib/python3.10/site-packages (from kagglehub->keras-nlp) (2.32.3)\r\n",
      "Requirement already satisfied: tqdm in /opt/conda/lib/python3.10/site-packages (from kagglehub->keras-nlp) (4.66.4)\r\n",
      "Requirement already satisfied: pyparsing!=3.0.5,>=2.0.2 in /opt/conda/lib/python3.10/site-packages (from packaging->keras-nlp) (3.1.2)\r\n",
      "Requirement already satisfied: markdown-it-py>=2.2.0 in /opt/conda/lib/python3.10/site-packages (from rich->keras-nlp) (3.0.0)\r\n",
      "Requirement already satisfied: pygments<3.0.0,>=2.13.0 in /opt/conda/lib/python3.10/site-packages (from rich->keras-nlp) (2.18.0)\r\n",
      "Requirement already satisfied: tensorflow<2.17,>=2.16.1 in /opt/conda/lib/python3.10/site-packages (from tensorflow-text->keras-nlp) (2.16.1)\r\n",
      "Requirement already satisfied: mdurl~=0.1 in /opt/conda/lib/python3.10/site-packages (from markdown-it-py>=2.2.0->rich->keras-nlp) (0.1.2)\r\n",
      "Requirement already satisfied: astunparse>=1.6.0 in /opt/conda/lib/python3.10/site-packages (from tensorflow<2.17,>=2.16.1->tensorflow-text->keras-nlp) (1.6.3)\r\n",
      "Requirement already satisfied: flatbuffers>=23.5.26 in /opt/conda/lib/python3.10/site-packages (from tensorflow<2.17,>=2.16.1->tensorflow-text->keras-nlp) (24.3.25)\r\n",
      "Requirement already satisfied: gast!=0.5.0,!=0.5.1,!=0.5.2,>=0.2.1 in /opt/conda/lib/python3.10/site-packages (from tensorflow<2.17,>=2.16.1->tensorflow-text->keras-nlp) (0.5.4)\r\n",
      "Requirement already satisfied: google-pasta>=0.1.1 in /opt/conda/lib/python3.10/site-packages (from tensorflow<2.17,>=2.16.1->tensorflow-text->keras-nlp) (0.2.0)\r\n",
      "Requirement already satisfied: h5py>=3.10.0 in /opt/conda/lib/python3.10/site-packages (from tensorflow<2.17,>=2.16.1->tensorflow-text->keras-nlp) (3.11.0)\r\n",
      "Requirement already satisfied: libclang>=13.0.0 in /opt/conda/lib/python3.10/site-packages (from tensorflow<2.17,>=2.16.1->tensorflow-text->keras-nlp) (18.1.1)\r\n",
      "Requirement already satisfied: ml-dtypes~=0.3.1 in /opt/conda/lib/python3.10/site-packages (from tensorflow<2.17,>=2.16.1->tensorflow-text->keras-nlp) (0.3.2)\r\n",
      "Requirement already satisfied: opt-einsum>=2.3.2 in /opt/conda/lib/python3.10/site-packages (from tensorflow<2.17,>=2.16.1->tensorflow-text->keras-nlp) (3.3.0)\r\n",
      "Requirement already satisfied: protobuf!=4.21.0,!=4.21.1,!=4.21.2,!=4.21.3,!=4.21.4,!=4.21.5,<5.0.0dev,>=3.20.3 in /opt/conda/lib/python3.10/site-packages (from tensorflow<2.17,>=2.16.1->tensorflow-text->keras-nlp) (3.20.3)\r\n",
      "Requirement already satisfied: setuptools in /opt/conda/lib/python3.10/site-packages (from tensorflow<2.17,>=2.16.1->tensorflow-text->keras-nlp) (70.0.0)\r\n",
      "Requirement already satisfied: six>=1.12.0 in /opt/conda/lib/python3.10/site-packages (from tensorflow<2.17,>=2.16.1->tensorflow-text->keras-nlp) (1.16.0)\r\n",
      "Requirement already satisfied: termcolor>=1.1.0 in /opt/conda/lib/python3.10/site-packages (from tensorflow<2.17,>=2.16.1->tensorflow-text->keras-nlp) (2.4.0)\r\n",
      "Requirement already satisfied: typing-extensions>=3.6.6 in /opt/conda/lib/python3.10/site-packages (from tensorflow<2.17,>=2.16.1->tensorflow-text->keras-nlp) (4.12.2)\r\n",
      "Requirement already satisfied: wrapt>=1.11.0 in /opt/conda/lib/python3.10/site-packages (from tensorflow<2.17,>=2.16.1->tensorflow-text->keras-nlp) (1.16.0)\r\n",
      "Requirement already satisfied: grpcio<2.0,>=1.24.3 in /opt/conda/lib/python3.10/site-packages (from tensorflow<2.17,>=2.16.1->tensorflow-text->keras-nlp) (1.62.2)\r\n",
      "Requirement already satisfied: tensorboard<2.17,>=2.16 in /opt/conda/lib/python3.10/site-packages (from tensorflow<2.17,>=2.16.1->tensorflow-text->keras-nlp) (2.16.2)\r\n",
      "Requirement already satisfied: keras>=3.0.0 in /opt/conda/lib/python3.10/site-packages (from tensorflow<2.17,>=2.16.1->tensorflow-text->keras-nlp) (3.3.3)\r\n",
      "Requirement already satisfied: tensorflow-io-gcs-filesystem>=0.23.1 in /opt/conda/lib/python3.10/site-packages (from tensorflow<2.17,>=2.16.1->tensorflow-text->keras-nlp) (0.37.0)\r\n",
      "Requirement already satisfied: charset-normalizer<4,>=2 in /opt/conda/lib/python3.10/site-packages (from requests->kagglehub->keras-nlp) (3.3.2)\r\n",
      "Requirement already satisfied: idna<4,>=2.5 in /opt/conda/lib/python3.10/site-packages (from requests->kagglehub->keras-nlp) (3.7)\r\n",
      "Requirement already satisfied: urllib3<3,>=1.21.1 in /opt/conda/lib/python3.10/site-packages (from requests->kagglehub->keras-nlp) (1.26.18)\r\n",
      "Requirement already satisfied: certifi>=2017.4.17 in /opt/conda/lib/python3.10/site-packages (from requests->kagglehub->keras-nlp) (2024.8.30)\r\n",
      "Requirement already satisfied: wheel<1.0,>=0.23.0 in /opt/conda/lib/python3.10/site-packages (from astunparse>=1.6.0->tensorflow<2.17,>=2.16.1->tensorflow-text->keras-nlp) (0.43.0)\r\n",
      "Requirement already satisfied: namex in /opt/conda/lib/python3.10/site-packages (from keras>=3.0.0->tensorflow<2.17,>=2.16.1->tensorflow-text->keras-nlp) (0.0.8)\r\n",
      "Requirement already satisfied: optree in /opt/conda/lib/python3.10/site-packages (from keras>=3.0.0->tensorflow<2.17,>=2.16.1->tensorflow-text->keras-nlp) (0.11.0)\r\n",
      "Requirement already satisfied: markdown>=2.6.8 in /opt/conda/lib/python3.10/site-packages (from tensorboard<2.17,>=2.16->tensorflow<2.17,>=2.16.1->tensorflow-text->keras-nlp) (3.6)\r\n",
      "Requirement already satisfied: tensorboard-data-server<0.8.0,>=0.7.0 in /opt/conda/lib/python3.10/site-packages (from tensorboard<2.17,>=2.16->tensorflow<2.17,>=2.16.1->tensorflow-text->keras-nlp) (0.7.2)\r\n",
      "Requirement already satisfied: werkzeug>=1.0.1 in /opt/conda/lib/python3.10/site-packages (from tensorboard<2.17,>=2.16->tensorflow<2.17,>=2.16.1->tensorflow-text->keras-nlp) (3.0.4)\r\n",
      "Requirement already satisfied: MarkupSafe>=2.1.1 in /opt/conda/lib/python3.10/site-packages (from werkzeug>=1.0.1->tensorboard<2.17,>=2.16->tensorflow<2.17,>=2.16.1->tensorflow-text->keras-nlp) (2.1.5)\r\n",
      "Requirement already satisfied: nltk in /opt/conda/lib/python3.10/site-packages (3.2.4)\r\n",
      "Requirement already satisfied: six in /opt/conda/lib/python3.10/site-packages (from nltk) (1.16.0)\r\n",
      "Requirement already satisfied: statsmodels in /opt/conda/lib/python3.10/site-packages (0.14.2)\r\n",
      "Requirement already satisfied: numpy>=1.22.3 in /opt/conda/lib/python3.10/site-packages (from statsmodels) (1.26.4)\r\n",
      "Requirement already satisfied: scipy!=1.9.2,>=1.8 in /opt/conda/lib/python3.10/site-packages (from statsmodels) (1.14.1)\r\n",
      "Requirement already satisfied: pandas!=2.1.0,>=1.4 in /opt/conda/lib/python3.10/site-packages (from statsmodels) (2.2.2)\r\n",
      "Requirement already satisfied: patsy>=0.5.6 in /opt/conda/lib/python3.10/site-packages (from statsmodels) (0.5.6)\r\n",
      "Requirement already satisfied: packaging>=21.3 in /opt/conda/lib/python3.10/site-packages (from statsmodels) (21.3)\r\n",
      "Requirement already satisfied: pyparsing!=3.0.5,>=2.0.2 in /opt/conda/lib/python3.10/site-packages (from packaging>=21.3->statsmodels) (3.1.2)\r\n",
      "Requirement already satisfied: python-dateutil>=2.8.2 in /opt/conda/lib/python3.10/site-packages (from pandas!=2.1.0,>=1.4->statsmodels) (2.9.0.post0)\r\n",
      "Requirement already satisfied: pytz>=2020.1 in /opt/conda/lib/python3.10/site-packages (from pandas!=2.1.0,>=1.4->statsmodels) (2024.1)\r\n",
      "Requirement already satisfied: tzdata>=2022.7 in /opt/conda/lib/python3.10/site-packages (from pandas!=2.1.0,>=1.4->statsmodels) (2024.1)\r\n",
      "Requirement already satisfied: six in /opt/conda/lib/python3.10/site-packages (from patsy>=0.5.6->statsmodels) (1.16.0)\r\n"
     ]
    }
   ],
   "source": [
    "!pip install keras-nlp --upgrade\n",
    "!pip install nltk\n",
    "!pip install statsmodels"
   ]
  },
  {
   "cell_type": "code",
   "execution_count": 2,
   "id": "4a9bedb7",
   "metadata": {
    "_cell_guid": "b1076dfc-b9ad-4769-8c92-a6c4dae69d19",
    "_kg_hide-output": true,
    "_uuid": "8f2839f25d086af736a60e9eeb907d3b93b6e0e5",
    "execution": {
     "iopub.execute_input": "2024-10-08T07:37:34.462789Z",
     "iopub.status.busy": "2024-10-08T07:37:34.462397Z",
     "iopub.status.idle": "2024-10-08T07:37:57.541445Z",
     "shell.execute_reply": "2024-10-08T07:37:57.540522Z"
    },
    "papermill": {
     "duration": 23.105911,
     "end_time": "2024-10-08T07:37:57.543784",
     "exception": false,
     "start_time": "2024-10-08T07:37:34.437873",
     "status": "completed"
    },
    "tags": []
   },
   "outputs": [
    {
     "name": "stdout",
     "output_type": "stream",
     "text": [
      "[nltk_data] Downloading package stopwords to /usr/share/nltk_data...\n",
      "[nltk_data]   Package stopwords is already up-to-date!\n",
      "[nltk_data] Downloading package wordnet to /usr/share/nltk_data...\n",
      "[nltk_data]   Package wordnet is already up-to-date!\n",
      "/kaggle/input/bert/keras/bert_base_en_uncased/2/config.json\n",
      "/kaggle/input/bert/keras/bert_base_en_uncased/2/tokenizer.json\n",
      "/kaggle/input/bert/keras/bert_base_en_uncased/2/metadata.json\n",
      "/kaggle/input/bert/keras/bert_base_en_uncased/2/model.weights.h5\n",
      "/kaggle/input/bert/keras/bert_base_en_uncased/2/assets/tokenizer/vocabulary.txt\n",
      "/kaggle/input/a-real-disaster-leaked-label/__results__.html\n",
      "/kaggle/input/a-real-disaster-leaked-label/submission.csv\n",
      "/kaggle/input/a-real-disaster-leaked-label/__resultx__.html\n",
      "/kaggle/input/a-real-disaster-leaked-label/__notebook__.ipynb\n",
      "/kaggle/input/a-real-disaster-leaked-label/__output__.json\n",
      "/kaggle/input/a-real-disaster-leaked-label/custom.css\n",
      "/kaggle/input/distil_bert/keras/distil_bert_base_en_uncased/2/config.json\n",
      "/kaggle/input/distil_bert/keras/distil_bert_base_en_uncased/2/tokenizer.json\n",
      "/kaggle/input/distil_bert/keras/distil_bert_base_en_uncased/2/metadata.json\n",
      "/kaggle/input/distil_bert/keras/distil_bert_base_en_uncased/2/model.weights.h5\n",
      "/kaggle/input/distil_bert/keras/distil_bert_base_en_uncased/2/assets/tokenizer/vocabulary.txt\n",
      "/kaggle/input/nlp-getting-started/sample_submission.csv\n",
      "/kaggle/input/nlp-getting-started/train.csv\n",
      "/kaggle/input/nlp-getting-started/test.csv\n"
     ]
    }
   ],
   "source": [
    "# This Python 3 environment comes with many helpful analytics libraries installed\n",
    "# It is defined by the kaggle/python Docker image: https://github.com/kaggle/docker-python\n",
    "\n",
    "import numpy as np\n",
    "import pandas as pd\n",
    "import re\n",
    "import string\n",
    "import nltk\n",
    "import time\n",
    "from transformers import DistilBertTokenizer, TFDistilBertModel, pipeline\n",
    "from sklearn.preprocessing import StandardScaler, OneHotEncoder\n",
    "from sklearn.model_selection import train_test_split, KFold\n",
    "from sklearn.metrics import accuracy_score, precision_score, recall_score\n",
    "import tensorflow as tf\n",
    "import keras_nlp\n",
    "from tensorflow.keras import backend as K\n",
    "from keras import losses, optimizers\n",
    "from keras.models import Model\n",
    "from keras import layers\n",
    "from keras.layers import Input, GlobalAveragePooling1D, Dense, Dropout, Concatenate, BatchNormalization\n",
    "from keras.callbacks import EarlyStopping\n",
    "from nltk.corpus import stopwords\n",
    "from nltk.corpus import wordnet\n",
    "\n",
    "# download nltk tokens\n",
    "nltk.download('stopwords')\n",
    "nltk.download('wordnet')\n",
    "# !unzip /usr/share/nltk_data/corpora/wordnet.zip -d /usr/share/nltk_data/corpora/\n",
    "\n",
    "# Input data files are available in the read-only \"../input/\" directory\n",
    "# For example, running this (by clicking run or pressing Shift+Enter) will list all files under the input directory\n",
    "\n",
    "import os\n",
    "for dirname, _, filenames in os.walk('/kaggle/input'):\n",
    "    for filename in filenames:\n",
    "        print(os.path.join(dirname, filename))\n",
    "\n",
    "# You can write up to 20GB to the current directory (/kaggle/working/) that gets preserved as output when you create a version using \"Save & Run All\" \n",
    "# You can also write temporary files to /kaggle/temp/, but they won't be saved outside of the current session"
   ]
  },
  {
   "cell_type": "markdown",
   "id": "cd1209cf",
   "metadata": {
    "papermill": {
     "duration": 0.021488,
     "end_time": "2024-10-08T07:37:57.587301",
     "exception": false,
     "start_time": "2024-10-08T07:37:57.565813",
     "status": "completed"
    },
    "tags": []
   },
   "source": [
    "### Import data"
   ]
  },
  {
   "cell_type": "code",
   "execution_count": 3,
   "id": "c8edd5c5",
   "metadata": {
    "execution": {
     "iopub.execute_input": "2024-10-08T07:37:57.632541Z",
     "iopub.status.busy": "2024-10-08T07:37:57.631938Z",
     "iopub.status.idle": "2024-10-08T07:37:57.732672Z",
     "shell.execute_reply": "2024-10-08T07:37:57.731937Z"
    },
    "papermill": {
     "duration": 0.125654,
     "end_time": "2024-10-08T07:37:57.734753",
     "exception": false,
     "start_time": "2024-10-08T07:37:57.609099",
     "status": "completed"
    },
    "tags": []
   },
   "outputs": [],
   "source": [
    "train = pd.read_csv('/kaggle/input/nlp-getting-started/train.csv')\n",
    "test = pd.read_csv('/kaggle/input/nlp-getting-started/test.csv')\n",
    "test_labels = pd.read_csv('/kaggle/input/a-real-disaster-leaked-label/submission.csv')"
   ]
  },
  {
   "cell_type": "markdown",
   "id": "6a48c395",
   "metadata": {
    "papermill": {
     "duration": 0.021502,
     "end_time": "2024-10-08T07:37:57.778790",
     "exception": false,
     "start_time": "2024-10-08T07:37:57.757288",
     "status": "completed"
    },
    "tags": []
   },
   "source": [
    "### Set seed"
   ]
  },
  {
   "cell_type": "code",
   "execution_count": 4,
   "id": "fa392d3d",
   "metadata": {
    "execution": {
     "iopub.execute_input": "2024-10-08T07:37:57.823390Z",
     "iopub.status.busy": "2024-10-08T07:37:57.823038Z",
     "iopub.status.idle": "2024-10-08T07:37:57.827538Z",
     "shell.execute_reply": "2024-10-08T07:37:57.826670Z"
    },
    "papermill": {
     "duration": 0.028995,
     "end_time": "2024-10-08T07:37:57.829446",
     "exception": false,
     "start_time": "2024-10-08T07:37:57.800451",
     "status": "completed"
    },
    "tags": []
   },
   "outputs": [],
   "source": [
    "SEED = 42\n",
    "tf.random.set_seed(SEED)"
   ]
  },
  {
   "cell_type": "markdown",
   "id": "16bafddf",
   "metadata": {
    "papermill": {
     "duration": 0.021257,
     "end_time": "2024-10-08T07:37:57.872129",
     "exception": false,
     "start_time": "2024-10-08T07:37:57.850872",
     "status": "completed"
    },
    "tags": []
   },
   "source": [
    "### Check GPU availability"
   ]
  },
  {
   "cell_type": "code",
   "execution_count": 5,
   "id": "463ac3f1",
   "metadata": {
    "execution": {
     "iopub.execute_input": "2024-10-08T07:37:57.916355Z",
     "iopub.status.busy": "2024-10-08T07:37:57.916036Z",
     "iopub.status.idle": "2024-10-08T07:37:58.119516Z",
     "shell.execute_reply": "2024-10-08T07:37:58.118351Z"
    },
    "papermill": {
     "duration": 0.228221,
     "end_time": "2024-10-08T07:37:58.121708",
     "exception": false,
     "start_time": "2024-10-08T07:37:57.893487",
     "status": "completed"
    },
    "tags": []
   },
   "outputs": [
    {
     "name": "stdout",
     "output_type": "stream",
     "text": [
      "Num GPUs Available:  1\n",
      "Using GPU\n"
     ]
    }
   ],
   "source": [
    "print(\"Num GPUs Available: \", len(tf.config.experimental.list_physical_devices('GPU')))\n",
    "if tf.test.is_gpu_available():\n",
    "    print(\"Using GPU\")"
   ]
  },
  {
   "cell_type": "markdown",
   "id": "d97ea462",
   "metadata": {
    "papermill": {
     "duration": 0.021382,
     "end_time": "2024-10-08T07:37:58.165058",
     "exception": false,
     "start_time": "2024-10-08T07:37:58.143676",
     "status": "completed"
    },
    "tags": []
   },
   "source": [
    "# 0.5. Our Target"
   ]
  },
  {
   "cell_type": "markdown",
   "id": "613d24f2",
   "metadata": {
    "papermill": {
     "duration": 0.02156,
     "end_time": "2024-10-08T07:37:58.208022",
     "exception": false,
     "start_time": "2024-10-08T07:37:58.186462",
     "status": "completed"
    },
    "tags": []
   },
   "source": [
    "##### We are supposed to make a model (or models) that perform better in prediction (or for f1 score) than applying DistilBert model to the raw test data."
   ]
  },
  {
   "cell_type": "code",
   "execution_count": 6,
   "id": "d56761f2",
   "metadata": {
    "execution": {
     "iopub.execute_input": "2024-10-08T07:37:58.252663Z",
     "iopub.status.busy": "2024-10-08T07:37:58.252326Z",
     "iopub.status.idle": "2024-10-08T07:37:58.270073Z",
     "shell.execute_reply": "2024-10-08T07:37:58.269205Z"
    },
    "papermill": {
     "duration": 0.04244,
     "end_time": "2024-10-08T07:37:58.271955",
     "exception": false,
     "start_time": "2024-10-08T07:37:58.229515",
     "status": "completed"
    },
    "tags": []
   },
   "outputs": [],
   "source": [
    "early_stopping = EarlyStopping(monitor='val_loss', mode='min', patience=3, restore_best_weights=True)\n",
    "\n",
    "def f1_score(y_true, y_pred):\n",
    "    if y_pred.shape[-1]>1:\n",
    "        y_pred_classes = tf.argmax(y_pred, axis=-1)\n",
    "    else:\n",
    "        y_pred_classes = tf.cast(tf.greater(y_pred, 0.5), tf.float32)\n",
    "    y_true = tf.cast(y_true, tf.float32)\n",
    "    y_pred_classes = tf.cast(y_pred_classes, tf.float32)\n",
    "\n",
    "    tp = tf.reduce_sum(y_true * y_pred_classes)\n",
    "    fp = tf.reduce_sum((1 - y_true) * y_pred_classes)\n",
    "    fn = tf.reduce_sum(y_true * (1 - y_pred_classes))\n",
    "\n",
    "    precision = tp / (tp + fp + K.epsilon())\n",
    "    recall = tp / (tp + fn + K.epsilon())\n",
    "\n",
    "    f1 = 2 * (precision * recall) / (precision + recall + K.epsilon())\n",
    "\n",
    "    return f1\n",
    "\n",
    "def make_distilbert(seq_len=160, summary=True):\n",
    "    preprocessor = keras_nlp.models.DistilBertPreprocessor.from_preset('distil_bert_base_en_uncased', sequence_length=seq_len, name=\"preprocessor_4_tweets\")\n",
    "    distilbert_model = keras_nlp.models.DistilBertClassifier.from_preset('distil_bert_base_en_uncased', preprocessor=preprocessor, num_classes=2)\n",
    "    if summary: distilbert_model.summary()\n",
    "    return distilbert_model\n",
    "\n",
    "def distilbert_compile(distilbert_model, batch_size=32, epochs=2, plots=True):\n",
    "    distilbert_model.compile(loss=losses.SparseCategoricalCrossentropy(from_logits=True), optimizer=optimizers.Adam(1e-5), metrics=['accuracy', f1_score])\n",
    "    history = distilbert_model.fit(X_train, y_train, batch_size=batch_size, epochs=epochs, callbacks=[early_stopping], validation_data=(X_val, y_val))\n",
    "    if plots:\n",
    "        history_df = pd.DataFrame(data=history.history)\n",
    "        history_df.loc[:, ['loss', 'val_loss']].plot()\n",
    "        history_df.loc[:, ['accuracy', 'val_accuracy']].plot()\n",
    "        history_df.loc[:, ['f1_score', 'val_f1_score']].plot()\n",
    "\n",
    "# for any model with the function \"predict\"\n",
    "def print_metrics(model, X_train, X_test):\n",
    "    y_train = train['target']\n",
    "    y_test = test_labels['target']\n",
    "    \n",
    "    train_pred = model.predict(X_train)\n",
    "    if train_pred.shape[-1] > 1:  # If using softmax\n",
    "        train_pred = np.argmax(train_pred, axis=1)\n",
    "    else:\n",
    "        train_pred = (train_pred > 0.5).astype(int)\n",
    "        \n",
    "    train_acc = accuracy_score(y_train, train_pred)\n",
    "    train_precision = precision_score(y_train, train_pred)\n",
    "    train_recall = recall_score(y_train, train_pred)\n",
    "    train_f1 = 2*train_precision*train_recall/(train_precision+train_recall)\n",
    "    \n",
    "    test_pred = model.predict(X_test)\n",
    "    if test_pred.shape[-1] > 1:  # If using softmax\n",
    "        test_pred = np.argmax(test_pred, axis=1)\n",
    "    else:\n",
    "        test_pred = (test_pred > 0.5).astype(int)\n",
    "        \n",
    "    test_acc = accuracy_score(y_test, test_pred)\n",
    "    test_precision = precision_score(y_test, test_pred)\n",
    "    test_recall = recall_score(y_test, test_pred)\n",
    "    test_f1 = 2*test_precision*test_recall/(test_precision+test_recall)\n",
    "    \n",
    "    \n",
    "    print(f\"Train metrics: f1 score: {train_f1}, accuracy: {train_acc}\")\n",
    "    print(f\"Test metrics:  f1 score: {test_f1}, accuracy: {test_acc}\")\n",
    "    return test_f1"
   ]
  },
  {
   "cell_type": "code",
   "execution_count": 7,
   "id": "021d1621",
   "metadata": {
    "execution": {
     "iopub.execute_input": "2024-10-08T07:37:58.316594Z",
     "iopub.status.busy": "2024-10-08T07:37:58.316316Z",
     "iopub.status.idle": "2024-10-08T07:37:58.320243Z",
     "shell.execute_reply": "2024-10-08T07:37:58.319351Z"
    },
    "papermill": {
     "duration": 0.028476,
     "end_time": "2024-10-08T07:37:58.322199",
     "exception": false,
     "start_time": "2024-10-08T07:37:58.293723",
     "status": "completed"
    },
    "tags": []
   },
   "outputs": [],
   "source": [
    "# distilbert_model = make_distilbert()\n",
    "# X_train, X_val, y_train, y_val = train_test_split(train['text'], train['target'], test_size=0.2, random_state=42)\n",
    "# X_test = test['text']"
   ]
  },
  {
   "cell_type": "code",
   "execution_count": 8,
   "id": "4e4bd8ea",
   "metadata": {
    "execution": {
     "iopub.execute_input": "2024-10-08T07:37:58.366596Z",
     "iopub.status.busy": "2024-10-08T07:37:58.366330Z",
     "iopub.status.idle": "2024-10-08T07:37:58.370272Z",
     "shell.execute_reply": "2024-10-08T07:37:58.369422Z"
    },
    "papermill": {
     "duration": 0.028145,
     "end_time": "2024-10-08T07:37:58.372087",
     "exception": false,
     "start_time": "2024-10-08T07:37:58.343942",
     "status": "completed"
    },
    "tags": []
   },
   "outputs": [],
   "source": [
    "# %%time\n",
    "# distilbert_compile(distilbert_model, plots=False)"
   ]
  },
  {
   "cell_type": "code",
   "execution_count": 9,
   "id": "f74ca305",
   "metadata": {
    "execution": {
     "iopub.execute_input": "2024-10-08T07:37:58.416273Z",
     "iopub.status.busy": "2024-10-08T07:37:58.416006Z",
     "iopub.status.idle": "2024-10-08T07:37:58.419848Z",
     "shell.execute_reply": "2024-10-08T07:37:58.418993Z"
    },
    "papermill": {
     "duration": 0.028193,
     "end_time": "2024-10-08T07:37:58.421787",
     "exception": false,
     "start_time": "2024-10-08T07:37:58.393594",
     "status": "completed"
    },
    "tags": []
   },
   "outputs": [],
   "source": [
    "# first_f1 = print_metrics(distilbert_model, X_train, X_test)"
   ]
  },
  {
   "cell_type": "markdown",
   "id": "90e27037",
   "metadata": {
    "papermill": {
     "duration": 0.021399,
     "end_time": "2024-10-08T07:37:58.464661",
     "exception": false,
     "start_time": "2024-10-08T07:37:58.443262",
     "status": "completed"
    },
    "tags": []
   },
   "source": [
    "##### **The mission is to make a model with better performance (greater f1 score) than above.**"
   ]
  },
  {
   "cell_type": "markdown",
   "id": "07228987",
   "metadata": {
    "papermill": {
     "duration": 0.02268,
     "end_time": "2024-10-08T07:37:58.509021",
     "exception": false,
     "start_time": "2024-10-08T07:37:58.486341",
     "status": "completed"
    },
    "tags": []
   },
   "source": [
    "# 1. EDA"
   ]
  },
  {
   "cell_type": "code",
   "execution_count": 10,
   "id": "ccd9593b",
   "metadata": {
    "execution": {
     "iopub.execute_input": "2024-10-08T07:37:58.554092Z",
     "iopub.status.busy": "2024-10-08T07:37:58.553474Z",
     "iopub.status.idle": "2024-10-08T07:37:58.574536Z",
     "shell.execute_reply": "2024-10-08T07:37:58.573711Z"
    },
    "papermill": {
     "duration": 0.045624,
     "end_time": "2024-10-08T07:37:58.576357",
     "exception": false,
     "start_time": "2024-10-08T07:37:58.530733",
     "status": "completed"
    },
    "tags": []
   },
   "outputs": [
    {
     "data": {
      "text/plain": [
       "(<bound method NDFrame.describe of          id keyword location  \\\n",
       " 0         1     NaN      NaN   \n",
       " 1         4     NaN      NaN   \n",
       " 2         5     NaN      NaN   \n",
       " 3         6     NaN      NaN   \n",
       " 4         7     NaN      NaN   \n",
       " ...     ...     ...      ...   \n",
       " 7608  10869     NaN      NaN   \n",
       " 7609  10870     NaN      NaN   \n",
       " 7610  10871     NaN      NaN   \n",
       " 7611  10872     NaN      NaN   \n",
       " 7612  10873     NaN      NaN   \n",
       " \n",
       "                                                    text  target  \n",
       " 0     Our Deeds are the Reason of this #earthquake M...       1  \n",
       " 1                Forest fire near La Ronge Sask. Canada       1  \n",
       " 2     All residents asked to 'shelter in place' are ...       1  \n",
       " 3     13,000 people receive #wildfires evacuation or...       1  \n",
       " 4     Just got sent this photo from Ruby #Alaska as ...       1  \n",
       " ...                                                 ...     ...  \n",
       " 7608  Two giant cranes holding a bridge collapse int...       1  \n",
       " 7609  @aria_ahrary @TheTawniest The out of control w...       1  \n",
       " 7610  M1.94 [01:04 UTC]?5km S of Volcano Hawaii. htt...       1  \n",
       " 7611  Police investigating after an e-bike collided ...       1  \n",
       " 7612  The Latest: More Homes Razed by Northern Calif...       1  \n",
       " \n",
       " [7613 rows x 5 columns]>,\n",
       " <bound method NDFrame.describe of          id keyword location  \\\n",
       " 0         0     NaN      NaN   \n",
       " 1         2     NaN      NaN   \n",
       " 2         3     NaN      NaN   \n",
       " 3         9     NaN      NaN   \n",
       " 4        11     NaN      NaN   \n",
       " ...     ...     ...      ...   \n",
       " 3258  10861     NaN      NaN   \n",
       " 3259  10865     NaN      NaN   \n",
       " 3260  10868     NaN      NaN   \n",
       " 3261  10874     NaN      NaN   \n",
       " 3262  10875     NaN      NaN   \n",
       " \n",
       "                                                    text  \n",
       " 0                    Just happened a terrible car crash  \n",
       " 1     Heard about #earthquake is different cities, s...  \n",
       " 2     there is a forest fire at spot pond, geese are...  \n",
       " 3              Apocalypse lighting. #Spokane #wildfires  \n",
       " 4         Typhoon Soudelor kills 28 in China and Taiwan  \n",
       " ...                                                 ...  \n",
       " 3258  EARTHQUAKE SAFETY LOS ANGELES ÛÒ SAFETY FASTE...  \n",
       " 3259  Storm in RI worse than last hurricane. My city...  \n",
       " 3260  Green Line derailment in Chicago http://t.co/U...  \n",
       " 3261  MEG issues Hazardous Weather Outlook (HWO) htt...  \n",
       " 3262  #CityofCalgary has activated its Municipal Eme...  \n",
       " \n",
       " [3263 rows x 4 columns]>)"
      ]
     },
     "execution_count": 10,
     "metadata": {},
     "output_type": "execute_result"
    }
   ],
   "source": [
    "train.describe, test.describe"
   ]
  },
  {
   "cell_type": "code",
   "execution_count": 11,
   "id": "f4ca0302",
   "metadata": {
    "execution": {
     "iopub.execute_input": "2024-10-08T07:37:58.621102Z",
     "iopub.status.busy": "2024-10-08T07:37:58.620794Z",
     "iopub.status.idle": "2024-10-08T07:37:58.632420Z",
     "shell.execute_reply": "2024-10-08T07:37:58.631550Z"
    },
    "papermill": {
     "duration": 0.036136,
     "end_time": "2024-10-08T07:37:58.634344",
     "exception": false,
     "start_time": "2024-10-08T07:37:58.598208",
     "status": "completed"
    },
    "tags": []
   },
   "outputs": [
    {
     "data": {
      "text/html": [
       "<div>\n",
       "<style scoped>\n",
       "    .dataframe tbody tr th:only-of-type {\n",
       "        vertical-align: middle;\n",
       "    }\n",
       "\n",
       "    .dataframe tbody tr th {\n",
       "        vertical-align: top;\n",
       "    }\n",
       "\n",
       "    .dataframe thead th {\n",
       "        text-align: right;\n",
       "    }\n",
       "</style>\n",
       "<table border=\"1\" class=\"dataframe\">\n",
       "  <thead>\n",
       "    <tr style=\"text-align: right;\">\n",
       "      <th></th>\n",
       "      <th>id</th>\n",
       "      <th>keyword</th>\n",
       "      <th>location</th>\n",
       "      <th>text</th>\n",
       "      <th>target</th>\n",
       "    </tr>\n",
       "  </thead>\n",
       "  <tbody>\n",
       "    <tr>\n",
       "      <th>0</th>\n",
       "      <td>1</td>\n",
       "      <td>NaN</td>\n",
       "      <td>NaN</td>\n",
       "      <td>Our Deeds are the Reason of this #earthquake M...</td>\n",
       "      <td>1</td>\n",
       "    </tr>\n",
       "    <tr>\n",
       "      <th>1</th>\n",
       "      <td>4</td>\n",
       "      <td>NaN</td>\n",
       "      <td>NaN</td>\n",
       "      <td>Forest fire near La Ronge Sask. Canada</td>\n",
       "      <td>1</td>\n",
       "    </tr>\n",
       "    <tr>\n",
       "      <th>2</th>\n",
       "      <td>5</td>\n",
       "      <td>NaN</td>\n",
       "      <td>NaN</td>\n",
       "      <td>All residents asked to 'shelter in place' are ...</td>\n",
       "      <td>1</td>\n",
       "    </tr>\n",
       "    <tr>\n",
       "      <th>3</th>\n",
       "      <td>6</td>\n",
       "      <td>NaN</td>\n",
       "      <td>NaN</td>\n",
       "      <td>13,000 people receive #wildfires evacuation or...</td>\n",
       "      <td>1</td>\n",
       "    </tr>\n",
       "    <tr>\n",
       "      <th>4</th>\n",
       "      <td>7</td>\n",
       "      <td>NaN</td>\n",
       "      <td>NaN</td>\n",
       "      <td>Just got sent this photo from Ruby #Alaska as ...</td>\n",
       "      <td>1</td>\n",
       "    </tr>\n",
       "  </tbody>\n",
       "</table>\n",
       "</div>"
      ],
      "text/plain": [
       "   id keyword location                                               text  \\\n",
       "0   1     NaN      NaN  Our Deeds are the Reason of this #earthquake M...   \n",
       "1   4     NaN      NaN             Forest fire near La Ronge Sask. Canada   \n",
       "2   5     NaN      NaN  All residents asked to 'shelter in place' are ...   \n",
       "3   6     NaN      NaN  13,000 people receive #wildfires evacuation or...   \n",
       "4   7     NaN      NaN  Just got sent this photo from Ruby #Alaska as ...   \n",
       "\n",
       "   target  \n",
       "0       1  \n",
       "1       1  \n",
       "2       1  \n",
       "3       1  \n",
       "4       1  "
      ]
     },
     "execution_count": 11,
     "metadata": {},
     "output_type": "execute_result"
    }
   ],
   "source": [
    "train.head()"
   ]
  },
  {
   "cell_type": "markdown",
   "id": "d0ca215f",
   "metadata": {
    "papermill": {
     "duration": 0.021749,
     "end_time": "2024-10-08T07:37:58.679169",
     "exception": false,
     "start_time": "2024-10-08T07:37:58.657420",
     "status": "completed"
    },
    "tags": []
   },
   "source": [
    "### Null values"
   ]
  },
  {
   "cell_type": "code",
   "execution_count": 12,
   "id": "fdd729a6",
   "metadata": {
    "execution": {
     "iopub.execute_input": "2024-10-08T07:37:58.724072Z",
     "iopub.status.busy": "2024-10-08T07:37:58.723748Z",
     "iopub.status.idle": "2024-10-08T07:37:58.737362Z",
     "shell.execute_reply": "2024-10-08T07:37:58.736150Z"
    },
    "papermill": {
     "duration": 0.038231,
     "end_time": "2024-10-08T07:37:58.739306",
     "exception": false,
     "start_time": "2024-10-08T07:37:58.701075",
     "status": "completed"
    },
    "tags": []
   },
   "outputs": [
    {
     "name": "stdout",
     "output_type": "stream",
     "text": [
      "Number of null values in id column: 0\n",
      "Number of null values in keyword column: 61\n",
      "Number of null values in location column: 2533\n",
      "Number of null values in text column: 0\n",
      "Number of null values in target column: 0\n"
     ]
    }
   ],
   "source": [
    "print(f\"Number of null values in id column: {sum(train['id'].isnull())}\")\n",
    "print(f\"Number of null values in keyword column: {sum(train['keyword'].isnull())}\")\n",
    "print(f\"Number of null values in location column: {sum(train['location'].isnull())}\")\n",
    "print(f\"Number of null values in text column: {sum(train['text'].isnull())}\")\n",
    "print(f\"Number of null values in target column: {sum(train['target'].isnull())}\")"
   ]
  },
  {
   "cell_type": "code",
   "execution_count": 13,
   "id": "0eee7a26",
   "metadata": {
    "execution": {
     "iopub.execute_input": "2024-10-08T07:37:58.784714Z",
     "iopub.status.busy": "2024-10-08T07:37:58.784398Z",
     "iopub.status.idle": "2024-10-08T07:37:58.792585Z",
     "shell.execute_reply": "2024-10-08T07:37:58.791742Z"
    },
    "papermill": {
     "duration": 0.033126,
     "end_time": "2024-10-08T07:37:58.794652",
     "exception": false,
     "start_time": "2024-10-08T07:37:58.761526",
     "status": "completed"
    },
    "tags": []
   },
   "outputs": [
    {
     "name": "stdout",
     "output_type": "stream",
     "text": [
      "Ratio of null values in keyword column: 0.008012610009194798\n",
      "Ratio of null values in location column: 0.33272034677525286\n"
     ]
    }
   ],
   "source": [
    "print(f\"Ratio of null values in keyword column: {sum(train['keyword'].isnull())/len(train)}\")\n",
    "print(f\"Ratio of null values in location column: {sum(train['location'].isnull())/len(train)}\")"
   ]
  },
  {
   "cell_type": "markdown",
   "id": "ac0fa462",
   "metadata": {
    "papermill": {
     "duration": 0.023103,
     "end_time": "2024-10-08T07:37:58.840033",
     "exception": false,
     "start_time": "2024-10-08T07:37:58.816930",
     "status": "completed"
    },
    "tags": []
   },
   "source": [
    "# 2. Preprocessing"
   ]
  },
  {
   "cell_type": "markdown",
   "id": "465559bc",
   "metadata": {
    "papermill": {
     "duration": 0.021765,
     "end_time": "2024-10-08T07:37:58.884021",
     "exception": false,
     "start_time": "2024-10-08T07:37:58.862256",
     "status": "completed"
    },
    "tags": []
   },
   "source": [
    "### Remove complete duplicates from training dataset"
   ]
  },
  {
   "cell_type": "code",
   "execution_count": 14,
   "id": "b604fcbf",
   "metadata": {
    "execution": {
     "iopub.execute_input": "2024-10-08T07:37:58.929637Z",
     "iopub.status.busy": "2024-10-08T07:37:58.929333Z",
     "iopub.status.idle": "2024-10-08T07:37:58.947474Z",
     "shell.execute_reply": "2024-10-08T07:37:58.946823Z"
    },
    "papermill": {
     "duration": 0.043149,
     "end_time": "2024-10-08T07:37:58.949360",
     "exception": false,
     "start_time": "2024-10-08T07:37:58.906211",
     "status": "completed"
    },
    "tags": []
   },
   "outputs": [],
   "source": [
    "train = train.loc[train.drop('id', axis=1).drop_duplicates().index]"
   ]
  },
  {
   "cell_type": "markdown",
   "id": "2da48ce7",
   "metadata": {
    "papermill": {
     "duration": 0.022277,
     "end_time": "2024-10-08T07:37:58.994248",
     "exception": false,
     "start_time": "2024-10-08T07:37:58.971971",
     "status": "completed"
    },
    "tags": []
   },
   "source": [
    "### Remove duplicates and modify wrong labels "
   ]
  },
  {
   "cell_type": "markdown",
   "id": "99b6a5bf",
   "metadata": {
    "papermill": {
     "duration": 0.022024,
     "end_time": "2024-10-08T07:37:59.038566",
     "exception": false,
     "start_time": "2024-10-08T07:37:59.016542",
     "status": "completed"
    },
    "tags": []
   },
   "source": [
    "#### Text duplicates"
   ]
  },
  {
   "cell_type": "code",
   "execution_count": 15,
   "id": "99b55ecc",
   "metadata": {
    "execution": {
     "iopub.execute_input": "2024-10-08T07:37:59.084286Z",
     "iopub.status.busy": "2024-10-08T07:37:59.083950Z",
     "iopub.status.idle": "2024-10-08T07:38:00.463908Z",
     "shell.execute_reply": "2024-10-08T07:38:00.463066Z"
    },
    "papermill": {
     "duration": 1.405477,
     "end_time": "2024-10-08T07:38:00.466265",
     "exception": false,
     "start_time": "2024-10-08T07:37:59.060788",
     "status": "completed"
    },
    "tags": []
   },
   "outputs": [],
   "source": [
    "duplicates = train.groupby('text').size()\n",
    "duplicates = duplicates[duplicates>1]\n",
    "duplicates_df = train[train.text.isin(duplicates.index)]\n",
    "\n",
    "# relabel\n",
    "modify_texts = []\n",
    "for index, row in duplicates_df.iterrows():\n",
    "    for index2, row2 in duplicates_df.iterrows():\n",
    "        if (not index==index2) and (row['text']==row2['text']) and (not row['target']==row2['target']):\n",
    "            if not row['text'] in modify_texts:\n",
    "                modify_texts.append(row['text'])\n",
    "modify_map = {}\n",
    "targets = [0,0,0,0,1,0,1,0,1,0,0,0,0,1,1,0,0,0]\n",
    "for index, text in enumerate(modify_texts):\n",
    "    modify_map[text] = targets[index]\n",
    "    \n",
    "def apply_modify_map(row):\n",
    "    if row['text'] in modify_map.values():\n",
    "        row['target'] = modify_map[row['text']]\n",
    "    return row\n",
    "\n",
    "train = train.apply(apply_modify_map, axis=1)\n",
    "train = train.loc[train.drop('id', axis=1).drop_duplicates().index]"
   ]
  },
  {
   "cell_type": "markdown",
   "id": "c99bde70",
   "metadata": {
    "papermill": {
     "duration": 0.023578,
     "end_time": "2024-10-08T07:38:00.512477",
     "exception": false,
     "start_time": "2024-10-08T07:38:00.488899",
     "status": "completed"
    },
    "tags": []
   },
   "source": [
    "#### Manual modification for confusing words"
   ]
  },
  {
   "cell_type": "code",
   "execution_count": 16,
   "id": "0db1ce1a",
   "metadata": {
    "execution": {
     "iopub.execute_input": "2024-10-08T07:38:00.558458Z",
     "iopub.status.busy": "2024-10-08T07:38:00.558101Z",
     "iopub.status.idle": "2024-10-08T07:38:00.563368Z",
     "shell.execute_reply": "2024-10-08T07:38:00.562656Z"
    },
    "papermill": {
     "duration": 0.030539,
     "end_time": "2024-10-08T07:38:00.565307",
     "exception": false,
     "start_time": "2024-10-08T07:38:00.534768",
     "status": "completed"
    },
    "tags": []
   },
   "outputs": [],
   "source": [
    "# from nltk.stem import WordNetLemmatizer\n",
    "# pd.set_option('display.max_colwidth', None)\n",
    "\n",
    "# lem = WordNetLemmatizer()\n",
    "# confusing_words = ['crush', 'crash', 'devastate', 'lava', 'injury', 'storm', 'abortion']\n",
    "# temp_train = train.copy()\n",
    "# temp_train['text'] = train['text'].apply(lambda text: ' '.join([lem.lemmatize(word) for word in text.split()]))\n",
    "# temp_index = [temp_train[temp_train['text'].str.contains(word)].index.to_list() for word in confusing_words]\n",
    "# temp_index = list(set(list(np.concatenate(temp_index))))\n",
    "# temp_train = train.loc[temp_index]\n",
    "# temp_train[temp_train['target']==1]"
   ]
  },
  {
   "cell_type": "code",
   "execution_count": 17,
   "id": "98bc48d9",
   "metadata": {
    "execution": {
     "iopub.execute_input": "2024-10-08T07:38:00.611427Z",
     "iopub.status.busy": "2024-10-08T07:38:00.611147Z",
     "iopub.status.idle": "2024-10-08T07:38:00.617088Z",
     "shell.execute_reply": "2024-10-08T07:38:00.616274Z"
    },
    "papermill": {
     "duration": 0.031448,
     "end_time": "2024-10-08T07:38:00.619009",
     "exception": false,
     "start_time": "2024-10-08T07:38:00.587561",
     "status": "completed"
    },
    "tags": []
   },
   "outputs": [],
   "source": [
    "# Found a few tweets that are classified as 1 but should be 0\n",
    "train.loc[train['id'].isin([328,443,513,2657,2619,2664,2692,2723,2743,2835,3640,3900,4342,5781,6552,6554,6570,6701,6702,6729,6861,7226]), 'target'] = 0"
   ]
  },
  {
   "cell_type": "markdown",
   "id": "ef3e73d4",
   "metadata": {
    "papermill": {
     "duration": 0.021982,
     "end_time": "2024-10-08T07:38:00.663380",
     "exception": false,
     "start_time": "2024-10-08T07:38:00.641398",
     "status": "completed"
    },
    "tags": []
   },
   "source": [
    "### Text Cleaning"
   ]
  },
  {
   "cell_type": "markdown",
   "id": "9c16619d",
   "metadata": {
    "papermill": {
     "duration": 0.022082,
     "end_time": "2024-10-08T07:38:00.707493",
     "exception": false,
     "start_time": "2024-10-08T07:38:00.685411",
     "status": "completed"
    },
    "tags": []
   },
   "source": [
    "##### The function \"clean\" is a code segment from [this notebook](https://www.kaggle.com/code/gunesevitan/nlp-with-disaster-tweets-eda-cleaning-and-bert/notebook) by [Gunes Evitan](https://www.kaggle.com/gunesevitan)."
   ]
  },
  {
   "cell_type": "code",
   "execution_count": 18,
   "id": "e62ecf11",
   "metadata": {
    "execution": {
     "iopub.execute_input": "2024-10-08T07:38:00.753921Z",
     "iopub.status.busy": "2024-10-08T07:38:00.753592Z",
     "iopub.status.idle": "2024-10-08T07:44:57.164617Z",
     "shell.execute_reply": "2024-10-08T07:44:57.163646Z"
    },
    "papermill": {
     "duration": 416.459062,
     "end_time": "2024-10-08T07:44:57.188624",
     "exception": false,
     "start_time": "2024-10-08T07:38:00.729562",
     "status": "completed"
    },
    "tags": []
   },
   "outputs": [
    {
     "name": "stdout",
     "output_type": "stream",
     "text": [
      "CPU times: user 6min 56s, sys: 107 ms, total: 6min 56s\n",
      "Wall time: 6min 56s\n"
     ]
    }
   ],
   "source": [
    "%%time\n",
    "\n",
    "def clean(tweet): \n",
    "            \n",
    "    # Special characters\n",
    "    tweet = re.sub(r\"\\x89Û_\", \"\", tweet)\n",
    "    tweet = re.sub(r\"\\x89ÛÒ\", \"\", tweet)\n",
    "    tweet = re.sub(r\"\\x89ÛÓ\", \"\", tweet)\n",
    "    tweet = re.sub(r\"\\x89ÛÏWhen\", \"When\", tweet)\n",
    "    tweet = re.sub(r\"\\x89ÛÏ\", \"\", tweet)\n",
    "    tweet = re.sub(r\"China\\x89Ûªs\", \"China's\", tweet)\n",
    "    tweet = re.sub(r\"let\\x89Ûªs\", \"let's\", tweet)\n",
    "    tweet = re.sub(r\"\\x89Û÷\", \"\", tweet)\n",
    "    tweet = re.sub(r\"\\x89Ûª\", \"\", tweet)\n",
    "    tweet = re.sub(r\"\\x89Û\\x9d\", \"\", tweet)\n",
    "    tweet = re.sub(r\"å_\", \"\", tweet)\n",
    "    tweet = re.sub(r\"\\x89Û¢\", \"\", tweet)\n",
    "    tweet = re.sub(r\"\\x89Û¢åÊ\", \"\", tweet)\n",
    "    tweet = re.sub(r\"fromåÊwounds\", \"from wounds\", tweet)\n",
    "    tweet = re.sub(r\"åÊ\", \"\", tweet)\n",
    "    tweet = re.sub(r\"åÈ\", \"\", tweet)\n",
    "    tweet = re.sub(r\"JapÌ_n\", \"Japan\", tweet)    \n",
    "    tweet = re.sub(r\"Ì©\", \"e\", tweet)\n",
    "    tweet = re.sub(r\"å¨\", \"\", tweet)\n",
    "    tweet = re.sub(r\"SuruÌ¤\", \"Suruc\", tweet)\n",
    "    tweet = re.sub(r\"åÇ\", \"\", tweet)\n",
    "    tweet = re.sub(r\"å£3million\", \"3 million\", tweet)\n",
    "    tweet = re.sub(r\"åÀ\", \"\", tweet)\n",
    "    \n",
    "    # Contractions\n",
    "    tweet = re.sub(r\"he's\", \"he is\", tweet)\n",
    "    tweet = re.sub(r\"there's\", \"there is\", tweet)\n",
    "    tweet = re.sub(r\"We're\", \"We are\", tweet)\n",
    "    tweet = re.sub(r\"That's\", \"That is\", tweet)\n",
    "    tweet = re.sub(r\"won't\", \"will not\", tweet)\n",
    "    tweet = re.sub(r\"they're\", \"they are\", tweet)\n",
    "    tweet = re.sub(r\"Can't\", \"Cannot\", tweet)\n",
    "    tweet = re.sub(r\"wasn't\", \"was not\", tweet)\n",
    "    tweet = re.sub(r\"don\\x89Ûªt\", \"do not\", tweet)\n",
    "    tweet = re.sub(r\"aren't\", \"are not\", tweet)\n",
    "    tweet = re.sub(r\"isn't\", \"is not\", tweet)\n",
    "    tweet = re.sub(r\"What's\", \"What is\", tweet)\n",
    "    tweet = re.sub(r\"haven't\", \"have not\", tweet)\n",
    "    tweet = re.sub(r\"hasn't\", \"has not\", tweet)\n",
    "    tweet = re.sub(r\"There's\", \"There is\", tweet)\n",
    "    tweet = re.sub(r\"He's\", \"He is\", tweet)\n",
    "    tweet = re.sub(r\"It's\", \"It is\", tweet)\n",
    "    tweet = re.sub(r\"You're\", \"You are\", tweet)\n",
    "    tweet = re.sub(r\"I'M\", \"I am\", tweet)\n",
    "    tweet = re.sub(r\"shouldn't\", \"should not\", tweet)\n",
    "    tweet = re.sub(r\"wouldn't\", \"would not\", tweet)\n",
    "    tweet = re.sub(r\"i'm\", \"I am\", tweet)\n",
    "    tweet = re.sub(r\"I\\x89Ûªm\", \"I am\", tweet)\n",
    "    tweet = re.sub(r\"I'm\", \"I am\", tweet)\n",
    "    tweet = re.sub(r\"Isn't\", \"is not\", tweet)\n",
    "    tweet = re.sub(r\"Here's\", \"Here is\", tweet)\n",
    "    tweet = re.sub(r\"you've\", \"you have\", tweet)\n",
    "    tweet = re.sub(r\"you\\x89Ûªve\", \"you have\", tweet)\n",
    "    tweet = re.sub(r\"we're\", \"we are\", tweet)\n",
    "    tweet = re.sub(r\"what's\", \"what is\", tweet)\n",
    "    tweet = re.sub(r\"couldn't\", \"could not\", tweet)\n",
    "    tweet = re.sub(r\"we've\", \"we have\", tweet)\n",
    "    tweet = re.sub(r\"it\\x89Ûªs\", \"it is\", tweet)\n",
    "    tweet = re.sub(r\"doesn\\x89Ûªt\", \"does not\", tweet)\n",
    "    tweet = re.sub(r\"It\\x89Ûªs\", \"It is\", tweet)\n",
    "    tweet = re.sub(r\"Here\\x89Ûªs\", \"Here is\", tweet)\n",
    "    tweet = re.sub(r\"who's\", \"who is\", tweet)\n",
    "    tweet = re.sub(r\"I\\x89Ûªve\", \"I have\", tweet)\n",
    "    tweet = re.sub(r\"y'all\", \"you all\", tweet)\n",
    "    tweet = re.sub(r\"can\\x89Ûªt\", \"cannot\", tweet)\n",
    "    tweet = re.sub(r\"would've\", \"would have\", tweet)\n",
    "    tweet = re.sub(r\"it'll\", \"it will\", tweet)\n",
    "    tweet = re.sub(r\"we'll\", \"we will\", tweet)\n",
    "    tweet = re.sub(r\"wouldn\\x89Ûªt\", \"would not\", tweet)\n",
    "    tweet = re.sub(r\"We've\", \"We have\", tweet)\n",
    "    tweet = re.sub(r\"he'll\", \"he will\", tweet)\n",
    "    tweet = re.sub(r\"Y'all\", \"You all\", tweet)\n",
    "    tweet = re.sub(r\"Weren't\", \"Were not\", tweet)\n",
    "    tweet = re.sub(r\"Didn't\", \"Did not\", tweet)\n",
    "    tweet = re.sub(r\"they'll\", \"they will\", tweet)\n",
    "    tweet = re.sub(r\"they'd\", \"they would\", tweet)\n",
    "    tweet = re.sub(r\"DON'T\", \"DO NOT\", tweet)\n",
    "    tweet = re.sub(r\"That\\x89Ûªs\", \"That is\", tweet)\n",
    "    tweet = re.sub(r\"they've\", \"they have\", tweet)\n",
    "    tweet = re.sub(r\"i'd\", \"I would\", tweet)\n",
    "    tweet = re.sub(r\"should've\", \"should have\", tweet)\n",
    "    tweet = re.sub(r\"You\\x89Ûªre\", \"You are\", tweet)\n",
    "    tweet = re.sub(r\"where's\", \"where is\", tweet)\n",
    "    tweet = re.sub(r\"Don\\x89Ûªt\", \"Do not\", tweet)\n",
    "    tweet = re.sub(r\"we'd\", \"we would\", tweet)\n",
    "    tweet = re.sub(r\"i'll\", \"I will\", tweet)\n",
    "    tweet = re.sub(r\"weren't\", \"were not\", tweet)\n",
    "    tweet = re.sub(r\"They're\", \"They are\", tweet)\n",
    "    tweet = re.sub(r\"Can\\x89Ûªt\", \"Cannot\", tweet)\n",
    "    tweet = re.sub(r\"you\\x89Ûªll\", \"you will\", tweet)\n",
    "    tweet = re.sub(r\"I\\x89Ûªd\", \"I would\", tweet)\n",
    "    tweet = re.sub(r\"let's\", \"let us\", tweet)\n",
    "    tweet = re.sub(r\"it's\", \"it is\", tweet)\n",
    "    tweet = re.sub(r\"can't\", \"cannot\", tweet)\n",
    "    tweet = re.sub(r\"don't\", \"do not\", tweet)\n",
    "    tweet = re.sub(r\"you're\", \"you are\", tweet)\n",
    "    tweet = re.sub(r\"i've\", \"I have\", tweet)\n",
    "    tweet = re.sub(r\"that's\", \"that is\", tweet)\n",
    "    tweet = re.sub(r\"i'll\", \"I will\", tweet)\n",
    "    tweet = re.sub(r\"doesn't\", \"does not\", tweet)\n",
    "    tweet = re.sub(r\"i'd\", \"I would\", tweet)\n",
    "    tweet = re.sub(r\"didn't\", \"did not\", tweet)\n",
    "    tweet = re.sub(r\"ain't\", \"am not\", tweet)\n",
    "    tweet = re.sub(r\"you'll\", \"you will\", tweet)\n",
    "    tweet = re.sub(r\"I've\", \"I have\", tweet)\n",
    "    tweet = re.sub(r\"Don't\", \"do not\", tweet)\n",
    "    tweet = re.sub(r\"I'll\", \"I will\", tweet)\n",
    "    tweet = re.sub(r\"I'd\", \"I would\", tweet)\n",
    "    tweet = re.sub(r\"Let's\", \"Let us\", tweet)\n",
    "    tweet = re.sub(r\"you'd\", \"You would\", tweet)\n",
    "    tweet = re.sub(r\"It's\", \"It is\", tweet)\n",
    "    tweet = re.sub(r\"Ain't\", \"am not\", tweet)\n",
    "    tweet = re.sub(r\"Haven't\", \"Have not\", tweet)\n",
    "    tweet = re.sub(r\"Could've\", \"Could have\", tweet)\n",
    "    tweet = re.sub(r\"youve\", \"you have\", tweet)  \n",
    "    tweet = re.sub(r\"donå«t\", \"do not\", tweet)   \n",
    "            \n",
    "    # Character entity references\n",
    "    tweet = re.sub(r\"&gt;\", \">\", tweet)\n",
    "    tweet = re.sub(r\"&lt;\", \"<\", tweet)\n",
    "    tweet = re.sub(r\"&amp;\", \"&\", tweet)\n",
    "    \n",
    "    # Typos, slang and informal abbreviations\n",
    "    tweet = re.sub(r\"w/e\", \"whatever\", tweet)\n",
    "    tweet = re.sub(r\"w/\", \"with\", tweet)\n",
    "    tweet = re.sub(r\"USAgov\", \"USA government\", tweet)\n",
    "    tweet = re.sub(r\"recentlu\", \"recently\", tweet)\n",
    "    tweet = re.sub(r\"Ph0tos\", \"Photos\", tweet)\n",
    "    tweet = re.sub(r\"amirite\", \"am I right\", tweet)\n",
    "    tweet = re.sub(r\"exp0sed\", \"exposed\", tweet)\n",
    "    tweet = re.sub(r\"<3\", \"love\", tweet)\n",
    "    tweet = re.sub(r\"amageddon\", \"armageddon\", tweet)\n",
    "    tweet = re.sub(r\"Trfc\", \"Traffic\", tweet)\n",
    "    tweet = re.sub(r\"8/5/2015\", \"2015-08-05\", tweet)\n",
    "    tweet = re.sub(r\"WindStorm\", \"Wind Storm\", tweet)\n",
    "    tweet = re.sub(r\"8/6/2015\", \"2015-08-06\", tweet)\n",
    "    tweet = re.sub(r\"10:38PM\", \"10:38 PM\", tweet)\n",
    "    tweet = re.sub(r\"10:30pm\", \"10:30 PM\", tweet)\n",
    "    tweet = re.sub(r\"16yr\", \"16 year\", tweet)\n",
    "    tweet = re.sub(r\"lmao\", \"laughing my ass off\", tweet)   \n",
    "    tweet = re.sub(r\"TRAUMATISED\", \"traumatized\", tweet)\n",
    "    \n",
    "    # Hashtags and usernames\n",
    "    tweet = re.sub(r\"IranDeal\", \"Iran Deal\", tweet)\n",
    "    tweet = re.sub(r\"ArianaGrande\", \"Ariana Grande\", tweet)\n",
    "    tweet = re.sub(r\"camilacabello97\", \"camila cabello\", tweet) \n",
    "    tweet = re.sub(r\"RondaRousey\", \"Ronda Rousey\", tweet)     \n",
    "    tweet = re.sub(r\"MTVHottest\", \"MTV Hottest\", tweet)\n",
    "    tweet = re.sub(r\"TrapMusic\", \"Trap Music\", tweet)\n",
    "    tweet = re.sub(r\"ProphetMuhammad\", \"Prophet Muhammad\", tweet)\n",
    "    tweet = re.sub(r\"PantherAttack\", \"Panther Attack\", tweet)\n",
    "    tweet = re.sub(r\"StrategicPatience\", \"Strategic Patience\", tweet)\n",
    "    tweet = re.sub(r\"socialnews\", \"social news\", tweet)\n",
    "    tweet = re.sub(r\"NASAHurricane\", \"NASA Hurricane\", tweet)\n",
    "    tweet = re.sub(r\"onlinecommunities\", \"online communities\", tweet)\n",
    "    tweet = re.sub(r\"humanconsumption\", \"human consumption\", tweet)\n",
    "    tweet = re.sub(r\"Typhoon-Devastated\", \"Typhoon Devastated\", tweet)\n",
    "    tweet = re.sub(r\"Meat-Loving\", \"Meat Loving\", tweet)\n",
    "    tweet = re.sub(r\"facialabuse\", \"facial abuse\", tweet)\n",
    "    tweet = re.sub(r\"LakeCounty\", \"Lake County\", tweet)\n",
    "    tweet = re.sub(r\"BeingAuthor\", \"Being Author\", tweet)\n",
    "    tweet = re.sub(r\"withheavenly\", \"with heavenly\", tweet)\n",
    "    tweet = re.sub(r\"thankU\", \"thank you\", tweet)\n",
    "    tweet = re.sub(r\"iTunesMusic\", \"iTunes Music\", tweet)\n",
    "    tweet = re.sub(r\"OffensiveContent\", \"Offensive Content\", tweet)\n",
    "    tweet = re.sub(r\"WorstSummerJob\", \"Worst Summer Job\", tweet)\n",
    "    tweet = re.sub(r\"HarryBeCareful\", \"Harry Be Careful\", tweet)\n",
    "    tweet = re.sub(r\"NASASolarSystem\", \"NASA Solar System\", tweet)\n",
    "    tweet = re.sub(r\"animalrescue\", \"animal rescue\", tweet)\n",
    "    tweet = re.sub(r\"KurtSchlichter\", \"Kurt Schlichter\", tweet)\n",
    "    tweet = re.sub(r\"aRmageddon\", \"armageddon\", tweet)\n",
    "    tweet = re.sub(r\"Throwingknifes\", \"Throwing knives\", tweet)\n",
    "    tweet = re.sub(r\"GodsLove\", \"God's Love\", tweet)\n",
    "    tweet = re.sub(r\"bookboost\", \"book boost\", tweet)\n",
    "    tweet = re.sub(r\"ibooklove\", \"I book love\", tweet)\n",
    "    tweet = re.sub(r\"NestleIndia\", \"Nestle India\", tweet)\n",
    "    tweet = re.sub(r\"realDonaldTrump\", \"Donald Trump\", tweet)\n",
    "    tweet = re.sub(r\"DavidVonderhaar\", \"David Vonderhaar\", tweet)\n",
    "    tweet = re.sub(r\"CecilTheLion\", \"Cecil The Lion\", tweet)\n",
    "    tweet = re.sub(r\"weathernetwork\", \"weather network\", tweet)\n",
    "    tweet = re.sub(r\"withBioterrorism&use\", \"with Bioterrorism & use\", tweet)\n",
    "    tweet = re.sub(r\"Hostage&2\", \"Hostage & 2\", tweet)\n",
    "    tweet = re.sub(r\"GOPDebate\", \"GOP Debate\", tweet)\n",
    "    tweet = re.sub(r\"RickPerry\", \"Rick Perry\", tweet)\n",
    "    tweet = re.sub(r\"frontpage\", \"front page\", tweet)\n",
    "    tweet = re.sub(r\"NewsInTweets\", \"News In Tweets\", tweet)\n",
    "    tweet = re.sub(r\"ViralSpell\", \"Viral Spell\", tweet)\n",
    "    tweet = re.sub(r\"til_now\", \"until now\", tweet)\n",
    "    tweet = re.sub(r\"volcanoinRussia\", \"volcano in Russia\", tweet)\n",
    "    tweet = re.sub(r\"ZippedNews\", \"Zipped News\", tweet)\n",
    "    tweet = re.sub(r\"MicheleBachman\", \"Michele Bachman\", tweet)\n",
    "    tweet = re.sub(r\"53inch\", \"53 inch\", tweet)\n",
    "    tweet = re.sub(r\"KerrickTrial\", \"Kerrick Trial\", tweet)\n",
    "    tweet = re.sub(r\"abstorm\", \"Alberta Storm\", tweet)\n",
    "    tweet = re.sub(r\"Beyhive\", \"Beyonce hive\", tweet)\n",
    "    tweet = re.sub(r\"IDFire\", \"Idaho Fire\", tweet)\n",
    "    tweet = re.sub(r\"DETECTADO\", \"Detected\", tweet)\n",
    "    tweet = re.sub(r\"RockyFire\", \"Rocky Fire\", tweet)\n",
    "    tweet = re.sub(r\"Listen/Buy\", \"Listen / Buy\", tweet)\n",
    "    tweet = re.sub(r\"NickCannon\", \"Nick Cannon\", tweet)\n",
    "    tweet = re.sub(r\"FaroeIslands\", \"Faroe Islands\", tweet)\n",
    "    tweet = re.sub(r\"yycstorm\", \"Calgary Storm\", tweet)\n",
    "    tweet = re.sub(r\"IDPs:\", \"Internally Displaced People :\", tweet)\n",
    "    tweet = re.sub(r\"ArtistsUnited\", \"Artists United\", tweet)\n",
    "    tweet = re.sub(r\"ClaytonBryant\", \"Clayton Bryant\", tweet)\n",
    "    tweet = re.sub(r\"jimmyfallon\", \"jimmy fallon\", tweet)\n",
    "    tweet = re.sub(r\"justinbieber\", \"justin bieber\", tweet)  \n",
    "    tweet = re.sub(r\"UTC2015\", \"UTC 2015\", tweet)\n",
    "    tweet = re.sub(r\"Time2015\", \"Time 2015\", tweet)\n",
    "    tweet = re.sub(r\"djicemoon\", \"dj icemoon\", tweet)\n",
    "    tweet = re.sub(r\"LivingSafely\", \"Living Safely\", tweet)\n",
    "    tweet = re.sub(r\"FIFA16\", \"Fifa 2016\", tweet)\n",
    "    tweet = re.sub(r\"thisiswhywecanthavenicethings\", \"this is why we cannot have nice things\", tweet)\n",
    "    tweet = re.sub(r\"bbcnews\", \"bbc news\", tweet)\n",
    "    tweet = re.sub(r\"UndergroundRailraod\", \"Underground Railraod\", tweet)\n",
    "    tweet = re.sub(r\"c4news\", \"c4 news\", tweet)\n",
    "    tweet = re.sub(r\"OBLITERATION\", \"obliteration\", tweet)\n",
    "    tweet = re.sub(r\"MUDSLIDE\", \"mudslide\", tweet)\n",
    "    tweet = re.sub(r\"NoSurrender\", \"No Surrender\", tweet)\n",
    "    tweet = re.sub(r\"NotExplained\", \"Not Explained\", tweet)\n",
    "    tweet = re.sub(r\"greatbritishbakeoff\", \"great british bake off\", tweet)\n",
    "    tweet = re.sub(r\"LondonFire\", \"London Fire\", tweet)\n",
    "    tweet = re.sub(r\"KOTAWeather\", \"KOTA Weather\", tweet)\n",
    "    tweet = re.sub(r\"LuchaUnderground\", \"Lucha Underground\", tweet)\n",
    "    tweet = re.sub(r\"KOIN6News\", \"KOIN 6 News\", tweet)\n",
    "    tweet = re.sub(r\"LiveOnK2\", \"Live On K2\", tweet)\n",
    "    tweet = re.sub(r\"9NewsGoldCoast\", \"9 News Gold Coast\", tweet)\n",
    "    tweet = re.sub(r\"nikeplus\", \"nike plus\", tweet)\n",
    "    tweet = re.sub(r\"david_cameron\", \"David Cameron\", tweet)\n",
    "    tweet = re.sub(r\"peterjukes\", \"Peter Jukes\", tweet)\n",
    "    tweet = re.sub(r\"JamesMelville\", \"James Melville\", tweet)\n",
    "    tweet = re.sub(r\"megynkelly\", \"Megyn Kelly\", tweet)\n",
    "    tweet = re.sub(r\"cnewslive\", \"C News Live\", tweet)\n",
    "    tweet = re.sub(r\"JamaicaObserver\", \"Jamaica Observer\", tweet)\n",
    "    tweet = re.sub(r\"TweetLikeItsSeptember11th2001\", \"Tweet like it is september 11th 2001\", tweet)\n",
    "    tweet = re.sub(r\"cbplawyers\", \"cbp lawyers\", tweet)\n",
    "    tweet = re.sub(r\"fewmoretweets\", \"few more tweets\", tweet)\n",
    "    tweet = re.sub(r\"BlackLivesMatter\", \"Black Lives Matter\", tweet)\n",
    "    tweet = re.sub(r\"cjoyner\", \"Chris Joyner\", tweet)\n",
    "    tweet = re.sub(r\"ENGvAUS\", \"England vs Australia\", tweet)\n",
    "    tweet = re.sub(r\"ScottWalker\", \"Scott Walker\", tweet)\n",
    "    tweet = re.sub(r\"MikeParrActor\", \"Michael Parr\", tweet)\n",
    "    tweet = re.sub(r\"4PlayThursdays\", \"Foreplay Thursdays\", tweet)\n",
    "    tweet = re.sub(r\"TGF2015\", \"Tontitown Grape Festival\", tweet)\n",
    "    tweet = re.sub(r\"realmandyrain\", \"Mandy Rain\", tweet)\n",
    "    tweet = re.sub(r\"GraysonDolan\", \"Grayson Dolan\", tweet)\n",
    "    tweet = re.sub(r\"ApolloBrown\", \"Apollo Brown\", tweet)\n",
    "    tweet = re.sub(r\"saddlebrooke\", \"Saddlebrooke\", tweet)\n",
    "    tweet = re.sub(r\"TontitownGrape\", \"Tontitown Grape\", tweet)\n",
    "    tweet = re.sub(r\"AbbsWinston\", \"Abbs Winston\", tweet)\n",
    "    tweet = re.sub(r\"ShaunKing\", \"Shaun King\", tweet)\n",
    "    tweet = re.sub(r\"MeekMill\", \"Meek Mill\", tweet)\n",
    "    tweet = re.sub(r\"TornadoGiveaway\", \"Tornado Giveaway\", tweet)\n",
    "    tweet = re.sub(r\"GRupdates\", \"GR updates\", tweet)\n",
    "    tweet = re.sub(r\"SouthDowns\", \"South Downs\", tweet)\n",
    "    tweet = re.sub(r\"braininjury\", \"brain injury\", tweet)\n",
    "    tweet = re.sub(r\"auspol\", \"Australian politics\", tweet)\n",
    "    tweet = re.sub(r\"PlannedParenthood\", \"Planned Parenthood\", tweet)\n",
    "    tweet = re.sub(r\"calgaryweather\", \"Calgary Weather\", tweet)\n",
    "    tweet = re.sub(r\"weallheartonedirection\", \"we all heart one direction\", tweet)\n",
    "    tweet = re.sub(r\"edsheeran\", \"Ed Sheeran\", tweet)\n",
    "    tweet = re.sub(r\"TrueHeroes\", \"True Heroes\", tweet)\n",
    "    tweet = re.sub(r\"S3XLEAK\", \"sex leak\", tweet)\n",
    "    tweet = re.sub(r\"ComplexMag\", \"Complex Magazine\", tweet)\n",
    "    tweet = re.sub(r\"TheAdvocateMag\", \"The Advocate Magazine\", tweet)\n",
    "    tweet = re.sub(r\"CityofCalgary\", \"City of Calgary\", tweet)\n",
    "    tweet = re.sub(r\"EbolaOutbreak\", \"Ebola Outbreak\", tweet)\n",
    "    tweet = re.sub(r\"SummerFate\", \"Summer Fate\", tweet)\n",
    "    tweet = re.sub(r\"RAmag\", \"Royal Academy Magazine\", tweet)\n",
    "    tweet = re.sub(r\"offers2go\", \"offers to go\", tweet)\n",
    "    tweet = re.sub(r\"foodscare\", \"food scare\", tweet)\n",
    "    tweet = re.sub(r\"MNPDNashville\", \"Metropolitan Nashville Police Department\", tweet)\n",
    "    tweet = re.sub(r\"TfLBusAlerts\", \"TfL Bus Alerts\", tweet)\n",
    "    tweet = re.sub(r\"GamerGate\", \"Gamer Gate\", tweet)\n",
    "    tweet = re.sub(r\"IHHen\", \"Humanitarian Relief\", tweet)\n",
    "    tweet = re.sub(r\"spinningbot\", \"spinning bot\", tweet)\n",
    "    tweet = re.sub(r\"ModiMinistry\", \"Modi Ministry\", tweet)\n",
    "    tweet = re.sub(r\"TAXIWAYS\", \"taxi ways\", tweet)\n",
    "    tweet = re.sub(r\"Calum5SOS\", \"Calum Hood\", tweet)\n",
    "    tweet = re.sub(r\"po_st\", \"po.st\", tweet)\n",
    "    tweet = re.sub(r\"scoopit\", \"scoop.it\", tweet)\n",
    "    tweet = re.sub(r\"UltimaLucha\", \"Ultima Lucha\", tweet)\n",
    "    tweet = re.sub(r\"JonathanFerrell\", \"Jonathan Ferrell\", tweet)\n",
    "    tweet = re.sub(r\"aria_ahrary\", \"Aria Ahrary\", tweet)\n",
    "    tweet = re.sub(r\"rapidcity\", \"Rapid City\", tweet)\n",
    "    tweet = re.sub(r\"OutBid\", \"outbid\", tweet)\n",
    "    tweet = re.sub(r\"lavenderpoetrycafe\", \"lavender poetry cafe\", tweet)\n",
    "    tweet = re.sub(r\"EudryLantiqua\", \"Eudry Lantiqua\", tweet)\n",
    "    tweet = re.sub(r\"15PM\", \"15 PM\", tweet)\n",
    "    tweet = re.sub(r\"OriginalFunko\", \"Funko\", tweet)\n",
    "    tweet = re.sub(r\"rightwaystan\", \"Richard Tan\", tweet)\n",
    "    tweet = re.sub(r\"CindyNoonan\", \"Cindy Noonan\", tweet)\n",
    "    tweet = re.sub(r\"RT_America\", \"RT America\", tweet)\n",
    "    tweet = re.sub(r\"narendramodi\", \"Narendra Modi\", tweet)\n",
    "    tweet = re.sub(r\"BakeOffFriends\", \"Bake Off Friends\", tweet)\n",
    "    tweet = re.sub(r\"TeamHendrick\", \"Hendrick Motorsports\", tweet)\n",
    "    tweet = re.sub(r\"alexbelloli\", \"Alex Belloli\", tweet)\n",
    "    tweet = re.sub(r\"itsjustinstuart\", \"Justin Stuart\", tweet)\n",
    "    tweet = re.sub(r\"gunsense\", \"gun sense\", tweet)\n",
    "    tweet = re.sub(r\"DebateQuestionsWeWantToHear\", \"debate questions we want to hear\", tweet)\n",
    "    tweet = re.sub(r\"RoyalCarribean\", \"Royal Carribean\", tweet)\n",
    "    tweet = re.sub(r\"samanthaturne19\", \"Samantha Turner\", tweet)\n",
    "    tweet = re.sub(r\"JonVoyage\", \"Jon Stewart\", tweet)\n",
    "    tweet = re.sub(r\"renew911health\", \"renew 911 health\", tweet)\n",
    "    tweet = re.sub(r\"SuryaRay\", \"Surya Ray\", tweet)\n",
    "    tweet = re.sub(r\"pattonoswalt\", \"Patton Oswalt\", tweet)\n",
    "    tweet = re.sub(r\"minhazmerchant\", \"Minhaz Merchant\", tweet)\n",
    "    tweet = re.sub(r\"TLVFaces\", \"Israel Diaspora Coalition\", tweet)\n",
    "    tweet = re.sub(r\"pmarca\", \"Marc Andreessen\", tweet)\n",
    "    tweet = re.sub(r\"pdx911\", \"Portland Police\", tweet)\n",
    "    tweet = re.sub(r\"jamaicaplain\", \"Jamaica Plain\", tweet)\n",
    "    tweet = re.sub(r\"Japton\", \"Arkansas\", tweet)\n",
    "    tweet = re.sub(r\"RouteComplex\", \"Route Complex\", tweet)\n",
    "    tweet = re.sub(r\"INSubcontinent\", \"Indian Subcontinent\", tweet)\n",
    "    tweet = re.sub(r\"NJTurnpike\", \"New Jersey Turnpike\", tweet)\n",
    "    tweet = re.sub(r\"Politifiact\", \"PolitiFact\", tweet)\n",
    "    tweet = re.sub(r\"Hiroshima70\", \"Hiroshima\", tweet)\n",
    "    tweet = re.sub(r\"GMMBC\", \"Greater Mt Moriah Baptist Church\", tweet)\n",
    "    tweet = re.sub(r\"versethe\", \"verse the\", tweet)\n",
    "    tweet = re.sub(r\"TubeStrike\", \"Tube Strike\", tweet)\n",
    "    tweet = re.sub(r\"MissionHills\", \"Mission Hills\", tweet)\n",
    "    tweet = re.sub(r\"ProtectDenaliWolves\", \"Protect Denali Wolves\", tweet)\n",
    "    tweet = re.sub(r\"NANKANA\", \"Nankana\", tweet)\n",
    "    tweet = re.sub(r\"SAHIB\", \"Sahib\", tweet)\n",
    "    tweet = re.sub(r\"PAKPATTAN\", \"Pakpattan\", tweet)\n",
    "    tweet = re.sub(r\"Newz_Sacramento\", \"News Sacramento\", tweet)\n",
    "    tweet = re.sub(r\"gofundme\", \"go fund me\", tweet)\n",
    "    tweet = re.sub(r\"pmharper\", \"Stephen Harper\", tweet)\n",
    "    tweet = re.sub(r\"IvanBerroa\", \"Ivan Berroa\", tweet)\n",
    "    tweet = re.sub(r\"LosDelSonido\", \"Los Del Sonido\", tweet)\n",
    "    tweet = re.sub(r\"bancodeseries\", \"banco de series\", tweet)\n",
    "    tweet = re.sub(r\"timkaine\", \"Tim Kaine\", tweet)\n",
    "    tweet = re.sub(r\"IdentityTheft\", \"Identity Theft\", tweet)\n",
    "    tweet = re.sub(r\"AllLivesMatter\", \"All Lives Matter\", tweet)\n",
    "    tweet = re.sub(r\"mishacollins\", \"Misha Collins\", tweet)\n",
    "    tweet = re.sub(r\"BillNeelyNBC\", \"Bill Neely\", tweet)\n",
    "    tweet = re.sub(r\"BeClearOnCancer\", \"be clear on cancer\", tweet)\n",
    "    tweet = re.sub(r\"Kowing\", \"Knowing\", tweet)\n",
    "    tweet = re.sub(r\"ScreamQueens\", \"Scream Queens\", tweet)\n",
    "    tweet = re.sub(r\"AskCharley\", \"Ask Charley\", tweet)\n",
    "    tweet = re.sub(r\"BlizzHeroes\", \"Heroes of the Storm\", tweet)\n",
    "    tweet = re.sub(r\"BradleyBrad47\", \"Bradley Brad\", tweet)\n",
    "    tweet = re.sub(r\"HannaPH\", \"Typhoon Hanna\", tweet)\n",
    "    tweet = re.sub(r\"meinlcymbals\", \"MEINL Cymbals\", tweet)\n",
    "    tweet = re.sub(r\"Ptbo\", \"Peterborough\", tweet)\n",
    "    tweet = re.sub(r\"cnnbrk\", \"CNN Breaking News\", tweet)\n",
    "    tweet = re.sub(r\"IndianNews\", \"Indian News\", tweet)\n",
    "    tweet = re.sub(r\"savebees\", \"save bees\", tweet)\n",
    "    tweet = re.sub(r\"GreenHarvard\", \"Green Harvard\", tweet)\n",
    "    tweet = re.sub(r\"StandwithPP\", \"Stand with planned parenthood\", tweet)\n",
    "    tweet = re.sub(r\"hermancranston\", \"Herman Cranston\", tweet)\n",
    "    tweet = re.sub(r\"WMUR9\", \"WMUR-TV\", tweet)\n",
    "    tweet = re.sub(r\"RockBottomRadFM\", \"Rock Bottom Radio\", tweet)\n",
    "    tweet = re.sub(r\"ameenshaikh3\", \"Ameen Shaikh\", tweet)\n",
    "    tweet = re.sub(r\"ProSyn\", \"Project Syndicate\", tweet)\n",
    "    tweet = re.sub(r\"Daesh\", \"ISIS\", tweet)\n",
    "    tweet = re.sub(r\"s2g\", \"swear to god\", tweet)\n",
    "    tweet = re.sub(r\"listenlive\", \"listen live\", tweet)\n",
    "    tweet = re.sub(r\"CDCgov\", \"Centers for Disease Control and Prevention\", tweet)\n",
    "    tweet = re.sub(r\"FoxNew\", \"Fox News\", tweet)\n",
    "    tweet = re.sub(r\"CBSBigBrother\", \"Big Brother\", tweet)\n",
    "    tweet = re.sub(r\"JulieDiCaro\", \"Julie DiCaro\", tweet)\n",
    "    tweet = re.sub(r\"theadvocatemag\", \"The Advocate Magazine\", tweet)\n",
    "    tweet = re.sub(r\"RohnertParkDPS\", \"Rohnert Park Police Department\", tweet)\n",
    "    tweet = re.sub(r\"THISIZBWRIGHT\", \"Bonnie Wright\", tweet)\n",
    "    tweet = re.sub(r\"Popularmmos\", \"Popular MMOs\", tweet)\n",
    "    tweet = re.sub(r\"WildHorses\", \"Wild Horses\", tweet)\n",
    "    tweet = re.sub(r\"FantasticFour\", \"Fantastic Four\", tweet)\n",
    "    tweet = re.sub(r\"HORNDALE\", \"Horndale\", tweet)\n",
    "    tweet = re.sub(r\"PINER\", \"Piner\", tweet)\n",
    "    tweet = re.sub(r\"BathAndNorthEastSomerset\", \"Bath and North East Somerset\", tweet)\n",
    "    tweet = re.sub(r\"thatswhatfriendsarefor\", \"that is what friends are for\", tweet)\n",
    "    tweet = re.sub(r\"residualincome\", \"residual income\", tweet)\n",
    "    tweet = re.sub(r\"YahooNewsDigest\", \"Yahoo News Digest\", tweet)\n",
    "    tweet = re.sub(r\"MalaysiaAirlines\", \"Malaysia Airlines\", tweet)\n",
    "    tweet = re.sub(r\"AmazonDeals\", \"Amazon Deals\", tweet)\n",
    "    tweet = re.sub(r\"MissCharleyWebb\", \"Charley Webb\", tweet)\n",
    "    tweet = re.sub(r\"shoalstraffic\", \"shoals traffic\", tweet)\n",
    "    tweet = re.sub(r\"GeorgeFoster72\", \"George Foster\", tweet)\n",
    "    tweet = re.sub(r\"pop2015\", \"pop 2015\", tweet)\n",
    "    tweet = re.sub(r\"_PokemonCards_\", \"Pokemon Cards\", tweet)\n",
    "    tweet = re.sub(r\"DianneG\", \"Dianne Gallagher\", tweet)\n",
    "    tweet = re.sub(r\"KashmirConflict\", \"Kashmir Conflict\", tweet)\n",
    "    tweet = re.sub(r\"BritishBakeOff\", \"British Bake Off\", tweet)\n",
    "    tweet = re.sub(r\"FreeKashmir\", \"Free Kashmir\", tweet)\n",
    "    tweet = re.sub(r\"mattmosley\", \"Matt Mosley\", tweet)\n",
    "    tweet = re.sub(r\"BishopFred\", \"Bishop Fred\", tweet)\n",
    "    tweet = re.sub(r\"EndConflict\", \"End Conflict\", tweet)\n",
    "    tweet = re.sub(r\"EndOccupation\", \"End Occupation\", tweet)\n",
    "    tweet = re.sub(r\"UNHEALED\", \"unhealed\", tweet)\n",
    "    tweet = re.sub(r\"CharlesDagnall\", \"Charles Dagnall\", tweet)\n",
    "    tweet = re.sub(r\"Latestnews\", \"Latest news\", tweet)\n",
    "    tweet = re.sub(r\"KindleCountdown\", \"Kindle Countdown\", tweet)\n",
    "    tweet = re.sub(r\"NoMoreHandouts\", \"No More Handouts\", tweet)\n",
    "    tweet = re.sub(r\"datingtips\", \"dating tips\", tweet)\n",
    "    tweet = re.sub(r\"charlesadler\", \"Charles Adler\", tweet)\n",
    "    tweet = re.sub(r\"twia\", \"Texas Windstorm Insurance Association\", tweet)\n",
    "    tweet = re.sub(r\"txlege\", \"Texas Legislature\", tweet)\n",
    "    tweet = re.sub(r\"WindstormInsurer\", \"Windstorm Insurer\", tweet)\n",
    "    tweet = re.sub(r\"Newss\", \"News\", tweet)\n",
    "    tweet = re.sub(r\"hempoil\", \"hemp oil\", tweet)\n",
    "    tweet = re.sub(r\"CommoditiesAre\", \"Commodities are\", tweet)\n",
    "    tweet = re.sub(r\"tubestrike\", \"tube strike\", tweet)\n",
    "    tweet = re.sub(r\"JoeNBC\", \"Joe Scarborough\", tweet)\n",
    "    tweet = re.sub(r\"LiteraryCakes\", \"Literary Cakes\", tweet)\n",
    "    tweet = re.sub(r\"TI5\", \"The International 5\", tweet)\n",
    "    tweet = re.sub(r\"thehill\", \"the hill\", tweet)\n",
    "    tweet = re.sub(r\"3others\", \"3 others\", tweet)\n",
    "    tweet = re.sub(r\"stighefootball\", \"Sam Tighe\", tweet)\n",
    "    tweet = re.sub(r\"whatstheimportantvideo\", \"what is the important video\", tweet)\n",
    "    tweet = re.sub(r\"ClaudioMeloni\", \"Claudio Meloni\", tweet)\n",
    "    tweet = re.sub(r\"DukeSkywalker\", \"Duke Skywalker\", tweet)\n",
    "    tweet = re.sub(r\"carsonmwr\", \"Fort Carson\", tweet)\n",
    "    tweet = re.sub(r\"offdishduty\", \"off dish duty\", tweet)\n",
    "    tweet = re.sub(r\"andword\", \"and word\", tweet)\n",
    "    tweet = re.sub(r\"rhodeisland\", \"Rhode Island\", tweet)\n",
    "    tweet = re.sub(r\"easternoregon\", \"Eastern Oregon\", tweet)\n",
    "    tweet = re.sub(r\"WAwildfire\", \"Washington Wildfire\", tweet)\n",
    "    tweet = re.sub(r\"fingerrockfire\", \"Finger Rock Fire\", tweet)\n",
    "    tweet = re.sub(r\"57am\", \"57 am\", tweet)\n",
    "    tweet = re.sub(r\"fingerrockfire\", \"Finger Rock Fire\", tweet)\n",
    "    tweet = re.sub(r\"JacobHoggard\", \"Jacob Hoggard\", tweet)\n",
    "    tweet = re.sub(r\"newnewnew\", \"new new new\", tweet)\n",
    "    tweet = re.sub(r\"under50\", \"under 50\", tweet)\n",
    "    tweet = re.sub(r\"getitbeforeitsgone\", \"get it before it is gone\", tweet)\n",
    "    tweet = re.sub(r\"freshoutofthebox\", \"fresh out of the box\", tweet)\n",
    "    tweet = re.sub(r\"amwriting\", \"am writing\", tweet)\n",
    "    tweet = re.sub(r\"Bokoharm\", \"Boko Haram\", tweet)\n",
    "    tweet = re.sub(r\"Nowlike\", \"Now like\", tweet)\n",
    "    tweet = re.sub(r\"seasonfrom\", \"season from\", tweet)\n",
    "    tweet = re.sub(r\"epicente\", \"epicenter\", tweet)\n",
    "    tweet = re.sub(r\"epicenterr\", \"epicenter\", tweet)\n",
    "    tweet = re.sub(r\"sicklife\", \"sick life\", tweet)\n",
    "    tweet = re.sub(r\"yycweather\", \"Calgary Weather\", tweet)\n",
    "    tweet = re.sub(r\"calgarysun\", \"Calgary Sun\", tweet)\n",
    "    tweet = re.sub(r\"approachng\", \"approaching\", tweet)\n",
    "    tweet = re.sub(r\"evng\", \"evening\", tweet)\n",
    "    tweet = re.sub(r\"Sumthng\", \"something\", tweet)\n",
    "    tweet = re.sub(r\"EllenPompeo\", \"Ellen Pompeo\", tweet)\n",
    "    tweet = re.sub(r\"shondarhimes\", \"Shonda Rhimes\", tweet)\n",
    "    tweet = re.sub(r\"ABCNetwork\", \"ABC Network\", tweet)\n",
    "    tweet = re.sub(r\"SushmaSwaraj\", \"Sushma Swaraj\", tweet)\n",
    "    tweet = re.sub(r\"pray4japan\", \"Pray for Japan\", tweet)\n",
    "    tweet = re.sub(r\"hope4japan\", \"Hope for Japan\", tweet)\n",
    "    tweet = re.sub(r\"Illusionimagess\", \"Illusion images\", tweet)\n",
    "    tweet = re.sub(r\"SummerUnderTheStars\", \"Summer Under The Stars\", tweet)\n",
    "    tweet = re.sub(r\"ShallWeDance\", \"Shall We Dance\", tweet)\n",
    "    tweet = re.sub(r\"TCMParty\", \"TCM Party\", tweet)\n",
    "    tweet = re.sub(r\"marijuananews\", \"marijuana news\", tweet)\n",
    "    tweet = re.sub(r\"onbeingwithKristaTippett\", \"on being with Krista Tippett\", tweet)\n",
    "    tweet = re.sub(r\"Beingtweets\", \"Being tweets\", tweet)\n",
    "    tweet = re.sub(r\"newauthors\", \"new authors\", tweet)\n",
    "    tweet = re.sub(r\"remedyyyy\", \"remedy\", tweet)\n",
    "    tweet = re.sub(r\"44PM\", \"44 PM\", tweet)\n",
    "    tweet = re.sub(r\"HeadlinesApp\", \"Headlines App\", tweet)\n",
    "    tweet = re.sub(r\"40PM\", \"40 PM\", tweet)\n",
    "    tweet = re.sub(r\"myswc\", \"Severe Weather Center\", tweet)\n",
    "    tweet = re.sub(r\"ithats\", \"that is\", tweet)\n",
    "    tweet = re.sub(r\"icouldsitinthismomentforever\", \"I could sit in this moment forever\", tweet)\n",
    "    tweet = re.sub(r\"FatLoss\", \"Fat Loss\", tweet)\n",
    "    tweet = re.sub(r\"02PM\", \"02 PM\", tweet)\n",
    "    tweet = re.sub(r\"MetroFmTalk\", \"Metro Fm Talk\", tweet)\n",
    "    tweet = re.sub(r\"Bstrd\", \"bastard\", tweet)\n",
    "    tweet = re.sub(r\"bldy\", \"bloody\", tweet)\n",
    "    tweet = re.sub(r\"MetrofmTalk\", \"Metro Fm Talk\", tweet)\n",
    "    tweet = re.sub(r\"terrorismturn\", \"terrorism turn\", tweet)\n",
    "    tweet = re.sub(r\"BBCNewsAsia\", \"BBC News Asia\", tweet)\n",
    "    tweet = re.sub(r\"BehindTheScenes\", \"Behind The Scenes\", tweet)\n",
    "    tweet = re.sub(r\"GeorgeTakei\", \"George Takei\", tweet)\n",
    "    tweet = re.sub(r\"WomensWeeklyMag\", \"Womens Weekly Magazine\", tweet)\n",
    "    tweet = re.sub(r\"SurvivorsGuidetoEarth\", \"Survivors Guide to Earth\", tweet)\n",
    "    tweet = re.sub(r\"incubusband\", \"incubus band\", tweet)\n",
    "    tweet = re.sub(r\"Babypicturethis\", \"Baby picture this\", tweet)\n",
    "    tweet = re.sub(r\"BombEffects\", \"Bomb Effects\", tweet)\n",
    "    tweet = re.sub(r\"win10\", \"Windows 10\", tweet)\n",
    "    tweet = re.sub(r\"idkidk\", \"I do not know I do not know\", tweet)\n",
    "    tweet = re.sub(r\"TheWalkingDead\", \"The Walking Dead\", tweet)\n",
    "    tweet = re.sub(r\"amyschumer\", \"Amy Schumer\", tweet)\n",
    "    tweet = re.sub(r\"crewlist\", \"crew list\", tweet)\n",
    "    tweet = re.sub(r\"Erdogans\", \"Erdogan\", tweet)\n",
    "    tweet = re.sub(r\"BBCLive\", \"BBC Live\", tweet)\n",
    "    tweet = re.sub(r\"TonyAbbottMHR\", \"Tony Abbott\", tweet)\n",
    "    tweet = re.sub(r\"paulmyerscough\", \"Paul Myerscough\", tweet)\n",
    "    tweet = re.sub(r\"georgegallagher\", \"George Gallagher\", tweet)\n",
    "    tweet = re.sub(r\"JimmieJohnson\", \"Jimmie Johnson\", tweet)\n",
    "    tweet = re.sub(r\"pctool\", \"pc tool\", tweet)\n",
    "    tweet = re.sub(r\"DoingHashtagsRight\", \"Doing Hashtags Right\", tweet)\n",
    "    tweet = re.sub(r\"ThrowbackThursday\", \"Throwback Thursday\", tweet)\n",
    "    tweet = re.sub(r\"SnowBackSunday\", \"Snowback Sunday\", tweet)\n",
    "    tweet = re.sub(r\"LakeEffect\", \"Lake Effect\", tweet)\n",
    "    tweet = re.sub(r\"RTphotographyUK\", \"Richard Thomas Photography UK\", tweet)\n",
    "    tweet = re.sub(r\"BigBang_CBS\", \"Big Bang CBS\", tweet)\n",
    "    tweet = re.sub(r\"writerslife\", \"writers life\", tweet)\n",
    "    tweet = re.sub(r\"NaturalBirth\", \"Natural Birth\", tweet)\n",
    "    tweet = re.sub(r\"UnusualWords\", \"Unusual Words\", tweet)\n",
    "    tweet = re.sub(r\"wizkhalifa\", \"Wiz Khalifa\", tweet)\n",
    "    tweet = re.sub(r\"acreativedc\", \"a creative DC\", tweet)\n",
    "    tweet = re.sub(r\"vscodc\", \"vsco DC\", tweet)\n",
    "    tweet = re.sub(r\"VSCOcam\", \"vsco camera\", tweet)\n",
    "    tweet = re.sub(r\"TheBEACHDC\", \"The beach DC\", tweet)\n",
    "    tweet = re.sub(r\"buildingmuseum\", \"building museum\", tweet)\n",
    "    tweet = re.sub(r\"WorldOil\", \"World Oil\", tweet)\n",
    "    tweet = re.sub(r\"redwedding\", \"red wedding\", tweet)\n",
    "    tweet = re.sub(r\"AmazingRaceCanada\", \"Amazing Race Canada\", tweet)\n",
    "    tweet = re.sub(r\"WakeUpAmerica\", \"Wake Up America\", tweet)\n",
    "    tweet = re.sub(r\"\\\\Allahuakbar\\\\\", \"Allahu Akbar\", tweet)\n",
    "    tweet = re.sub(r\"bleased\", \"blessed\", tweet)\n",
    "    tweet = re.sub(r\"nigeriantribune\", \"Nigerian Tribune\", tweet)\n",
    "    tweet = re.sub(r\"HIDEO_KOJIMA_EN\", \"Hideo Kojima\", tweet)\n",
    "    tweet = re.sub(r\"FusionFestival\", \"Fusion Festival\", tweet)\n",
    "    tweet = re.sub(r\"50Mixed\", \"50 Mixed\", tweet)\n",
    "    tweet = re.sub(r\"NoAgenda\", \"No Agenda\", tweet)\n",
    "    tweet = re.sub(r\"WhiteGenocide\", \"White Genocide\", tweet)\n",
    "    tweet = re.sub(r\"dirtylying\", \"dirty lying\", tweet)\n",
    "    tweet = re.sub(r\"SyrianRefugees\", \"Syrian Refugees\", tweet)\n",
    "    tweet = re.sub(r\"changetheworld\", \"change the world\", tweet)\n",
    "    tweet = re.sub(r\"Ebolacase\", \"Ebola case\", tweet)\n",
    "    tweet = re.sub(r\"mcgtech\", \"mcg technologies\", tweet)\n",
    "    tweet = re.sub(r\"withweapons\", \"with weapons\", tweet)\n",
    "    tweet = re.sub(r\"advancedwarfare\", \"advanced warfare\", tweet)\n",
    "    tweet = re.sub(r\"letsFootball\", \"let us Football\", tweet)\n",
    "    tweet = re.sub(r\"LateNiteMix\", \"late night mix\", tweet)\n",
    "    tweet = re.sub(r\"PhilCollinsFeed\", \"Phil Collins\", tweet)\n",
    "    tweet = re.sub(r\"RudyHavenstein\", \"Rudy Havenstein\", tweet)\n",
    "    tweet = re.sub(r\"22PM\", \"22 PM\", tweet)\n",
    "    tweet = re.sub(r\"54am\", \"54 AM\", tweet)\n",
    "    tweet = re.sub(r\"38am\", \"38 AM\", tweet)\n",
    "    tweet = re.sub(r\"OldFolkExplainStuff\", \"Old Folk Explain Stuff\", tweet)\n",
    "    tweet = re.sub(r\"BlacklivesMatter\", \"Black Lives Matter\", tweet)\n",
    "    tweet = re.sub(r\"InsaneLimits\", \"Insane Limits\", tweet)\n",
    "    tweet = re.sub(r\"youcantsitwithus\", \"you cannot sit with us\", tweet)\n",
    "    tweet = re.sub(r\"2k15\", \"2015\", tweet)\n",
    "    tweet = re.sub(r\"TheIran\", \"Iran\", tweet)\n",
    "    tweet = re.sub(r\"JimmyFallon\", \"Jimmy Fallon\", tweet)\n",
    "    tweet = re.sub(r\"AlbertBrooks\", \"Albert Brooks\", tweet)\n",
    "    tweet = re.sub(r\"defense_news\", \"defense news\", tweet)\n",
    "    tweet = re.sub(r\"nuclearrcSA\", \"Nuclear Risk Control Self Assessment\", tweet)\n",
    "    tweet = re.sub(r\"Auspol\", \"Australia Politics\", tweet)\n",
    "    tweet = re.sub(r\"NuclearPower\", \"Nuclear Power\", tweet)\n",
    "    tweet = re.sub(r\"WhiteTerrorism\", \"White Terrorism\", tweet)\n",
    "    tweet = re.sub(r\"truthfrequencyradio\", \"Truth Frequency Radio\", tweet)\n",
    "    tweet = re.sub(r\"ErasureIsNotEquality\", \"Erasure is not equality\", tweet)\n",
    "    tweet = re.sub(r\"ProBonoNews\", \"Pro Bono News\", tweet)\n",
    "    tweet = re.sub(r\"JakartaPost\", \"Jakarta Post\", tweet)\n",
    "    tweet = re.sub(r\"toopainful\", \"too painful\", tweet)\n",
    "    tweet = re.sub(r\"melindahaunton\", \"Melinda Haunton\", tweet)\n",
    "    tweet = re.sub(r\"NoNukes\", \"No Nukes\", tweet)\n",
    "    tweet = re.sub(r\"curryspcworld\", \"Currys PC World\", tweet)\n",
    "    tweet = re.sub(r\"ineedcake\", \"I need cake\", tweet)\n",
    "    tweet = re.sub(r\"blackforestgateau\", \"black forest gateau\", tweet)\n",
    "    tweet = re.sub(r\"BBCOne\", \"BBC One\", tweet)\n",
    "    tweet = re.sub(r\"AlexxPage\", \"Alex Page\", tweet)\n",
    "    tweet = re.sub(r\"jonathanserrie\", \"Jonathan Serrie\", tweet)\n",
    "    tweet = re.sub(r\"SocialJerkBlog\", \"Social Jerk Blog\", tweet)\n",
    "    tweet = re.sub(r\"ChelseaVPeretti\", \"Chelsea Peretti\", tweet)\n",
    "    tweet = re.sub(r\"irongiant\", \"iron giant\", tweet)\n",
    "    tweet = re.sub(r\"RonFunches\", \"Ron Funches\", tweet)\n",
    "    tweet = re.sub(r\"TimCook\", \"Tim Cook\", tweet)\n",
    "    tweet = re.sub(r\"sebastianstanisaliveandwell\", \"Sebastian Stan is alive and well\", tweet)\n",
    "    tweet = re.sub(r\"Madsummer\", \"Mad summer\", tweet)\n",
    "    tweet = re.sub(r\"NowYouKnow\", \"Now you know\", tweet)\n",
    "    tweet = re.sub(r\"concertphotography\", \"concert photography\", tweet)\n",
    "    tweet = re.sub(r\"TomLandry\", \"Tom Landry\", tweet)\n",
    "    tweet = re.sub(r\"showgirldayoff\", \"show girl day off\", tweet)\n",
    "    tweet = re.sub(r\"Yougslavia\", \"Yugoslavia\", tweet)\n",
    "    tweet = re.sub(r\"QuantumDataInformatics\", \"Quantum Data Informatics\", tweet)\n",
    "    tweet = re.sub(r\"FromTheDesk\", \"From The Desk\", tweet)\n",
    "    tweet = re.sub(r\"TheaterTrial\", \"Theater Trial\", tweet)\n",
    "    tweet = re.sub(r\"CatoInstitute\", \"Cato Institute\", tweet)\n",
    "    tweet = re.sub(r\"EmekaGift\", \"Emeka Gift\", tweet)\n",
    "    tweet = re.sub(r\"LetsBe_Rational\", \"Let us be rational\", tweet)\n",
    "    tweet = re.sub(r\"Cynicalreality\", \"Cynical reality\", tweet)\n",
    "    tweet = re.sub(r\"FredOlsenCruise\", \"Fred Olsen Cruise\", tweet)\n",
    "    tweet = re.sub(r\"NotSorry\", \"not sorry\", tweet)\n",
    "    tweet = re.sub(r\"UseYourWords\", \"use your words\", tweet)\n",
    "    tweet = re.sub(r\"WordoftheDay\", \"word of the day\", tweet)\n",
    "    tweet = re.sub(r\"Dictionarycom\", \"Dictionary.com\", tweet)\n",
    "    tweet = re.sub(r\"TheBrooklynLife\", \"The Brooklyn Life\", tweet)\n",
    "    tweet = re.sub(r\"jokethey\", \"joke they\", tweet)\n",
    "    tweet = re.sub(r\"nflweek1picks\", \"NFL week 1 picks\", tweet)\n",
    "    tweet = re.sub(r\"uiseful\", \"useful\", tweet)\n",
    "    tweet = re.sub(r\"JusticeDotOrg\", \"The American Association for Justice\", tweet)\n",
    "    tweet = re.sub(r\"autoaccidents\", \"auto accidents\", tweet)\n",
    "    tweet = re.sub(r\"SteveGursten\", \"Steve Gursten\", tweet)\n",
    "    tweet = re.sub(r\"MichiganAutoLaw\", \"Michigan Auto Law\", tweet)\n",
    "    tweet = re.sub(r\"birdgang\", \"bird gang\", tweet)\n",
    "    tweet = re.sub(r\"nflnetwork\", \"NFL Network\", tweet)\n",
    "    tweet = re.sub(r\"NYDNSports\", \"NY Daily News Sports\", tweet)\n",
    "    tweet = re.sub(r\"RVacchianoNYDN\", \"Ralph Vacchiano NY Daily News\", tweet)\n",
    "    tweet = re.sub(r\"EdmontonEsks\", \"Edmonton Eskimos\", tweet)\n",
    "    tweet = re.sub(r\"david_brelsford\", \"David Brelsford\", tweet)\n",
    "    tweet = re.sub(r\"TOI_India\", \"The Times of India\", tweet)\n",
    "    tweet = re.sub(r\"hegot\", \"he got\", tweet)\n",
    "    tweet = re.sub(r\"SkinsOn9\", \"Skins on 9\", tweet)\n",
    "    tweet = re.sub(r\"sothathappened\", \"so that happened\", tweet)\n",
    "    tweet = re.sub(r\"LCOutOfDoors\", \"LC Out Of Doors\", tweet)\n",
    "    tweet = re.sub(r\"NationFirst\", \"Nation First\", tweet)\n",
    "    tweet = re.sub(r\"IndiaToday\", \"India Today\", tweet)\n",
    "    tweet = re.sub(r\"HLPS\", \"helps\", tweet)\n",
    "    tweet = re.sub(r\"HOSTAGESTHROSW\", \"hostages throw\", tweet)\n",
    "    tweet = re.sub(r\"SNCTIONS\", \"sanctions\", tweet)\n",
    "    tweet = re.sub(r\"BidTime\", \"Bid Time\", tweet)\n",
    "    tweet = re.sub(r\"crunchysensible\", \"crunchy sensible\", tweet)\n",
    "    tweet = re.sub(r\"RandomActsOfRomance\", \"Random acts of romance\", tweet)\n",
    "    tweet = re.sub(r\"MomentsAtHill\", \"Moments at hill\", tweet)\n",
    "    tweet = re.sub(r\"eatshit\", \"eat shit\", tweet)\n",
    "    tweet = re.sub(r\"liveleakfun\", \"live leak fun\", tweet)\n",
    "    tweet = re.sub(r\"SahelNews\", \"Sahel News\", tweet)\n",
    "    tweet = re.sub(r\"abc7newsbayarea\", \"ABC 7 News Bay Area\", tweet)\n",
    "    tweet = re.sub(r\"facilitiesmanagement\", \"facilities management\", tweet)\n",
    "    tweet = re.sub(r\"facilitydude\", \"facility dude\", tweet)\n",
    "    tweet = re.sub(r\"CampLogistics\", \"Camp logistics\", tweet)\n",
    "    tweet = re.sub(r\"alaskapublic\", \"Alaska public\", tweet)\n",
    "    tweet = re.sub(r\"MarketResearch\", \"Market Research\", tweet)\n",
    "    tweet = re.sub(r\"AccuracyEsports\", \"Accuracy Esports\", tweet)\n",
    "    tweet = re.sub(r\"TheBodyShopAust\", \"The Body Shop Australia\", tweet)\n",
    "    tweet = re.sub(r\"yychail\", \"Calgary hail\", tweet)\n",
    "    tweet = re.sub(r\"yyctraffic\", \"Calgary traffic\", tweet)\n",
    "    tweet = re.sub(r\"eliotschool\", \"eliot school\", tweet)\n",
    "    tweet = re.sub(r\"TheBrokenCity\", \"The Broken City\", tweet)\n",
    "    tweet = re.sub(r\"OldsFireDept\", \"Olds Fire Department\", tweet)\n",
    "    tweet = re.sub(r\"RiverComplex\", \"River Complex\", tweet)\n",
    "    tweet = re.sub(r\"fieldworksmells\", \"field work smells\", tweet)\n",
    "    tweet = re.sub(r\"IranElection\", \"Iran Election\", tweet)\n",
    "    tweet = re.sub(r\"glowng\", \"glowing\", tweet)\n",
    "    tweet = re.sub(r\"kindlng\", \"kindling\", tweet)\n",
    "    tweet = re.sub(r\"riggd\", \"rigged\", tweet)\n",
    "    tweet = re.sub(r\"slownewsday\", \"slow news day\", tweet)\n",
    "    tweet = re.sub(r\"MyanmarFlood\", \"Myanmar Flood\", tweet)\n",
    "    tweet = re.sub(r\"abc7chicago\", \"ABC 7 Chicago\", tweet)\n",
    "    tweet = re.sub(r\"copolitics\", \"Colorado Politics\", tweet)\n",
    "    tweet = re.sub(r\"AdilGhumro\", \"Adil Ghumro\", tweet)\n",
    "    tweet = re.sub(r\"netbots\", \"net bots\", tweet)\n",
    "    tweet = re.sub(r\"byebyeroad\", \"bye bye road\", tweet)\n",
    "    tweet = re.sub(r\"massiveflooding\", \"massive flooding\", tweet)\n",
    "    tweet = re.sub(r\"EndofUS\", \"End of United States\", tweet)\n",
    "    tweet = re.sub(r\"35PM\", \"35 PM\", tweet)\n",
    "    tweet = re.sub(r\"greektheatrela\", \"Greek Theatre Los Angeles\", tweet)\n",
    "    tweet = re.sub(r\"76mins\", \"76 minutes\", tweet)\n",
    "    tweet = re.sub(r\"publicsafetyfirst\", \"public safety first\", tweet)\n",
    "    tweet = re.sub(r\"livesmatter\", \"lives matter\", tweet)\n",
    "    tweet = re.sub(r\"myhometown\", \"my hometown\", tweet)\n",
    "    tweet = re.sub(r\"tankerfire\", \"tanker fire\", tweet)\n",
    "    tweet = re.sub(r\"MEMORIALDAY\", \"memorial day\", tweet)\n",
    "    tweet = re.sub(r\"MEMORIAL_DAY\", \"memorial day\", tweet)\n",
    "    tweet = re.sub(r\"instaxbooty\", \"instagram booty\", tweet)\n",
    "    tweet = re.sub(r\"Jerusalem_Post\", \"Jerusalem Post\", tweet)\n",
    "    tweet = re.sub(r\"WayneRooney_INA\", \"Wayne Rooney\", tweet)\n",
    "    tweet = re.sub(r\"VirtualReality\", \"Virtual Reality\", tweet)\n",
    "    tweet = re.sub(r\"OculusRift\", \"Oculus Rift\", tweet)\n",
    "    tweet = re.sub(r\"OwenJones84\", \"Owen Jones\", tweet)\n",
    "    tweet = re.sub(r\"jeremycorbyn\", \"Jeremy Corbyn\", tweet)\n",
    "    tweet = re.sub(r\"paulrogers002\", \"Paul Rogers\", tweet)\n",
    "    tweet = re.sub(r\"mortalkombatx\", \"Mortal Kombat X\", tweet)\n",
    "    tweet = re.sub(r\"mortalkombat\", \"Mortal Kombat\", tweet)\n",
    "    tweet = re.sub(r\"FilipeCoelho92\", \"Filipe Coelho\", tweet)\n",
    "    tweet = re.sub(r\"OnlyQuakeNews\", \"Only Quake News\", tweet)\n",
    "    tweet = re.sub(r\"kostumes\", \"costumes\", tweet)\n",
    "    tweet = re.sub(r\"YEEESSSS\", \"yes\", tweet)\n",
    "    tweet = re.sub(r\"ToshikazuKatayama\", \"Toshikazu Katayama\", tweet)\n",
    "    tweet = re.sub(r\"IntlDevelopment\", \"Intl Development\", tweet)\n",
    "    tweet = re.sub(r\"ExtremeWeather\", \"Extreme Weather\", tweet)\n",
    "    tweet = re.sub(r\"WereNotGruberVoters\", \"We are not gruber voters\", tweet)\n",
    "    tweet = re.sub(r\"NewsThousands\", \"News Thousands\", tweet)\n",
    "    tweet = re.sub(r\"EdmundAdamus\", \"Edmund Adamus\", tweet)\n",
    "    tweet = re.sub(r\"EyewitnessWV\", \"Eye witness WV\", tweet)\n",
    "    tweet = re.sub(r\"PhiladelphiaMuseu\", \"Philadelphia Museum\", tweet)\n",
    "    tweet = re.sub(r\"DublinComicCon\", \"Dublin Comic Con\", tweet)\n",
    "    tweet = re.sub(r\"NicholasBrendon\", \"Nicholas Brendon\", tweet)\n",
    "    tweet = re.sub(r\"Alltheway80s\", \"All the way 80s\", tweet)\n",
    "    tweet = re.sub(r\"FromTheField\", \"From the field\", tweet)\n",
    "    tweet = re.sub(r\"NorthIowa\", \"North Iowa\", tweet)\n",
    "    tweet = re.sub(r\"WillowFire\", \"Willow Fire\", tweet)\n",
    "    tweet = re.sub(r\"MadRiverComplex\", \"Mad River Complex\", tweet)\n",
    "    tweet = re.sub(r\"feelingmanly\", \"feeling manly\", tweet)\n",
    "    tweet = re.sub(r\"stillnotoverit\", \"still not over it\", tweet)\n",
    "    tweet = re.sub(r\"FortitudeValley\", \"Fortitude Valley\", tweet)\n",
    "    tweet = re.sub(r\"CoastpowerlineTramTr\", \"Coast powerline\", tweet)\n",
    "    tweet = re.sub(r\"ServicesGold\", \"Services Gold\", tweet)\n",
    "    tweet = re.sub(r\"NewsbrokenEmergency\", \"News broken emergency\", tweet)\n",
    "    tweet = re.sub(r\"Evaucation\", \"evacuation\", tweet)\n",
    "    tweet = re.sub(r\"leaveevacuateexitbe\", \"leave evacuate exit be\", tweet)\n",
    "    tweet = re.sub(r\"P_EOPLE\", \"PEOPLE\", tweet)\n",
    "    tweet = re.sub(r\"Tubestrike\", \"tube strike\", tweet)\n",
    "    tweet = re.sub(r\"CLASS_SICK\", \"CLASS SICK\", tweet)\n",
    "    tweet = re.sub(r\"localplumber\", \"local plumber\", tweet)\n",
    "    tweet = re.sub(r\"awesomejobsiri\", \"awesome job siri\", tweet)\n",
    "    tweet = re.sub(r\"PayForItHow\", \"Pay for it how\", tweet)\n",
    "    tweet = re.sub(r\"ThisIsAfrica\", \"This is Africa\", tweet)\n",
    "    tweet = re.sub(r\"crimeairnetwork\", \"crime air network\", tweet)\n",
    "    tweet = re.sub(r\"KimAcheson\", \"Kim Acheson\", tweet)\n",
    "    tweet = re.sub(r\"cityofcalgary\", \"City of Calgary\", tweet)\n",
    "    tweet = re.sub(r\"prosyndicate\", \"pro syndicate\", tweet)\n",
    "    tweet = re.sub(r\"660NEWS\", \"660 NEWS\", tweet)\n",
    "    tweet = re.sub(r\"BusInsMagazine\", \"Business Insurance Magazine\", tweet)\n",
    "    tweet = re.sub(r\"wfocus\", \"focus\", tweet)\n",
    "    tweet = re.sub(r\"ShastaDam\", \"Shasta Dam\", tweet)\n",
    "    tweet = re.sub(r\"go2MarkFranco\", \"Mark Franco\", tweet)\n",
    "    tweet = re.sub(r\"StephGHinojosa\", \"Steph Hinojosa\", tweet)\n",
    "    tweet = re.sub(r\"Nashgrier\", \"Nash Grier\", tweet)\n",
    "    tweet = re.sub(r\"NashNewVideo\", \"Nash new video\", tweet)\n",
    "    tweet = re.sub(r\"IWouldntGetElectedBecause\", \"I would not get elected because\", tweet)\n",
    "    tweet = re.sub(r\"SHGames\", \"Sledgehammer Games\", tweet)\n",
    "    tweet = re.sub(r\"bedhair\", \"bed hair\", tweet)\n",
    "    tweet = re.sub(r\"JoelHeyman\", \"Joel Heyman\", tweet)\n",
    "    tweet = re.sub(r\"viaYouTube\", \"via YouTube\", tweet)\n",
    "           \n",
    "    # Urls\n",
    "    tweet = re.sub(r\"https?:\\/\\/t.co\\/[A-Za-z0-9]+\", \"\", tweet)\n",
    "        \n",
    "    # Words with punctuations and special characters\n",
    "    punctuations = '@#!?+&*[]-%.:/();$=><|{}^' + \"'`\"\n",
    "    for p in punctuations:\n",
    "        tweet = tweet.replace(p, f' {p} ')\n",
    "        \n",
    "    # ... and ..\n",
    "    tweet = tweet.replace('...', ' ... ')\n",
    "    if '...' not in tweet:\n",
    "        tweet = tweet.replace('..', ' ... ')      \n",
    "        \n",
    "    # Acronyms\n",
    "    tweet = re.sub(r\"MH370\", \"Malaysia Airlines Flight 370\", tweet)\n",
    "    tweet = re.sub(r\"mÌ¼sica\", \"music\", tweet)\n",
    "    tweet = re.sub(r\"okwx\", \"Oklahoma City Weather\", tweet)\n",
    "    tweet = re.sub(r\"arwx\", \"Arkansas Weather\", tweet)    \n",
    "    tweet = re.sub(r\"gawx\", \"Georgia Weather\", tweet)  \n",
    "    tweet = re.sub(r\"scwx\", \"South Carolina Weather\", tweet)  \n",
    "    tweet = re.sub(r\"cawx\", \"California Weather\", tweet)\n",
    "    tweet = re.sub(r\"tnwx\", \"Tennessee Weather\", tweet)\n",
    "    tweet = re.sub(r\"azwx\", \"Arizona Weather\", tweet)  \n",
    "    tweet = re.sub(r\"alwx\", \"Alabama Weather\", tweet)\n",
    "    tweet = re.sub(r\"wordpressdotcom\", \"wordpress\", tweet)    \n",
    "    tweet = re.sub(r\"usNWSgov\", \"United States National Weather Service\", tweet)\n",
    "    tweet = re.sub(r\"Suruc\", \"Sanliurfa\", tweet)   \n",
    "    \n",
    "    # Grouping same words without embeddings\n",
    "    tweet = re.sub(r\"Bestnaijamade\", \"bestnaijamade\", tweet)\n",
    "    tweet = re.sub(r\"SOUDELOR\", \"Soudelor\", tweet)\n",
    "    return tweet\n",
    "\n",
    "train['text'] = train['text'].apply(clean)\n",
    "test['text'] = test['text'].apply(clean)"
   ]
  },
  {
   "cell_type": "markdown",
   "id": "3fc59581",
   "metadata": {
    "papermill": {
     "duration": 0.02212,
     "end_time": "2024-10-08T07:44:57.233005",
     "exception": false,
     "start_time": "2024-10-08T07:44:57.210885",
     "status": "completed"
    },
    "tags": []
   },
   "source": [
    "### Lowercase"
   ]
  },
  {
   "cell_type": "code",
   "execution_count": 19,
   "id": "f9c87b89",
   "metadata": {
    "execution": {
     "iopub.execute_input": "2024-10-08T07:44:57.278672Z",
     "iopub.status.busy": "2024-10-08T07:44:57.278262Z",
     "iopub.status.idle": "2024-10-08T07:44:57.287540Z",
     "shell.execute_reply": "2024-10-08T07:44:57.286675Z"
    },
    "papermill": {
     "duration": 0.034403,
     "end_time": "2024-10-08T07:44:57.289524",
     "exception": false,
     "start_time": "2024-10-08T07:44:57.255121",
     "status": "completed"
    },
    "tags": []
   },
   "outputs": [],
   "source": [
    "train['text'] = train['text'].str.lower()\n",
    "test['text'] = test['text'].str.lower()"
   ]
  },
  {
   "cell_type": "markdown",
   "id": "272cf11f",
   "metadata": {
    "papermill": {
     "duration": 0.021945,
     "end_time": "2024-10-08T07:44:57.334752",
     "exception": false,
     "start_time": "2024-10-08T07:44:57.312807",
     "status": "completed"
    },
    "tags": []
   },
   "source": [
    "### Convert abbreviations & acronyms to normal words"
   ]
  },
  {
   "cell_type": "code",
   "execution_count": 20,
   "id": "64e43d82",
   "metadata": {
    "execution": {
     "iopub.execute_input": "2024-10-08T07:44:57.381137Z",
     "iopub.status.busy": "2024-10-08T07:44:57.380799Z",
     "iopub.status.idle": "2024-10-08T07:44:57.390394Z",
     "shell.execute_reply": "2024-10-08T07:44:57.389573Z"
    },
    "papermill": {
     "duration": 0.035222,
     "end_time": "2024-10-08T07:44:57.392283",
     "exception": false,
     "start_time": "2024-10-08T07:44:57.357061",
     "status": "completed"
    },
    "tags": []
   },
   "outputs": [],
   "source": [
    "# def aa_converter(text):\n",
    "#     # abbreviations\n",
    "#     abbreviation_mapping = {\n",
    "#     \"i'm\": \"i am\",\n",
    "#     \"you're\": \"you are\",\n",
    "#     \"we're\": \"we are\",\n",
    "#     \"they're\": \"they are\",\n",
    "#     \"it's\": \"it is\",\n",
    "#     \"isn't\": \"is not\",\n",
    "#     \"aren't\": \"are not\",\n",
    "#     \"wasn't\": \"was not\",\n",
    "#     \"weren't\": \"were not\",\n",
    "#     \"can't\": \"cannot\",\n",
    "#     \"couldn't\": \"could not\",\n",
    "#     \"won't\": \"will not\",\n",
    "#     \"wouldn't\": \"would not\",\n",
    "#     \"don't\": \"do not\",\n",
    "#     \"doesn't\": \"does not\",\n",
    "#     \"didn't\": \"did not\",\n",
    "#     \"hasn't\": \"has not\",\n",
    "#     \"haven't\": \"have not\",\n",
    "#     \"hadn't\": \"had not\",\n",
    "#     \"i'd\": \"i would\",\n",
    "#     \"you'd\": \"you would\",\n",
    "#     \"he'd\": \"he would\",\n",
    "#     \"she'd\": \"she would\",\n",
    "#     \"we'd\": \"we would\",\n",
    "#     \"they'd\": \"they would\",\n",
    "#     \"i'll\": \"i will\",\n",
    "#     \"you'll\": \"you will\",\n",
    "#     \"he'll\": \"he will\",\n",
    "#     \"she'll\": \"she will\",\n",
    "#     \"we'll\": \"we will\",\n",
    "#     \"they'll\": \"they will\",\n",
    "#     \"i've\": \"i have\",\n",
    "#     \"you've\": \"you have\",\n",
    "#     \"we've\": \"we have\",\n",
    "#     \"they've\": \"they have\",\n",
    "#     \"who's\": \"who is\",\n",
    "#     \"what's\": \"what is\",\n",
    "#     \"where's\": \"where is\",\n",
    "#     \"when's\": \"when is\",\n",
    "#     \"why's\": \"why is\",\n",
    "#     \"how's\": \"how is\",\n",
    "#     \"let's\": \"let us\",\n",
    "#     \"that's\": \"that is\",\n",
    "#     \"there's\": \"there is\",\n",
    "#     \"here's\": \"here is\",\n",
    "#     \"shouldn't\": \"should not\",\n",
    "#     \"wouldn't\": \"would not\",\n",
    "#     \"couldn't\": \"could not\",\n",
    "#     \"mustn't\": \"must not\",\n",
    "#     \"mightn't\": \"might not\",\n",
    "#     \"needn't\": \"need not\",\n",
    "#     \"oughtn't\": \"ought not\",\n",
    "#     \"sha'n't\": \"shall not\",\n",
    "#     \"shan't\": \"shall not\",\n",
    "#     \"ain't\": \"is not\",\n",
    "#     \"daren't\": \"dare not\",\n",
    "#     \"ma'am\": \"madam\",\n",
    "#     \"o'clock\": \"of the clock\",\n",
    "#     \"y'all\": \"you all\",\n",
    "#     \"gonna\": \"going to\",\n",
    "#     \"wanna\": \"want to\",\n",
    "#     \"gotta\": \"got to\",\n",
    "#     \"kinda\": \"kind of\",\n",
    "#     \"sorta\": \"sort of\",\n",
    "#     \"lotta\": \"lot of\",\n",
    "#     \"lemme\": \"let me\",\n",
    "#     \"gimme\": \"give me\",\n",
    "#     \"innit\": \"is it not\",\n",
    "#     \"betcha\": \"bet you\",\n",
    "#     \"c'mon\": \"come on\",\n",
    "#     \"y'know\": \"you know\",\n",
    "#     \"whatcha\": \"what are you\",\n",
    "#     \"d'you\": \"do you\",\n",
    "#     \"could've\": \"could have\",\n",
    "#     \"should've\": \"should have\",\n",
    "#     \"would've\": \"would have\",\n",
    "#     \"might've\": \"might have\",\n",
    "#     \"must've\": \"must have\",\n",
    "#     \"how'd\": \"how did\",\n",
    "#     \"how'll\": \"how will\",\n",
    "#     \"when'd\": \"when did\",\n",
    "#     \"where'd\": \"where did\",\n",
    "#     \"who'd\": \"who would\",\n",
    "#     \"what're\": \"what are\",\n",
    "#     \"where're\": \"where are\",\n",
    "#     \"why're\": \"why are\",\n",
    "#     \"that'd\": \"that would\",\n",
    "#     \"who're\": \"who are\",\n",
    "#     \"they've\": \"they have\",\n",
    "#     \"you've\": \"you have\",\n",
    "#     \"she'd\": \"she had\",\n",
    "#     \"he'd\": \"he had\",\n",
    "#     \"it'd\": \"it would\",\n",
    "#     \"we'll\": \"we will\",\n",
    "#     \"it'll\": \"it will\",\n",
    "#     \"we've\": \"we have\",\n",
    "#     \"that'll\": \"that will\",\n",
    "#     \"there'll\": \"there will\",\n",
    "#     \"you'll\": \"you will\",\n",
    "#     \"who'll\": \"who will\",\n",
    "#     \"what'll\": \"what will\",\n",
    "#     \"where'll\": \"where will\",\n",
    "#     \"when'll\": \"when will\",\n",
    "#     \"why'll\": \"why will\",\n",
    "#     \"how'll\": \"how will\",\n",
    "#     }\n",
    "    \n",
    "#     # slangs\n",
    "#     slang_mapping = {\n",
    "#     \"afaik\": \"as far as I know\",\n",
    "#     \"afk\": \"away from keyboard\",\n",
    "#     \"asap\": \"as soon as possible\",\n",
    "#     \"atm\": \"at the moment\",\n",
    "#     \"brb\": \"be right back\",\n",
    "#     \"btw\": \"by the way\",\n",
    "#     \"b4\": \"before\",\n",
    "#     \"bff\": \"best friends forever\",\n",
    "#     \"cuz\": \"because\",\n",
    "#     \"cya\": \"see you\",\n",
    "#     \"dm\": \"direct message\",\n",
    "#     \"ftw\": \"for the win\",\n",
    "#     \"fwiw\": \"for what it's worth\",\n",
    "#     \"fyi\": \"for your information\",\n",
    "#     \"gg\": \"good game\",\n",
    "#     \"gl\": \"good luck\",\n",
    "#     \"gtg\": \"got to go\",\n",
    "#     \"gr8\": \"great\",\n",
    "#     \"hbu\": \"how about you\",\n",
    "#     \"hbd\": \"happy birthday\",\n",
    "#     \"idc\": \"I don't care\",\n",
    "#     \"idk\": \"I don't know\",\n",
    "#     \"ikr\": \"I know, right\",\n",
    "#     \"imo\": \"in my opinion\",\n",
    "#     \"imho\": \"in my humble opinion\",\n",
    "#     \"irl\": \"in real life\",\n",
    "#     \"jk\": \"just kidding\",\n",
    "#     \"lmao\": \"laughing my ass off\",\n",
    "#     \"lmfao\": \"laughing my fucking ass off\",\n",
    "#     \"lol\": \"laugh out loud\",\n",
    "#     \"nvm\": \"never mind\",\n",
    "#     \"omg\": \"oh my god\",\n",
    "#     \"omw\": \"on my way\",\n",
    "#     \"ppl\": \"people\",\n",
    "#     \"rofl\": \"rolling on the floor laughing\",\n",
    "#     \"smh\": \"shaking my head\",\n",
    "#     \"tbh\": \"to be honest\",\n",
    "#     \"tfw\": \"that feeling when\",\n",
    "#     \"thx\": \"thanks\",\n",
    "#     \"tho\": \"though\",\n",
    "#     \"tldr\": \"too long; didn't read\",\n",
    "#     \"ttyl\": \"talk to you later\",\n",
    "#     \"ty\": \"thank you\",\n",
    "#     \"w/e\": \"whatever\",\n",
    "#     \"w/o\": \"without\",\n",
    "#     \"wbu\": \"what about you\",\n",
    "#     \"wtf\": \"what the fuck\",\n",
    "#     \"wth\": \"what the hell\",\n",
    "#     \"xoxo\": \"hugs and kisses\",\n",
    "#     \"yolo\": \"you only live once\",\n",
    "#     \"b4n\": \"bye for now\",\n",
    "#     \"bc\": \"because\",\n",
    "#     \"bday\": \"birthday\",\n",
    "#     \"bf\": \"boyfriend\",\n",
    "#     \"gf\": \"girlfriend\",\n",
    "#     \"bff\": \"best friends forever\",\n",
    "#     \"brb\": \"be right back\",\n",
    "#     \"btw\": \"by the way\",\n",
    "#     \"cu\": \"see you\",\n",
    "#     \"diy\": \"do it yourself\",\n",
    "#     \"ftw\": \"for the win\",\n",
    "#     \"irl\": \"in real life\",\n",
    "#     \"jk\": \"just kidding\",\n",
    "#     \"l8r\": \"later\",\n",
    "#     \"lmk\": \"let me know\",\n",
    "#     \"msg\": \"message\",\n",
    "#     \"nbd\": \"no big deal\",\n",
    "#     \"ngl\": \"not gonna lie\",\n",
    "#     \"np\": \"no problem\",\n",
    "#     \"omg\": \"oh my god\",\n",
    "#     \"plz\": \"please\",\n",
    "#     \"rofl\": \"rolling on the floor laughing\",\n",
    "#     \"srsly\": \"seriously\",\n",
    "#     \"tmi\": \"too much information\",\n",
    "#     \"ttyl\": \"talk to you later\",\n",
    "#     \"wyd\": \"what you doing\",\n",
    "#     \"zzz\": \"sleeping\",\n",
    "#     }\n",
    "    \n",
    "#     for slang, orig in slang_mapping.items():\n",
    "#         text = re.sub(slang, orig, text)\n",
    "#     for abbrev, orig in abbreviation_mapping.items():\n",
    "#         text = re.sub(abbrev, orig, text)\n",
    "#     return text\n",
    "\n",
    "# train['text'] = train['text'].apply(aa_converter)\n",
    "# test['text'] = test['text'].apply(aa_converter)"
   ]
  },
  {
   "cell_type": "markdown",
   "id": "c50f7e23",
   "metadata": {
    "papermill": {
     "duration": 0.021869,
     "end_time": "2024-10-08T07:44:57.436336",
     "exception": false,
     "start_time": "2024-10-08T07:44:57.414467",
     "status": "completed"
    },
    "tags": []
   },
   "source": [
    "### Remove excessive space"
   ]
  },
  {
   "cell_type": "code",
   "execution_count": 21,
   "id": "cdf47d30",
   "metadata": {
    "execution": {
     "iopub.execute_input": "2024-10-08T07:44:57.481804Z",
     "iopub.status.busy": "2024-10-08T07:44:57.481482Z",
     "iopub.status.idle": "2024-10-08T07:44:57.544700Z",
     "shell.execute_reply": "2024-10-08T07:44:57.543944Z"
    },
    "papermill": {
     "duration": 0.088055,
     "end_time": "2024-10-08T07:44:57.546511",
     "exception": false,
     "start_time": "2024-10-08T07:44:57.458456",
     "status": "completed"
    },
    "tags": []
   },
   "outputs": [],
   "source": [
    "train['text'] = train['text'].apply(lambda text: re.sub(r'\\s\\s+', ' ', text))\n",
    "test['text'] = test['text'].apply(lambda text: re.sub(r'\\s\\s+', ' ', text))"
   ]
  },
  {
   "cell_type": "markdown",
   "id": "9ebd01ef",
   "metadata": {
    "papermill": {
     "duration": 0.021931,
     "end_time": "2024-10-08T07:44:57.590510",
     "exception": false,
     "start_time": "2024-10-08T07:44:57.568579",
     "status": "completed"
    },
    "tags": []
   },
   "source": [
    "# 2.5. DistilBert w/o Features after Cleaning Texts"
   ]
  },
  {
   "cell_type": "code",
   "execution_count": 22,
   "id": "84909414",
   "metadata": {
    "execution": {
     "iopub.execute_input": "2024-10-08T07:44:57.636021Z",
     "iopub.status.busy": "2024-10-08T07:44:57.635676Z",
     "iopub.status.idle": "2024-10-08T07:44:57.639211Z",
     "shell.execute_reply": "2024-10-08T07:44:57.638414Z"
    },
    "papermill": {
     "duration": 0.028323,
     "end_time": "2024-10-08T07:44:57.641167",
     "exception": false,
     "start_time": "2024-10-08T07:44:57.612844",
     "status": "completed"
    },
    "tags": []
   },
   "outputs": [],
   "source": [
    "# distilbert_cleaned = make_distilbert()\n",
    "# X_train, X_val, y_train, y_val = train_test_split(train['text'], train['target'], test_size=0.2, random_state=42)\n",
    "# X_test = test['text']"
   ]
  },
  {
   "cell_type": "code",
   "execution_count": 23,
   "id": "c1239a28",
   "metadata": {
    "execution": {
     "iopub.execute_input": "2024-10-08T07:44:57.686923Z",
     "iopub.status.busy": "2024-10-08T07:44:57.686625Z",
     "iopub.status.idle": "2024-10-08T07:44:57.690264Z",
     "shell.execute_reply": "2024-10-08T07:44:57.689497Z"
    },
    "papermill": {
     "duration": 0.028613,
     "end_time": "2024-10-08T07:44:57.692127",
     "exception": false,
     "start_time": "2024-10-08T07:44:57.663514",
     "status": "completed"
    },
    "tags": []
   },
   "outputs": [],
   "source": [
    "# %%time\n",
    "# distilbert_compile(distilbert_cleaned, epochs=10)"
   ]
  },
  {
   "cell_type": "markdown",
   "id": "a890d9c7",
   "metadata": {
    "papermill": {
     "duration": 0.02202,
     "end_time": "2024-10-08T07:44:57.736192",
     "exception": false,
     "start_time": "2024-10-08T07:44:57.714172",
     "status": "completed"
    },
    "tags": []
   },
   "source": [
    "##### Choose epoch **2**"
   ]
  },
  {
   "cell_type": "code",
   "execution_count": 24,
   "id": "13ea04aa",
   "metadata": {
    "execution": {
     "iopub.execute_input": "2024-10-08T07:44:57.781499Z",
     "iopub.status.busy": "2024-10-08T07:44:57.781228Z",
     "iopub.status.idle": "2024-10-08T07:44:57.784950Z",
     "shell.execute_reply": "2024-10-08T07:44:57.784122Z"
    },
    "papermill": {
     "duration": 0.028649,
     "end_time": "2024-10-08T07:44:57.786885",
     "exception": false,
     "start_time": "2024-10-08T07:44:57.758236",
     "status": "completed"
    },
    "scrolled": true,
    "tags": []
   },
   "outputs": [],
   "source": [
    "# tf.keras.backend.clear_session()\n",
    "# distilbert_cleaned = make_distilbert(summary=False)\n",
    "# distilbert_compile(distilbert_cleaned, epochs=2, plots=False)\n",
    "# second_f1 = print_metrics(distilbert_cleaned, X_train, X_test)"
   ]
  },
  {
   "cell_type": "code",
   "execution_count": 25,
   "id": "5b870b4c",
   "metadata": {
    "execution": {
     "iopub.execute_input": "2024-10-08T07:44:57.832194Z",
     "iopub.status.busy": "2024-10-08T07:44:57.831898Z",
     "iopub.status.idle": "2024-10-08T07:44:57.835562Z",
     "shell.execute_reply": "2024-10-08T07:44:57.834742Z"
    },
    "papermill": {
     "duration": 0.028519,
     "end_time": "2024-10-08T07:44:57.837515",
     "exception": false,
     "start_time": "2024-10-08T07:44:57.808996",
     "status": "completed"
    },
    "tags": []
   },
   "outputs": [],
   "source": [
    "# second_f1-first_f1"
   ]
  },
  {
   "cell_type": "markdown",
   "id": "fd883f2a",
   "metadata": {
    "papermill": {
     "duration": 0.022077,
     "end_time": "2024-10-08T07:44:57.881761",
     "exception": false,
     "start_time": "2024-10-08T07:44:57.859684",
     "status": "completed"
    },
    "tags": []
   },
   "source": [
    "# 3. Feature Engineering"
   ]
  },
  {
   "cell_type": "markdown",
   "id": "21f18a20",
   "metadata": {
    "papermill": {
     "duration": 0.021953,
     "end_time": "2024-10-08T07:44:57.925756",
     "exception": false,
     "start_time": "2024-10-08T07:44:57.903803",
     "status": "completed"
    },
    "tags": []
   },
   "source": [
    "### One-hot encoding"
   ]
  },
  {
   "cell_type": "code",
   "execution_count": 26,
   "id": "39835a01",
   "metadata": {
    "execution": {
     "iopub.execute_input": "2024-10-08T07:44:57.972397Z",
     "iopub.status.busy": "2024-10-08T07:44:57.972060Z",
     "iopub.status.idle": "2024-10-08T07:44:57.978125Z",
     "shell.execute_reply": "2024-10-08T07:44:57.977292Z"
    },
    "papermill": {
     "duration": 0.032505,
     "end_time": "2024-10-08T07:44:57.980257",
     "exception": false,
     "start_time": "2024-10-08T07:44:57.947752",
     "status": "completed"
    },
    "tags": []
   },
   "outputs": [
    {
     "name": "stdout",
     "output_type": "stream",
     "text": [
      "Number of unique keywords: 222\n",
      "Number of unique locations: 3342\n"
     ]
    }
   ],
   "source": [
    "print(f\"Number of unique keywords: {len(train['keyword'].unique())}\")\n",
    "print(f\"Number of unique locations: {len(train['location'].unique())}\")"
   ]
  },
  {
   "cell_type": "markdown",
   "id": "8b23905e",
   "metadata": {
    "papermill": {
     "duration": 0.021988,
     "end_time": "2024-10-08T07:44:58.024461",
     "exception": false,
     "start_time": "2024-10-08T07:44:58.002473",
     "status": "completed"
    },
    "tags": []
   },
   "source": [
    "- We can one-hot encode the keyword column regardless of the importance while we need to **select the appropriate locations** to consider since there are too many unique locations."
   ]
  },
  {
   "cell_type": "markdown",
   "id": "37bbcc51",
   "metadata": {
    "papermill": {
     "duration": 0.022055,
     "end_time": "2024-10-08T07:44:58.068792",
     "exception": false,
     "start_time": "2024-10-08T07:44:58.046737",
     "status": "completed"
    },
    "tags": []
   },
   "source": [
    "#### keyword"
   ]
  },
  {
   "cell_type": "code",
   "execution_count": 27,
   "id": "b4cc7cfe",
   "metadata": {
    "execution": {
     "iopub.execute_input": "2024-10-08T07:44:58.114642Z",
     "iopub.status.busy": "2024-10-08T07:44:58.114349Z",
     "iopub.status.idle": "2024-10-08T07:44:58.121669Z",
     "shell.execute_reply": "2024-10-08T07:44:58.120747Z"
    },
    "papermill": {
     "duration": 0.032754,
     "end_time": "2024-10-08T07:44:58.123676",
     "exception": false,
     "start_time": "2024-10-08T07:44:58.090922",
     "status": "completed"
    },
    "tags": []
   },
   "outputs": [],
   "source": [
    "# Fill null values with null\n",
    "train['keyword'] = train['keyword'].fillna('null')\n",
    "test['keyword'] = test['keyword'].fillna('null')"
   ]
  },
  {
   "cell_type": "code",
   "execution_count": 28,
   "id": "237c4cf1",
   "metadata": {
    "execution": {
     "iopub.execute_input": "2024-10-08T07:44:58.169584Z",
     "iopub.status.busy": "2024-10-08T07:44:58.169298Z",
     "iopub.status.idle": "2024-10-08T07:44:58.208910Z",
     "shell.execute_reply": "2024-10-08T07:44:58.207681Z"
    },
    "papermill": {
     "duration": 0.064806,
     "end_time": "2024-10-08T07:44:58.211018",
     "exception": false,
     "start_time": "2024-10-08T07:44:58.146212",
     "status": "completed"
    },
    "tags": []
   },
   "outputs": [
    {
     "name": "stderr",
     "output_type": "stream",
     "text": [
      "/opt/conda/lib/python3.10/site-packages/sklearn/preprocessing/_encoders.py:868: FutureWarning: `sparse` was renamed to `sparse_output` in version 1.2 and will be removed in 1.4. `sparse_output` is ignored unless you leave `sparse` to its default value.\n",
      "  warnings.warn(\n"
     ]
    }
   ],
   "source": [
    "# One-hot encoding for keyword column\n",
    "enc = OneHotEncoder(sparse=False).fit(np.array(train['keyword']).reshape(-1, 1))\n",
    "train_keywords = enc.transform(np.array(train['keyword']).reshape(-1, 1))\n",
    "test_keywords = enc.transform(np.array(test['keyword']).reshape(-1, 1))\n",
    "keyword_names = enc.get_feature_names_out()"
   ]
  },
  {
   "cell_type": "markdown",
   "id": "4d1386fb",
   "metadata": {
    "papermill": {
     "duration": 0.022003,
     "end_time": "2024-10-08T07:44:58.255664",
     "exception": false,
     "start_time": "2024-10-08T07:44:58.233661",
     "status": "completed"
    },
    "tags": []
   },
   "source": [
    "#### location"
   ]
  },
  {
   "cell_type": "code",
   "execution_count": 29,
   "id": "a4556eeb",
   "metadata": {
    "execution": {
     "iopub.execute_input": "2024-10-08T07:44:58.339297Z",
     "iopub.status.busy": "2024-10-08T07:44:58.338438Z",
     "iopub.status.idle": "2024-10-08T07:44:58.345874Z",
     "shell.execute_reply": "2024-10-08T07:44:58.344938Z"
    },
    "papermill": {
     "duration": 0.032677,
     "end_time": "2024-10-08T07:44:58.347740",
     "exception": false,
     "start_time": "2024-10-08T07:44:58.315063",
     "status": "completed"
    },
    "tags": []
   },
   "outputs": [],
   "source": [
    "# Fill null values with unknown\n",
    "train['location'] = train['location'].fillna('unknown')\n",
    "test['location'] = test['location'].fillna('unknown')"
   ]
  },
  {
   "cell_type": "code",
   "execution_count": 30,
   "id": "6848fd3c",
   "metadata": {
    "execution": {
     "iopub.execute_input": "2024-10-08T07:44:58.393714Z",
     "iopub.status.busy": "2024-10-08T07:44:58.393399Z",
     "iopub.status.idle": "2024-10-08T07:44:58.408384Z",
     "shell.execute_reply": "2024-10-08T07:44:58.407530Z"
    },
    "papermill": {
     "duration": 0.040178,
     "end_time": "2024-10-08T07:44:58.410346",
     "exception": false,
     "start_time": "2024-10-08T07:44:58.370168",
     "status": "completed"
    },
    "tags": []
   },
   "outputs": [
    {
     "name": "stdout",
     "output_type": "stream",
     "text": [
      "Number of locations that apppear more than 4 times: 154\n"
     ]
    },
    {
     "data": {
      "text/plain": [
       "location\n",
       " Road to the Billionaires Club       6\n",
       "304                                  9\n",
       "?                                    4\n",
       "??                                   4\n",
       "?????                                4\n",
       "                                  ... \n",
       "in the Word of God                   5\n",
       "london                               4\n",
       "ss                                  10\n",
       "unknown                           2500\n",
       "worldwide                            7\n",
       "Length: 154, dtype: int64"
      ]
     },
     "execution_count": 30,
     "metadata": {},
     "output_type": "execute_result"
    }
   ],
   "source": [
    "# EDA for the location column\n",
    "NUM_FREQ = 4\n",
    "location_frequencies = train.groupby('location').size()\n",
    "location_frequencies = location_frequencies[location_frequencies>=NUM_FREQ]\n",
    "print(f\"Number of locations that apppear more than {NUM_FREQ} times: {len(location_frequencies)}\")\n",
    "location_frequencies"
   ]
  },
  {
   "cell_type": "markdown",
   "id": "e61e99d4",
   "metadata": {
    "papermill": {
     "duration": 0.022451,
     "end_time": "2024-10-08T07:44:58.455852",
     "exception": false,
     "start_time": "2024-10-08T07:44:58.433401",
     "status": "completed"
    },
    "tags": []
   },
   "source": [
    "- Feature Length 106 is acceptable"
   ]
  },
  {
   "cell_type": "code",
   "execution_count": 31,
   "id": "357c5122",
   "metadata": {
    "execution": {
     "iopub.execute_input": "2024-10-08T07:44:58.502666Z",
     "iopub.status.busy": "2024-10-08T07:44:58.501928Z",
     "iopub.status.idle": "2024-10-08T07:44:58.535668Z",
     "shell.execute_reply": "2024-10-08T07:44:58.534760Z"
    },
    "papermill": {
     "duration": 0.059303,
     "end_time": "2024-10-08T07:44:58.537762",
     "exception": false,
     "start_time": "2024-10-08T07:44:58.478459",
     "status": "completed"
    },
    "tags": []
   },
   "outputs": [
    {
     "name": "stderr",
     "output_type": "stream",
     "text": [
      "/opt/conda/lib/python3.10/site-packages/sklearn/preprocessing/_encoders.py:868: FutureWarning: `sparse` was renamed to `sparse_output` in version 1.2 and will be removed in 1.4. `sparse_output` is ignored unless you leave `sparse` to its default value.\n",
      "  warnings.warn(\n"
     ]
    }
   ],
   "source": [
    "# one-hot encoding for selected locations\n",
    "enc = OneHotEncoder(sparse=False, categories=[location_frequencies.index.to_list()], handle_unknown='ignore').fit(np.array(train['location']).reshape(-1, 1))\n",
    "train_locations = enc.transform(np.array(train['location']).reshape(-1, 1))\n",
    "test_locations = enc.transform(np.array(test['location']).reshape(-1, 1))\n",
    "location_names = enc.get_feature_names_out()"
   ]
  },
  {
   "cell_type": "code",
   "execution_count": 32,
   "id": "4ffa78e9",
   "metadata": {
    "execution": {
     "iopub.execute_input": "2024-10-08T07:44:58.584453Z",
     "iopub.status.busy": "2024-10-08T07:44:58.584175Z",
     "iopub.status.idle": "2024-10-08T07:44:58.589898Z",
     "shell.execute_reply": "2024-10-08T07:44:58.589137Z"
    },
    "papermill": {
     "duration": 0.031474,
     "end_time": "2024-10-08T07:44:58.591868",
     "exception": false,
     "start_time": "2024-10-08T07:44:58.560394",
     "status": "completed"
    },
    "tags": []
   },
   "outputs": [],
   "source": [
    "train_features = pd.DataFrame()\n",
    "test_features = pd.DataFrame()"
   ]
  },
  {
   "cell_type": "markdown",
   "id": "e6bd7d6c",
   "metadata": {
    "papermill": {
     "duration": 0.022557,
     "end_time": "2024-10-08T07:44:58.637102",
     "exception": false,
     "start_time": "2024-10-08T07:44:58.614545",
     "status": "completed"
    },
    "tags": []
   },
   "source": [
    "### Text length"
   ]
  },
  {
   "cell_type": "code",
   "execution_count": 33,
   "id": "d8dcbd40",
   "metadata": {
    "execution": {
     "iopub.execute_input": "2024-10-08T07:44:58.683615Z",
     "iopub.status.busy": "2024-10-08T07:44:58.683345Z",
     "iopub.status.idle": "2024-10-08T07:45:00.006119Z",
     "shell.execute_reply": "2024-10-08T07:45:00.005282Z"
    },
    "papermill": {
     "duration": 1.348462,
     "end_time": "2024-10-08T07:45:00.008367",
     "exception": false,
     "start_time": "2024-10-08T07:44:58.659905",
     "status": "completed"
    },
    "tags": []
   },
   "outputs": [],
   "source": [
    "train_features['text_length'] = train['text'].str.split().apply(len)\n",
    "train_features['text_length'] = train_features['text_length'].apply(lambda x: (x-np.mean(train_features['text_length']))/np.std(train_features['text_length']))\n",
    "\n",
    "test_features['text_length'] = test['text'].str.split().apply(len)\n",
    "test_features['text_length'] = test_features['text_length'].apply(lambda x: (x-np.mean(test_features['text_length']))/np.std(test_features['text_length']))"
   ]
  },
  {
   "cell_type": "markdown",
   "id": "26ff53ea",
   "metadata": {
    "papermill": {
     "duration": 0.02254,
     "end_time": "2024-10-08T07:45:00.055408",
     "exception": false,
     "start_time": "2024-10-08T07:45:00.032868",
     "status": "completed"
    },
    "tags": []
   },
   "source": [
    "### Sentiment Score"
   ]
  },
  {
   "cell_type": "code",
   "execution_count": 34,
   "id": "3be2d678",
   "metadata": {
    "execution": {
     "iopub.execute_input": "2024-10-08T07:45:00.102506Z",
     "iopub.status.busy": "2024-10-08T07:45:00.101745Z",
     "iopub.status.idle": "2024-10-08T07:50:49.040026Z",
     "shell.execute_reply": "2024-10-08T07:50:49.039039Z"
    },
    "papermill": {
     "duration": 348.990266,
     "end_time": "2024-10-08T07:50:49.068358",
     "exception": false,
     "start_time": "2024-10-08T07:45:00.078092",
     "status": "completed"
    },
    "tags": []
   },
   "outputs": [
    {
     "name": "stderr",
     "output_type": "stream",
     "text": [
      "No model was supplied, defaulted to distilbert/distilbert-base-uncased-finetuned-sst-2-english and revision af0f99b (https://huggingface.co/distilbert/distilbert-base-uncased-finetuned-sst-2-english).\n",
      "Using a pipeline without specifying a model name and revision in production is not recommended.\n"
     ]
    },
    {
     "data": {
      "application/vnd.jupyter.widget-view+json": {
       "model_id": "1e56d019b6d34bc5bdc0a058cf00c7a4",
       "version_major": 2,
       "version_minor": 0
      },
      "text/plain": [
       "config.json:   0%|          | 0.00/629 [00:00<?, ?B/s]"
      ]
     },
     "metadata": {},
     "output_type": "display_data"
    },
    {
     "data": {
      "application/vnd.jupyter.widget-view+json": {
       "model_id": "22143d62b26249dc9082af23f32a0eac",
       "version_major": 2,
       "version_minor": 0
      },
      "text/plain": [
       "model.safetensors:   0%|          | 0.00/268M [00:00<?, ?B/s]"
      ]
     },
     "metadata": {},
     "output_type": "display_data"
    },
    {
     "data": {
      "application/vnd.jupyter.widget-view+json": {
       "model_id": "15d8161565944c94a22d27cd93289b11",
       "version_major": 2,
       "version_minor": 0
      },
      "text/plain": [
       "tokenizer_config.json:   0%|          | 0.00/48.0 [00:00<?, ?B/s]"
      ]
     },
     "metadata": {},
     "output_type": "display_data"
    },
    {
     "data": {
      "application/vnd.jupyter.widget-view+json": {
       "model_id": "35842b0e62a44f8e89fd34b49f248b56",
       "version_major": 2,
       "version_minor": 0
      },
      "text/plain": [
       "vocab.txt:   0%|          | 0.00/232k [00:00<?, ?B/s]"
      ]
     },
     "metadata": {},
     "output_type": "display_data"
    },
    {
     "name": "stderr",
     "output_type": "stream",
     "text": [
      "/opt/conda/lib/python3.10/site-packages/transformers/tokenization_utils_base.py:1601: FutureWarning: `clean_up_tokenization_spaces` was not set. It will be set to `True` by default. This behavior will be depracted in transformers v4.45, and will be then set to `False` by default. For more details check this issue: https://github.com/huggingface/transformers/issues/31884\n",
      "  warnings.warn(\n",
      "Hardware accelerator e.g. GPU is available in the environment, but no `device` argument is passed to the `Pipeline` object. Model will be on CPU.\n"
     ]
    },
    {
     "name": "stdout",
     "output_type": "stream",
     "text": [
      "CPU times: user 11min 30s, sys: 4.01 s, total: 11min 34s\n",
      "Wall time: 5min 48s\n"
     ]
    }
   ],
   "source": [
    "%%time\n",
    "\n",
    "sentiment_pipeline = pipeline(\"sentiment-analysis\")\n",
    "\n",
    "train_features['sentiment'] = train['text'].apply(lambda x: sentiment_pipeline(x)[0]['score'])\n",
    "test_features['sentiment'] = test['text'].apply(lambda x: sentiment_pipeline(x)[0]['score'])"
   ]
  },
  {
   "cell_type": "markdown",
   "id": "16e95aec",
   "metadata": {
    "papermill": {
     "duration": 0.023334,
     "end_time": "2024-10-08T07:50:49.115273",
     "exception": false,
     "start_time": "2024-10-08T07:50:49.091939",
     "status": "completed"
    },
    "tags": []
   },
   "source": [
    "### Hashtags"
   ]
  },
  {
   "cell_type": "code",
   "execution_count": 35,
   "id": "9029cd84",
   "metadata": {
    "execution": {
     "iopub.execute_input": "2024-10-08T07:50:49.164939Z",
     "iopub.status.busy": "2024-10-08T07:50:49.164036Z",
     "iopub.status.idle": "2024-10-08T07:50:49.191126Z",
     "shell.execute_reply": "2024-10-08T07:50:49.190206Z"
    },
    "papermill": {
     "duration": 0.054285,
     "end_time": "2024-10-08T07:50:49.193317",
     "exception": false,
     "start_time": "2024-10-08T07:50:49.139032",
     "status": "completed"
    },
    "tags": []
   },
   "outputs": [],
   "source": [
    "train_features['hashtag_nums'] = train['text'].apply(lambda text: len(re.findall(r'#\\S+', text)))\n",
    "test_features['hashtag_nums'] = test['text'].apply(lambda text: len(re.findall(r'#\\S+', text)))"
   ]
  },
  {
   "cell_type": "markdown",
   "id": "b6001301",
   "metadata": {
    "papermill": {
     "duration": 0.023655,
     "end_time": "2024-10-08T07:50:49.243402",
     "exception": false,
     "start_time": "2024-10-08T07:50:49.219747",
     "status": "completed"
    },
    "tags": []
   },
   "source": [
    "### Keyword density"
   ]
  },
  {
   "cell_type": "code",
   "execution_count": 36,
   "id": "5180a9d9",
   "metadata": {
    "execution": {
     "iopub.execute_input": "2024-10-08T07:50:49.294606Z",
     "iopub.status.busy": "2024-10-08T07:50:49.293714Z",
     "iopub.status.idle": "2024-10-08T07:50:58.694227Z",
     "shell.execute_reply": "2024-10-08T07:50:58.693175Z"
    },
    "papermill": {
     "duration": 9.429569,
     "end_time": "2024-10-08T07:50:58.696809",
     "exception": false,
     "start_time": "2024-10-08T07:50:49.267240",
     "status": "completed"
    },
    "tags": []
   },
   "outputs": [],
   "source": [
    "def keyword_density(text, keywords):\n",
    "    count = sum(1 for keyword in text.split() if keyword in keywords)\n",
    "    return count/len(text.split())\n",
    "train_features['keyword_density'] = train['text'].apply(lambda text: keyword_density(text, train['keyword'].unique()))\n",
    "test_features['keyword_density'] = test['text'].apply(lambda text: keyword_density(text, train['keyword'].unique()))"
   ]
  },
  {
   "cell_type": "markdown",
   "id": "788fda46",
   "metadata": {
    "papermill": {
     "duration": 0.023392,
     "end_time": "2024-10-08T07:50:58.744381",
     "exception": false,
     "start_time": "2024-10-08T07:50:58.720989",
     "status": "completed"
    },
    "tags": []
   },
   "source": [
    "# 4. Backward Elimination"
   ]
  },
  {
   "cell_type": "code",
   "execution_count": 37,
   "id": "6cc8ffd8",
   "metadata": {
    "execution": {
     "iopub.execute_input": "2024-10-08T07:50:58.792921Z",
     "iopub.status.busy": "2024-10-08T07:50:58.792465Z",
     "iopub.status.idle": "2024-10-08T07:51:00.157706Z",
     "shell.execute_reply": "2024-10-08T07:51:00.156642Z"
    },
    "papermill": {
     "duration": 1.392059,
     "end_time": "2024-10-08T07:51:00.159987",
     "exception": false,
     "start_time": "2024-10-08T07:50:58.767928",
     "status": "completed"
    },
    "tags": []
   },
   "outputs": [
    {
     "name": "stdout",
     "output_type": "stream",
     "text": [
      "CPU times: user 901 ms, sys: 101 ms, total: 1 s\n",
      "Wall time: 1.36 s\n"
     ]
    }
   ],
   "source": [
    "%%time\n",
    "\n",
    "import statsmodels.api as sm\n",
    "\n",
    "def backward_elimination(train_data, test_data, train_target, p=0.05):\n",
    "    while True:\n",
    "        ols = sm.OLS(train_target, train_data).fit()\n",
    "        max_p_value = max(ols.pvalues[1:])\n",
    "        if max_p_value < p:\n",
    "            break\n",
    "        max_p_idx = ols.pvalues[1:].argmax()+1\n",
    "        train_data = np.delete(train_data, max_p_idx, axis=1)\n",
    "        test_data = np.delete(test_data, max_p_idx, axis=1)\n",
    "    print(ols.summary())\n",
    "    \n",
    "    # remove constant column\n",
    "    train_data = np.delete(train_data, 0, axis=1)\n",
    "    test_data = np.delete(test_data, 0, axis=1)\n",
    "    return train_data, test_data\n",
    "\n",
    "train_feature_stack = np.hstack([train_keywords, train_locations, np.array(train_features)])\n",
    "test_feature_stack = np.hstack([test_keywords, test_locations, np.array(test_features)])\n",
    "\n",
    "# train_feature_stack = sm.add_constant(train_feature_stack)\n",
    "# test_feature_stack = sm.add_constant(test_feature_stack)\n",
    "# train_feature_stack, test_feature_stack = backward_elimination(train_feature_stack, test_feature_stack, train['target'])"
   ]
  },
  {
   "cell_type": "code",
   "execution_count": 38,
   "id": "b956ca63",
   "metadata": {
    "execution": {
     "iopub.execute_input": "2024-10-08T07:51:00.210381Z",
     "iopub.status.busy": "2024-10-08T07:51:00.209095Z",
     "iopub.status.idle": "2024-10-08T07:51:00.215786Z",
     "shell.execute_reply": "2024-10-08T07:51:00.214939Z"
    },
    "papermill": {
     "duration": 0.033437,
     "end_time": "2024-10-08T07:51:00.217552",
     "exception": false,
     "start_time": "2024-10-08T07:51:00.184115",
     "status": "completed"
    },
    "tags": []
   },
   "outputs": [
    {
     "data": {
      "text/plain": [
       "((7561, 380), (3263, 380))"
      ]
     },
     "execution_count": 38,
     "metadata": {},
     "output_type": "execute_result"
    }
   ],
   "source": [
    "train_feature_stack.shape, test_feature_stack.shape"
   ]
  },
  {
   "cell_type": "markdown",
   "id": "c4b2a823",
   "metadata": {
    "papermill": {
     "duration": 0.023717,
     "end_time": "2024-10-08T07:51:00.265171",
     "exception": false,
     "start_time": "2024-10-08T07:51:00.241454",
     "status": "completed"
    },
    "tags": []
   },
   "source": [
    "# 5. DistilBert Embeddings"
   ]
  },
  {
   "cell_type": "code",
   "execution_count": 39,
   "id": "cd04d9eb",
   "metadata": {
    "execution": {
     "iopub.execute_input": "2024-10-08T07:51:00.314423Z",
     "iopub.status.busy": "2024-10-08T07:51:00.314073Z",
     "iopub.status.idle": "2024-10-08T07:51:46.219000Z",
     "shell.execute_reply": "2024-10-08T07:51:46.217977Z"
    },
    "papermill": {
     "duration": 45.956472,
     "end_time": "2024-10-08T07:51:46.245671",
     "exception": false,
     "start_time": "2024-10-08T07:51:00.289199",
     "status": "completed"
    },
    "tags": []
   },
   "outputs": [
    {
     "data": {
      "application/vnd.jupyter.widget-view+json": {
       "model_id": "537330a1a1e245e6a1e58ff411edf653",
       "version_major": 2,
       "version_minor": 0
      },
      "text/plain": [
       "tokenizer_config.json:   0%|          | 0.00/48.0 [00:00<?, ?B/s]"
      ]
     },
     "metadata": {},
     "output_type": "display_data"
    },
    {
     "data": {
      "application/vnd.jupyter.widget-view+json": {
       "model_id": "797fb47741d14c8394cd18debe59a2b5",
       "version_major": 2,
       "version_minor": 0
      },
      "text/plain": [
       "vocab.txt:   0%|          | 0.00/232k [00:00<?, ?B/s]"
      ]
     },
     "metadata": {},
     "output_type": "display_data"
    },
    {
     "data": {
      "application/vnd.jupyter.widget-view+json": {
       "model_id": "085da077f18846da86d59e1f1a52a6b0",
       "version_major": 2,
       "version_minor": 0
      },
      "text/plain": [
       "tokenizer.json:   0%|          | 0.00/466k [00:00<?, ?B/s]"
      ]
     },
     "metadata": {},
     "output_type": "display_data"
    },
    {
     "data": {
      "application/vnd.jupyter.widget-view+json": {
       "model_id": "b8444c05f8754668946fc50c545038ad",
       "version_major": 2,
       "version_minor": 0
      },
      "text/plain": [
       "config.json:   0%|          | 0.00/483 [00:00<?, ?B/s]"
      ]
     },
     "metadata": {},
     "output_type": "display_data"
    },
    {
     "name": "stderr",
     "output_type": "stream",
     "text": [
      "/opt/conda/lib/python3.10/site-packages/transformers/tokenization_utils_base.py:1601: FutureWarning: `clean_up_tokenization_spaces` was not set. It will be set to `True` by default. This behavior will be depracted in transformers v4.45, and will be then set to `False` by default. For more details check this issue: https://github.com/huggingface/transformers/issues/31884\n",
      "  warnings.warn(\n"
     ]
    },
    {
     "data": {
      "application/vnd.jupyter.widget-view+json": {
       "model_id": "8584fa51ac5f4e35aacac743afeda15d",
       "version_major": 2,
       "version_minor": 0
      },
      "text/plain": [
       "model.safetensors:   0%|          | 0.00/268M [00:00<?, ?B/s]"
      ]
     },
     "metadata": {},
     "output_type": "display_data"
    },
    {
     "name": "stderr",
     "output_type": "stream",
     "text": [
      "Some weights of the PyTorch model were not used when initializing the TF 2.0 model TFDistilBertModel: ['vocab_layer_norm.weight', 'vocab_transform.weight', 'vocab_transform.bias', 'vocab_projector.bias', 'vocab_layer_norm.bias']\n",
      "- This IS expected if you are initializing TFDistilBertModel from a PyTorch model trained on another task or with another architecture (e.g. initializing a TFBertForSequenceClassification model from a BertForPreTraining model).\n",
      "- This IS NOT expected if you are initializing TFDistilBertModel from a PyTorch model that you expect to be exactly identical (e.g. initializing a TFBertForSequenceClassification model from a BertForSequenceClassification model).\n",
      "All the weights of TFDistilBertModel were initialized from the PyTorch model.\n",
      "If your task is similar to the task the model of the checkpoint was trained on, you can already use TFDistilBertModel for predictions without further training.\n"
     ]
    },
    {
     "name": "stdout",
     "output_type": "stream",
     "text": [
      "CPU times: user 42.2 s, sys: 1.14 s, total: 43.4 s\n",
      "Wall time: 45.9 s\n"
     ]
    }
   ],
   "source": [
    "%%time\n",
    "\n",
    "def get_embeddings(texts, tokenizer, model, batch=32, max_len=160):\n",
    "    embeddings = []\n",
    "    for i in range(0, len(texts), batch):\n",
    "        batch_texts = texts[i:i+batch]\n",
    "        inputs = tokenizer(batch_texts.to_list(), return_tensors='tf', padding=True, truncation=True, max_length=max_len)\n",
    "        outputs = model(inputs)\n",
    "        embeddings.append(outputs.last_hidden_state[:, 0, :].numpy())\n",
    "    return np.vstack(embeddings)\n",
    "\n",
    "tokenizer = DistilBertTokenizer.from_pretrained('distilbert-base-uncased')\n",
    "db = TFDistilBertModel.from_pretrained('distilbert-base-uncased')\n",
    "train_embeddings = get_embeddings(train['text'], tokenizer, db)\n",
    "test_embeddings = get_embeddings(test['text'], tokenizer, db)"
   ]
  },
  {
   "cell_type": "code",
   "execution_count": 40,
   "id": "8d33da67",
   "metadata": {
    "execution": {
     "iopub.execute_input": "2024-10-08T07:51:46.296520Z",
     "iopub.status.busy": "2024-10-08T07:51:46.296177Z",
     "iopub.status.idle": "2024-10-08T07:51:46.302091Z",
     "shell.execute_reply": "2024-10-08T07:51:46.301218Z"
    },
    "papermill": {
     "duration": 0.033492,
     "end_time": "2024-10-08T07:51:46.303973",
     "exception": false,
     "start_time": "2024-10-08T07:51:46.270481",
     "status": "completed"
    },
    "tags": []
   },
   "outputs": [
    {
     "data": {
      "text/plain": [
       "((7561, 768), (3263, 768))"
      ]
     },
     "execution_count": 40,
     "metadata": {},
     "output_type": "execute_result"
    }
   ],
   "source": [
    "train_embeddings.shape, test_embeddings.shape"
   ]
  },
  {
   "cell_type": "markdown",
   "id": "c669c5ac",
   "metadata": {
    "papermill": {
     "duration": 0.025071,
     "end_time": "2024-10-08T07:51:46.354177",
     "exception": false,
     "start_time": "2024-10-08T07:51:46.329106",
     "status": "completed"
    },
    "tags": []
   },
   "source": [
    "# 6. Finalize Datasets"
   ]
  },
  {
   "cell_type": "markdown",
   "id": "4fe2d01d",
   "metadata": {
    "papermill": {
     "duration": 0.024668,
     "end_time": "2024-10-08T07:51:46.403896",
     "exception": false,
     "start_time": "2024-10-08T07:51:46.379228",
     "status": "completed"
    },
    "tags": []
   },
   "source": [
    "# 7. Model"
   ]
  },
  {
   "cell_type": "markdown",
   "id": "3a5e6535",
   "metadata": {
    "papermill": {
     "duration": 0.025365,
     "end_time": "2024-10-08T07:51:46.454171",
     "exception": false,
     "start_time": "2024-10-08T07:51:46.428806",
     "status": "completed"
    },
    "tags": []
   },
   "source": [
    "### Model definition"
   ]
  },
  {
   "cell_type": "code",
   "execution_count": 41,
   "id": "8907ac55",
   "metadata": {
    "execution": {
     "iopub.execute_input": "2024-10-08T07:51:46.506058Z",
     "iopub.status.busy": "2024-10-08T07:51:46.505669Z",
     "iopub.status.idle": "2024-10-08T07:51:46.521591Z",
     "shell.execute_reply": "2024-10-08T07:51:46.520730Z"
    },
    "papermill": {
     "duration": 0.04388,
     "end_time": "2024-10-08T07:51:46.523450",
     "exception": false,
     "start_time": "2024-10-08T07:51:46.479570",
     "status": "completed"
    },
    "tags": []
   },
   "outputs": [],
   "source": [
    "def wrapper_model(dim_embs, dim_features, max_len=160, summary=True):\n",
    "    # embeddings\n",
    "    emb_input = Input(shape=(dim_embs,), dtype=tf.float32, name=\"embeddings_input\")\n",
    "    text_dense = Dense(128, activation='relu')(emb_input)\n",
    "    text_dense = Dropout(0.3)(text_dense)\n",
    "\n",
    "    # features\n",
    "    feature_input = Input(shape=(dim_features,), name='feature_input')\n",
    "    feature_dense = Dense(32, activation='relu')(feature_input)\n",
    "    feature_dense = Dropout(0.3)(feature_dense)\n",
    "\n",
    "    # all together\n",
    "    concatenated = Concatenate(axis=1)([text_dense, feature_dense])\n",
    "    dense_1 = Dense(128, activation='relu')(concatenated)\n",
    "    dense_1 = Dropout(0.3)(dense_1)\n",
    "    dense_1 = BatchNormalization()(dense_1)\n",
    "\n",
    "    dense_2 = Dense(64, activation='relu')(dense_1)\n",
    "    dense_2 = Dropout(0.3)(dense_2)\n",
    "    dense_2 = BatchNormalization()(dense_2)\n",
    "    \n",
    "    output = Dense(1, activation='sigmoid')(dense_2)\n",
    "    \n",
    "    model = Model(inputs=[emb_input, feature_input], outputs=output)\n",
    "    if summary:\n",
    "        model.summary()\n",
    "    return model\n",
    "\n",
    "def wrapper_compile(model, X_embeddings, X_features, y, l_rate=1e-3, batch_size=32, epochs=3, plots=True):\n",
    "    early_stopping = EarlyStopping(monitor='val_loss', mode='min', patience=10, restore_best_weights=True)\n",
    "    X_emb_train, X_emb_val, X_fea_train, X_fea_val, y_train, y_val = train_test_split(X_embeddings, X_features, y, test_size=0.2, random_state=SEED)\n",
    "    model.compile(loss=losses.BinaryCrossentropy(from_logits=False), optimizer=optimizers.Adam(l_rate), metrics=['accuracy', f1_score])\n",
    "    history = model.fit([X_emb_train, X_fea_train], y_train, batch_size=batch_size, epochs=epochs, callbacks=[early_stopping], validation_data=([X_emb_val, X_fea_val], y_val))\n",
    "    if plots:\n",
    "        history_df = pd.DataFrame(data=history.history)\n",
    "        history_df.loc[:, ['loss', 'val_loss']].plot()\n",
    "        history_df.loc[:, ['accuracy', 'val_accuracy']].plot()\n",
    "        history_df.loc[:, ['f1_score', 'val_f1_score']].plot()\n",
    "        \n",
    "def wrapper_compile_cheat(model, X_embeddings, X_features, X_test_embeddings, X_test_features, y, l_rate=1e-3, batch_size=32, epochs=3, plots=True):\n",
    "    early_stopping = EarlyStopping(monitor='val_loss', mode='min', patience=10, restore_best_weights=True)\n",
    "    model.compile(loss=losses.BinaryCrossentropy(from_logits=False), optimizer=optimizers.Adam(l_rate), metrics=['accuracy', f1_score])\n",
    "    history = model.fit([X_embeddings, X_features], y, batch_size=batch_size, epochs=epochs, callbacks=[early_stopping], validation_data=([X_test_embeddings, X_test_features], test_labels['target']))\n",
    "    if plots:\n",
    "        history_df = pd.DataFrame(data=history.history)\n",
    "        history_df.loc[:, ['f1_score', 'val_f1_score']].plot()"
   ]
  },
  {
   "cell_type": "markdown",
   "id": "d8249fa3",
   "metadata": {
    "papermill": {
     "duration": 0.02474,
     "end_time": "2024-10-08T07:51:46.573603",
     "exception": false,
     "start_time": "2024-10-08T07:51:46.548863",
     "status": "completed"
    },
    "tags": []
   },
   "source": [
    "### Hyperparameter tuining (learning rate and epochs)"
   ]
  },
  {
   "cell_type": "code",
   "execution_count": 42,
   "id": "358c1544",
   "metadata": {
    "execution": {
     "iopub.execute_input": "2024-10-08T07:51:46.624755Z",
     "iopub.status.busy": "2024-10-08T07:51:46.624420Z",
     "iopub.status.idle": "2024-10-08T07:53:04.647441Z",
     "shell.execute_reply": "2024-10-08T07:53:04.646545Z"
    },
    "papermill": {
     "duration": 78.050977,
     "end_time": "2024-10-08T07:53:04.649519",
     "exception": false,
     "start_time": "2024-10-08T07:51:46.598542",
     "status": "completed"
    },
    "tags": []
   },
   "outputs": [
    {
     "name": "stdout",
     "output_type": "stream",
     "text": [
      "===========learning rate: 0.0001===========\n",
      "Epoch 1/50\n"
     ]
    },
    {
     "name": "stderr",
     "output_type": "stream",
     "text": [
      "WARNING: All log messages before absl::InitializeLog() is called are written to STDERR\n",
      "I0000 00:00:1728373909.441526      85 service.cc:145] XLA service 0x7fb2d00033f0 initialized for platform CUDA (this does not guarantee that XLA will be used). Devices:\n",
      "I0000 00:00:1728373909.441582      85 service.cc:153]   StreamExecutor device (0): Tesla P100-PCIE-16GB, Compute Capability 6.0\n"
     ]
    },
    {
     "name": "stdout",
     "output_type": "stream",
     "text": [
      "\u001b[1m 80/189\u001b[0m \u001b[32m━━━━━━━━\u001b[0m\u001b[37m━━━━━━━━━━━━\u001b[0m \u001b[1m0s\u001b[0m 2ms/step - accuracy: 0.5315 - f1_score: 0.4880 - loss: 0.8272"
     ]
    },
    {
     "name": "stderr",
     "output_type": "stream",
     "text": [
      "I0000 00:00:1728373915.334515      85 device_compiler.h:188] Compiled cluster using XLA!  This line is logged at most once for the lifetime of the process.\n"
     ]
    },
    {
     "name": "stdout",
     "output_type": "stream",
     "text": [
      "\u001b[1m189/189\u001b[0m \u001b[32m━━━━━━━━━━━━━━━━━━━━\u001b[0m\u001b[37m\u001b[0m \u001b[1m9s\u001b[0m 7ms/step - accuracy: 0.5608 - f1_score: 0.5145 - loss: 0.7832 - val_accuracy: 0.7376 - val_f1_score: 0.5737 - val_loss: 0.5590\n",
      "Epoch 2/50\n",
      "\u001b[1m189/189\u001b[0m \u001b[32m━━━━━━━━━━━━━━━━━━━━\u001b[0m\u001b[37m\u001b[0m \u001b[1m0s\u001b[0m 2ms/step - accuracy: 0.6834 - f1_score: 0.6269 - loss: 0.6253 - val_accuracy: 0.7687 - val_f1_score: 0.6797 - val_loss: 0.4822\n",
      "Epoch 3/50\n",
      "\u001b[1m189/189\u001b[0m \u001b[32m━━━━━━━━━━━━━━━━━━━━\u001b[0m\u001b[37m\u001b[0m \u001b[1m0s\u001b[0m 2ms/step - accuracy: 0.7426 - f1_score: 0.6849 - loss: 0.5577 - val_accuracy: 0.7766 - val_f1_score: 0.6816 - val_loss: 0.4695\n",
      "Epoch 4/50\n",
      "\u001b[1m189/189\u001b[0m \u001b[32m━━━━━━━━━━━━━━━━━━━━\u001b[0m\u001b[37m\u001b[0m \u001b[1m0s\u001b[0m 2ms/step - accuracy: 0.7601 - f1_score: 0.7014 - loss: 0.5271 - val_accuracy: 0.7806 - val_f1_score: 0.6832 - val_loss: 0.4656\n",
      "Epoch 5/50\n",
      "\u001b[1m189/189\u001b[0m \u001b[32m━━━━━━━━━━━━━━━━━━━━\u001b[0m\u001b[37m\u001b[0m \u001b[1m0s\u001b[0m 2ms/step - accuracy: 0.7604 - f1_score: 0.7016 - loss: 0.5167 - val_accuracy: 0.7978 - val_f1_score: 0.7215 - val_loss: 0.4496\n",
      "Epoch 6/50\n",
      "\u001b[1m189/189\u001b[0m \u001b[32m━━━━━━━━━━━━━━━━━━━━\u001b[0m\u001b[37m\u001b[0m \u001b[1m0s\u001b[0m 2ms/step - accuracy: 0.7739 - f1_score: 0.7120 - loss: 0.5076 - val_accuracy: 0.7865 - val_f1_score: 0.6855 - val_loss: 0.4511\n",
      "Epoch 7/50\n",
      "\u001b[1m189/189\u001b[0m \u001b[32m━━━━━━━━━━━━━━━━━━━━\u001b[0m\u001b[37m\u001b[0m \u001b[1m0s\u001b[0m 2ms/step - accuracy: 0.7830 - f1_score: 0.7232 - loss: 0.4861 - val_accuracy: 0.7911 - val_f1_score: 0.7020 - val_loss: 0.4431\n",
      "Epoch 8/50\n",
      "\u001b[1m189/189\u001b[0m \u001b[32m━━━━━━━━━━━━━━━━━━━━\u001b[0m\u001b[37m\u001b[0m \u001b[1m0s\u001b[0m 2ms/step - accuracy: 0.7814 - f1_score: 0.7228 - loss: 0.4764 - val_accuracy: 0.7951 - val_f1_score: 0.7049 - val_loss: 0.4428\n",
      "Epoch 9/50\n",
      "\u001b[1m189/189\u001b[0m \u001b[32m━━━━━━━━━━━━━━━━━━━━\u001b[0m\u001b[37m\u001b[0m \u001b[1m0s\u001b[0m 2ms/step - accuracy: 0.7827 - f1_score: 0.7217 - loss: 0.4884 - val_accuracy: 0.7931 - val_f1_score: 0.6969 - val_loss: 0.4487\n",
      "Epoch 10/50\n",
      "\u001b[1m189/189\u001b[0m \u001b[32m━━━━━━━━━━━━━━━━━━━━\u001b[0m\u001b[37m\u001b[0m \u001b[1m0s\u001b[0m 2ms/step - accuracy: 0.7982 - f1_score: 0.7452 - loss: 0.4593 - val_accuracy: 0.8017 - val_f1_score: 0.7316 - val_loss: 0.4357\n",
      "Epoch 11/50\n",
      "\u001b[1m189/189\u001b[0m \u001b[32m━━━━━━━━━━━━━━━━━━━━\u001b[0m\u001b[37m\u001b[0m \u001b[1m0s\u001b[0m 2ms/step - accuracy: 0.8008 - f1_score: 0.7482 - loss: 0.4539 - val_accuracy: 0.7951 - val_f1_score: 0.6997 - val_loss: 0.4438\n",
      "Epoch 12/50\n",
      "\u001b[1m189/189\u001b[0m \u001b[32m━━━━━━━━━━━━━━━━━━━━\u001b[0m\u001b[37m\u001b[0m \u001b[1m0s\u001b[0m 2ms/step - accuracy: 0.8049 - f1_score: 0.7511 - loss: 0.4423 - val_accuracy: 0.8004 - val_f1_score: 0.7264 - val_loss: 0.4337\n",
      "Epoch 13/50\n",
      "\u001b[1m189/189\u001b[0m \u001b[32m━━━━━━━━━━━━━━━━━━━━\u001b[0m\u001b[37m\u001b[0m \u001b[1m1s\u001b[0m 3ms/step - accuracy: 0.8059 - f1_score: 0.7562 - loss: 0.4451 - val_accuracy: 0.8004 - val_f1_score: 0.7197 - val_loss: 0.4312\n",
      "Epoch 14/50\n",
      "\u001b[1m189/189\u001b[0m \u001b[32m━━━━━━━━━━━━━━━━━━━━\u001b[0m\u001b[37m\u001b[0m \u001b[1m0s\u001b[0m 2ms/step - accuracy: 0.8047 - f1_score: 0.7525 - loss: 0.4400 - val_accuracy: 0.8037 - val_f1_score: 0.7197 - val_loss: 0.4346\n",
      "Epoch 15/50\n",
      "\u001b[1m189/189\u001b[0m \u001b[32m━━━━━━━━━━━━━━━━━━━━\u001b[0m\u001b[37m\u001b[0m \u001b[1m0s\u001b[0m 2ms/step - accuracy: 0.7991 - f1_score: 0.7446 - loss: 0.4349 - val_accuracy: 0.8116 - val_f1_score: 0.7461 - val_loss: 0.4293\n",
      "Epoch 16/50\n",
      "\u001b[1m189/189\u001b[0m \u001b[32m━━━━━━━━━━━━━━━━━━━━\u001b[0m\u001b[37m\u001b[0m \u001b[1m0s\u001b[0m 2ms/step - accuracy: 0.8124 - f1_score: 0.7659 - loss: 0.4266 - val_accuracy: 0.8077 - val_f1_score: 0.7302 - val_loss: 0.4331\n",
      "Epoch 17/50\n",
      "\u001b[1m189/189\u001b[0m \u001b[32m━━━━━━━━━━━━━━━━━━━━\u001b[0m\u001b[37m\u001b[0m \u001b[1m0s\u001b[0m 2ms/step - accuracy: 0.8096 - f1_score: 0.7592 - loss: 0.4282 - val_accuracy: 0.8096 - val_f1_score: 0.7391 - val_loss: 0.4276\n",
      "Epoch 18/50\n",
      "\u001b[1m189/189\u001b[0m \u001b[32m━━━━━━━━━━━━━━━━━━━━\u001b[0m\u001b[37m\u001b[0m \u001b[1m0s\u001b[0m 2ms/step - accuracy: 0.8184 - f1_score: 0.7725 - loss: 0.4213 - val_accuracy: 0.8070 - val_f1_score: 0.7284 - val_loss: 0.4311\n",
      "Epoch 19/50\n",
      "\u001b[1m189/189\u001b[0m \u001b[32m━━━━━━━━━━━━━━━━━━━━\u001b[0m\u001b[37m\u001b[0m \u001b[1m0s\u001b[0m 2ms/step - accuracy: 0.8139 - f1_score: 0.7669 - loss: 0.4182 - val_accuracy: 0.8070 - val_f1_score: 0.7297 - val_loss: 0.4250\n",
      "Epoch 20/50\n",
      "\u001b[1m189/189\u001b[0m \u001b[32m━━━━━━━━━━━━━━━━━━━━\u001b[0m\u001b[37m\u001b[0m \u001b[1m0s\u001b[0m 2ms/step - accuracy: 0.8182 - f1_score: 0.7717 - loss: 0.4141 - val_accuracy: 0.8090 - val_f1_score: 0.7336 - val_loss: 0.4265\n",
      "Epoch 21/50\n",
      "\u001b[1m189/189\u001b[0m \u001b[32m━━━━━━━━━━━━━━━━━━━━\u001b[0m\u001b[37m\u001b[0m \u001b[1m0s\u001b[0m 2ms/step - accuracy: 0.8154 - f1_score: 0.7670 - loss: 0.4099 - val_accuracy: 0.8083 - val_f1_score: 0.7314 - val_loss: 0.4261\n",
      "Epoch 22/50\n",
      "\u001b[1m189/189\u001b[0m \u001b[32m━━━━━━━━━━━━━━━━━━━━\u001b[0m\u001b[37m\u001b[0m \u001b[1m0s\u001b[0m 2ms/step - accuracy: 0.8248 - f1_score: 0.7773 - loss: 0.4080 - val_accuracy: 0.8044 - val_f1_score: 0.7243 - val_loss: 0.4303\n",
      "Epoch 23/50\n",
      "\u001b[1m189/189\u001b[0m \u001b[32m━━━━━━━━━━━━━━━━━━━━\u001b[0m\u001b[37m\u001b[0m \u001b[1m0s\u001b[0m 2ms/step - accuracy: 0.8192 - f1_score: 0.7726 - loss: 0.3967 - val_accuracy: 0.8044 - val_f1_score: 0.7307 - val_loss: 0.4292\n",
      "Epoch 24/50\n",
      "\u001b[1m189/189\u001b[0m \u001b[32m━━━━━━━━━━━━━━━━━━━━\u001b[0m\u001b[37m\u001b[0m \u001b[1m1s\u001b[0m 3ms/step - accuracy: 0.8373 - f1_score: 0.7943 - loss: 0.3877 - val_accuracy: 0.8077 - val_f1_score: 0.7329 - val_loss: 0.4270\n",
      "Epoch 25/50\n",
      "\u001b[1m189/189\u001b[0m \u001b[32m━━━━━━━━━━━━━━━━━━━━\u001b[0m\u001b[37m\u001b[0m \u001b[1m0s\u001b[0m 2ms/step - accuracy: 0.8326 - f1_score: 0.7873 - loss: 0.3853 - val_accuracy: 0.8096 - val_f1_score: 0.7291 - val_loss: 0.4280\n",
      "Epoch 26/50\n",
      "\u001b[1m189/189\u001b[0m \u001b[32m━━━━━━━━━━━━━━━━━━━━\u001b[0m\u001b[37m\u001b[0m \u001b[1m0s\u001b[0m 2ms/step - accuracy: 0.8398 - f1_score: 0.8001 - loss: 0.3727 - val_accuracy: 0.8143 - val_f1_score: 0.7441 - val_loss: 0.4242\n",
      "Epoch 27/50\n",
      "\u001b[1m189/189\u001b[0m \u001b[32m━━━━━━━━━━━━━━━━━━━━\u001b[0m\u001b[37m\u001b[0m \u001b[1m0s\u001b[0m 2ms/step - accuracy: 0.8403 - f1_score: 0.8002 - loss: 0.3751 - val_accuracy: 0.8136 - val_f1_score: 0.7421 - val_loss: 0.4287\n",
      "Epoch 28/50\n",
      "\u001b[1m189/189\u001b[0m \u001b[32m━━━━━━━━━━━━━━━━━━━━\u001b[0m\u001b[37m\u001b[0m \u001b[1m0s\u001b[0m 2ms/step - accuracy: 0.8461 - f1_score: 0.8052 - loss: 0.3725 - val_accuracy: 0.8110 - val_f1_score: 0.7416 - val_loss: 0.4286\n",
      "Epoch 29/50\n",
      "\u001b[1m189/189\u001b[0m \u001b[32m━━━━━━━━━━━━━━━━━━━━\u001b[0m\u001b[37m\u001b[0m \u001b[1m0s\u001b[0m 2ms/step - accuracy: 0.8454 - f1_score: 0.8057 - loss: 0.3713 - val_accuracy: 0.8090 - val_f1_score: 0.7362 - val_loss: 0.4302\n",
      "Epoch 30/50\n",
      "\u001b[1m189/189\u001b[0m \u001b[32m━━━━━━━━━━━━━━━━━━━━\u001b[0m\u001b[37m\u001b[0m \u001b[1m0s\u001b[0m 2ms/step - accuracy: 0.8458 - f1_score: 0.8069 - loss: 0.3645 - val_accuracy: 0.8083 - val_f1_score: 0.7384 - val_loss: 0.4316\n",
      "Epoch 31/50\n",
      "\u001b[1m189/189\u001b[0m \u001b[32m━━━━━━━━━━━━━━━━━━━━\u001b[0m\u001b[37m\u001b[0m \u001b[1m0s\u001b[0m 2ms/step - accuracy: 0.8403 - f1_score: 0.8005 - loss: 0.3674 - val_accuracy: 0.8044 - val_f1_score: 0.7313 - val_loss: 0.4331\n",
      "Epoch 32/50\n",
      "\u001b[1m189/189\u001b[0m \u001b[32m━━━━━━━━━━━━━━━━━━━━\u001b[0m\u001b[37m\u001b[0m \u001b[1m0s\u001b[0m 2ms/step - accuracy: 0.8497 - f1_score: 0.8120 - loss: 0.3547 - val_accuracy: 0.8063 - val_f1_score: 0.7371 - val_loss: 0.4274\n",
      "Epoch 33/50\n",
      "\u001b[1m189/189\u001b[0m \u001b[32m━━━━━━━━━━━━━━━━━━━━\u001b[0m\u001b[37m\u001b[0m \u001b[1m0s\u001b[0m 2ms/step - accuracy: 0.8497 - f1_score: 0.8130 - loss: 0.3469 - val_accuracy: 0.8090 - val_f1_score: 0.7329 - val_loss: 0.4376\n",
      "Epoch 34/50\n",
      "\u001b[1m189/189\u001b[0m \u001b[32m━━━━━━━━━━━━━━━━━━━━\u001b[0m\u001b[37m\u001b[0m \u001b[1m0s\u001b[0m 2ms/step - accuracy: 0.8548 - f1_score: 0.8179 - loss: 0.3516 - val_accuracy: 0.8123 - val_f1_score: 0.7459 - val_loss: 0.4312\n",
      "Epoch 35/50\n",
      "\u001b[1m189/189\u001b[0m \u001b[32m━━━━━━━━━━━━━━━━━━━━\u001b[0m\u001b[37m\u001b[0m \u001b[1m0s\u001b[0m 2ms/step - accuracy: 0.8545 - f1_score: 0.8196 - loss: 0.3467 - val_accuracy: 0.8163 - val_f1_score: 0.7494 - val_loss: 0.4298\n",
      "Epoch 36/50\n",
      "\u001b[1m189/189\u001b[0m \u001b[32m━━━━━━━━━━━━━━━━━━━━\u001b[0m\u001b[37m\u001b[0m \u001b[1m0s\u001b[0m 2ms/step - accuracy: 0.8541 - f1_score: 0.8171 - loss: 0.3383 - val_accuracy: 0.8110 - val_f1_score: 0.7484 - val_loss: 0.4343\n",
      "===========learning rate: 0.0005===========\n",
      "Epoch 1/50\n",
      "\u001b[1m189/189\u001b[0m \u001b[32m━━━━━━━━━━━━━━━━━━━━\u001b[0m\u001b[37m\u001b[0m \u001b[1m8s\u001b[0m 6ms/step - accuracy: 0.6432 - f1_score: 0.5966 - loss: 0.6780 - val_accuracy: 0.7786 - val_f1_score: 0.6943 - val_loss: 0.4859\n",
      "Epoch 2/50\n",
      "\u001b[1m189/189\u001b[0m \u001b[32m━━━━━━━━━━━━━━━━━━━━\u001b[0m\u001b[37m\u001b[0m \u001b[1m1s\u001b[0m 3ms/step - accuracy: 0.7640 - f1_score: 0.7066 - loss: 0.5043 - val_accuracy: 0.7951 - val_f1_score: 0.7345 - val_loss: 0.4410\n",
      "Epoch 3/50\n",
      "\u001b[1m189/189\u001b[0m \u001b[32m━━━━━━━━━━━━━━━━━━━━\u001b[0m\u001b[37m\u001b[0m \u001b[1m0s\u001b[0m 2ms/step - accuracy: 0.7897 - f1_score: 0.7369 - loss: 0.4782 - val_accuracy: 0.7978 - val_f1_score: 0.7385 - val_loss: 0.4410\n",
      "Epoch 4/50\n",
      "\u001b[1m189/189\u001b[0m \u001b[32m━━━━━━━━━━━━━━━━━━━━\u001b[0m\u001b[37m\u001b[0m \u001b[1m1s\u001b[0m 3ms/step - accuracy: 0.7977 - f1_score: 0.7467 - loss: 0.4602 - val_accuracy: 0.8011 - val_f1_score: 0.7433 - val_loss: 0.4337\n",
      "Epoch 5/50\n",
      "\u001b[1m189/189\u001b[0m \u001b[32m━━━━━━━━━━━━━━━━━━━━\u001b[0m\u001b[37m\u001b[0m \u001b[1m0s\u001b[0m 2ms/step - accuracy: 0.8094 - f1_score: 0.7604 - loss: 0.4413 - val_accuracy: 0.8004 - val_f1_score: 0.7269 - val_loss: 0.4281\n",
      "Epoch 6/50\n",
      "\u001b[1m189/189\u001b[0m \u001b[32m━━━━━━━━━━━━━━━━━━━━\u001b[0m\u001b[37m\u001b[0m \u001b[1m0s\u001b[0m 2ms/step - accuracy: 0.8133 - f1_score: 0.7629 - loss: 0.4274 - val_accuracy: 0.8196 - val_f1_score: 0.7525 - val_loss: 0.4237\n",
      "Epoch 7/50\n",
      "\u001b[1m189/189\u001b[0m \u001b[32m━━━━━━━━━━━━━━━━━━━━\u001b[0m\u001b[37m\u001b[0m \u001b[1m0s\u001b[0m 2ms/step - accuracy: 0.8225 - f1_score: 0.7771 - loss: 0.4124 - val_accuracy: 0.8123 - val_f1_score: 0.7482 - val_loss: 0.4194\n",
      "Epoch 8/50\n",
      "\u001b[1m189/189\u001b[0m \u001b[32m━━━━━━━━━━━━━━━━━━━━\u001b[0m\u001b[37m\u001b[0m \u001b[1m0s\u001b[0m 2ms/step - accuracy: 0.8266 - f1_score: 0.7834 - loss: 0.4011 - val_accuracy: 0.8077 - val_f1_score: 0.7643 - val_loss: 0.4352\n",
      "Epoch 9/50\n",
      "\u001b[1m189/189\u001b[0m \u001b[32m━━━━━━━━━━━━━━━━━━━━\u001b[0m\u001b[37m\u001b[0m \u001b[1m0s\u001b[0m 2ms/step - accuracy: 0.8289 - f1_score: 0.7842 - loss: 0.3981 - val_accuracy: 0.8229 - val_f1_score: 0.7624 - val_loss: 0.4152\n",
      "Epoch 10/50\n",
      "\u001b[1m189/189\u001b[0m \u001b[32m━━━━━━━━━━━━━━━━━━━━\u001b[0m\u001b[37m\u001b[0m \u001b[1m0s\u001b[0m 2ms/step - accuracy: 0.8390 - f1_score: 0.8011 - loss: 0.3845 - val_accuracy: 0.8209 - val_f1_score: 0.7525 - val_loss: 0.4130\n",
      "Epoch 11/50\n",
      "\u001b[1m189/189\u001b[0m \u001b[32m━━━━━━━━━━━━━━━━━━━━\u001b[0m\u001b[37m\u001b[0m \u001b[1m0s\u001b[0m 2ms/step - accuracy: 0.8531 - f1_score: 0.8184 - loss: 0.3661 - val_accuracy: 0.8222 - val_f1_score: 0.7671 - val_loss: 0.4249\n",
      "Epoch 12/50\n",
      "\u001b[1m189/189\u001b[0m \u001b[32m━━━━━━━━━━━━━━━━━━━━\u001b[0m\u001b[37m\u001b[0m \u001b[1m0s\u001b[0m 2ms/step - accuracy: 0.8474 - f1_score: 0.8099 - loss: 0.3671 - val_accuracy: 0.8202 - val_f1_score: 0.7502 - val_loss: 0.4203\n",
      "Epoch 13/50\n",
      "\u001b[1m189/189\u001b[0m \u001b[32m━━━━━━━━━━━━━━━━━━━━\u001b[0m\u001b[37m\u001b[0m \u001b[1m0s\u001b[0m 2ms/step - accuracy: 0.8495 - f1_score: 0.8135 - loss: 0.3531 - val_accuracy: 0.8229 - val_f1_score: 0.7677 - val_loss: 0.4212\n",
      "Epoch 14/50\n",
      "\u001b[1m189/189\u001b[0m \u001b[32m━━━━━━━━━━━━━━━━━━━━\u001b[0m\u001b[37m\u001b[0m \u001b[1m0s\u001b[0m 2ms/step - accuracy: 0.8531 - f1_score: 0.8191 - loss: 0.3515 - val_accuracy: 0.8169 - val_f1_score: 0.7537 - val_loss: 0.4276\n",
      "Epoch 15/50\n",
      "\u001b[1m189/189\u001b[0m \u001b[32m━━━━━━━━━━━━━━━━━━━━\u001b[0m\u001b[37m\u001b[0m \u001b[1m0s\u001b[0m 2ms/step - accuracy: 0.8556 - f1_score: 0.8232 - loss: 0.3443 - val_accuracy: 0.8189 - val_f1_score: 0.7604 - val_loss: 0.4318\n",
      "Epoch 16/50\n",
      "\u001b[1m189/189\u001b[0m \u001b[32m━━━━━━━━━━━━━━━━━━━━\u001b[0m\u001b[37m\u001b[0m \u001b[1m0s\u001b[0m 2ms/step - accuracy: 0.8595 - f1_score: 0.8283 - loss: 0.3409 - val_accuracy: 0.8222 - val_f1_score: 0.7665 - val_loss: 0.4335\n",
      "Epoch 17/50\n",
      "\u001b[1m189/189\u001b[0m \u001b[32m━━━━━━━━━━━━━━━━━━━━\u001b[0m\u001b[37m\u001b[0m \u001b[1m0s\u001b[0m 2ms/step - accuracy: 0.8672 - f1_score: 0.8392 - loss: 0.3179 - val_accuracy: 0.8235 - val_f1_score: 0.7734 - val_loss: 0.4609\n",
      "Epoch 18/50\n",
      "\u001b[1m189/189\u001b[0m \u001b[32m━━━━━━━━━━━━━━━━━━━━\u001b[0m\u001b[37m\u001b[0m \u001b[1m0s\u001b[0m 2ms/step - accuracy: 0.8631 - f1_score: 0.8330 - loss: 0.3216 - val_accuracy: 0.8215 - val_f1_score: 0.7705 - val_loss: 0.4430\n",
      "Epoch 19/50\n",
      "\u001b[1m189/189\u001b[0m \u001b[32m━━━━━━━━━━━━━━━━━━━━\u001b[0m\u001b[37m\u001b[0m \u001b[1m0s\u001b[0m 2ms/step - accuracy: 0.8747 - f1_score: 0.8482 - loss: 0.3078 - val_accuracy: 0.8143 - val_f1_score: 0.7610 - val_loss: 0.4442\n",
      "Epoch 20/50\n",
      "\u001b[1m189/189\u001b[0m \u001b[32m━━━━━━━━━━━━━━━━━━━━\u001b[0m\u001b[37m\u001b[0m \u001b[1m0s\u001b[0m 2ms/step - accuracy: 0.8626 - f1_score: 0.8322 - loss: 0.3197 - val_accuracy: 0.8110 - val_f1_score: 0.7536 - val_loss: 0.4493\n",
      "===========learning rate: 0.001===========\n",
      "Epoch 1/50\n",
      "\u001b[1m189/189\u001b[0m \u001b[32m━━━━━━━━━━━━━━━━━━━━\u001b[0m\u001b[37m\u001b[0m \u001b[1m8s\u001b[0m 5ms/step - accuracy: 0.6586 - f1_score: 0.6151 - loss: 0.6781 - val_accuracy: 0.7997 - val_f1_score: 0.7427 - val_loss: 0.4623\n",
      "Epoch 2/50\n",
      "\u001b[1m189/189\u001b[0m \u001b[32m━━━━━━━━━━━━━━━━━━━━\u001b[0m\u001b[37m\u001b[0m \u001b[1m0s\u001b[0m 2ms/step - accuracy: 0.7674 - f1_score: 0.7087 - loss: 0.5109 - val_accuracy: 0.7991 - val_f1_score: 0.7508 - val_loss: 0.4560\n",
      "Epoch 3/50\n",
      "\u001b[1m189/189\u001b[0m \u001b[32m━━━━━━━━━━━━━━━━━━━━\u001b[0m\u001b[37m\u001b[0m \u001b[1m0s\u001b[0m 2ms/step - accuracy: 0.7891 - f1_score: 0.7376 - loss: 0.4661 - val_accuracy: 0.8030 - val_f1_score: 0.7511 - val_loss: 0.4397\n",
      "Epoch 4/50\n",
      "\u001b[1m189/189\u001b[0m \u001b[32m━━━━━━━━━━━━━━━━━━━━\u001b[0m\u001b[37m\u001b[0m \u001b[1m0s\u001b[0m 2ms/step - accuracy: 0.8014 - f1_score: 0.7475 - loss: 0.4521 - val_accuracy: 0.8004 - val_f1_score: 0.7541 - val_loss: 0.4366\n",
      "Epoch 5/50\n",
      "\u001b[1m189/189\u001b[0m \u001b[32m━━━━━━━━━━━━━━━━━━━━\u001b[0m\u001b[37m\u001b[0m \u001b[1m0s\u001b[0m 2ms/step - accuracy: 0.8141 - f1_score: 0.7664 - loss: 0.4397 - val_accuracy: 0.8103 - val_f1_score: 0.7632 - val_loss: 0.4322\n",
      "Epoch 6/50\n",
      "\u001b[1m189/189\u001b[0m \u001b[32m━━━━━━━━━━━━━━━━━━━━\u001b[0m\u001b[37m\u001b[0m \u001b[1m0s\u001b[0m 2ms/step - accuracy: 0.8232 - f1_score: 0.7799 - loss: 0.4124 - val_accuracy: 0.8202 - val_f1_score: 0.7691 - val_loss: 0.4213\n",
      "Epoch 7/50\n",
      "\u001b[1m189/189\u001b[0m \u001b[32m━━━━━━━━━━━━━━━━━━━━\u001b[0m\u001b[37m\u001b[0m \u001b[1m0s\u001b[0m 2ms/step - accuracy: 0.8331 - f1_score: 0.7904 - loss: 0.3941 - val_accuracy: 0.7997 - val_f1_score: 0.7619 - val_loss: 0.4527\n",
      "Epoch 8/50\n",
      "\u001b[1m189/189\u001b[0m \u001b[32m━━━━━━━━━━━━━━━━━━━━\u001b[0m\u001b[37m\u001b[0m \u001b[1m0s\u001b[0m 2ms/step - accuracy: 0.8369 - f1_score: 0.7976 - loss: 0.3809 - val_accuracy: 0.8249 - val_f1_score: 0.7791 - val_loss: 0.4292\n",
      "Epoch 9/50\n",
      "\u001b[1m189/189\u001b[0m \u001b[32m━━━━━━━━━━━━━━━━━━━━\u001b[0m\u001b[37m\u001b[0m \u001b[1m1s\u001b[0m 2ms/step - accuracy: 0.8392 - f1_score: 0.8021 - loss: 0.3771 - val_accuracy: 0.8189 - val_f1_score: 0.7768 - val_loss: 0.4317\n",
      "Epoch 10/50\n",
      "\u001b[1m189/189\u001b[0m \u001b[32m━━━━━━━━━━━━━━━━━━━━\u001b[0m\u001b[37m\u001b[0m \u001b[1m0s\u001b[0m 2ms/step - accuracy: 0.8453 - f1_score: 0.8100 - loss: 0.3660 - val_accuracy: 0.8229 - val_f1_score: 0.7651 - val_loss: 0.4242\n",
      "Epoch 11/50\n",
      "\u001b[1m189/189\u001b[0m \u001b[32m━━━━━━━━━━━━━━━━━━━━\u001b[0m\u001b[37m\u001b[0m \u001b[1m0s\u001b[0m 2ms/step - accuracy: 0.8602 - f1_score: 0.8283 - loss: 0.3473 - val_accuracy: 0.8242 - val_f1_score: 0.7754 - val_loss: 0.4302\n",
      "Epoch 12/50\n",
      "\u001b[1m189/189\u001b[0m \u001b[32m━━━━━━━━━━━━━━━━━━━━\u001b[0m\u001b[37m\u001b[0m \u001b[1m0s\u001b[0m 2ms/step - accuracy: 0.8515 - f1_score: 0.8181 - loss: 0.3514 - val_accuracy: 0.8229 - val_f1_score: 0.7635 - val_loss: 0.4270\n",
      "Epoch 13/50\n",
      "\u001b[1m189/189\u001b[0m \u001b[32m━━━━━━━━━━━━━━━━━━━━\u001b[0m\u001b[37m\u001b[0m \u001b[1m0s\u001b[0m 2ms/step - accuracy: 0.8607 - f1_score: 0.8293 - loss: 0.3462 - val_accuracy: 0.8229 - val_f1_score: 0.7712 - val_loss: 0.4292\n",
      "Epoch 14/50\n",
      "\u001b[1m189/189\u001b[0m \u001b[32m━━━━━━━━━━━━━━━━━━━━\u001b[0m\u001b[37m\u001b[0m \u001b[1m0s\u001b[0m 2ms/step - accuracy: 0.8573 - f1_score: 0.8279 - loss: 0.3386 - val_accuracy: 0.8090 - val_f1_score: 0.7675 - val_loss: 0.4491\n",
      "Epoch 15/50\n",
      "\u001b[1m189/189\u001b[0m \u001b[32m━━━━━━━━━━━━━━━━━━━━\u001b[0m\u001b[37m\u001b[0m \u001b[1m0s\u001b[0m 2ms/step - accuracy: 0.8546 - f1_score: 0.8241 - loss: 0.3284 - val_accuracy: 0.7991 - val_f1_score: 0.7560 - val_loss: 0.4787\n",
      "Epoch 16/50\n",
      "\u001b[1m189/189\u001b[0m \u001b[32m━━━━━━━━━━━━━━━━━━━━\u001b[0m\u001b[37m\u001b[0m \u001b[1m0s\u001b[0m 2ms/step - accuracy: 0.8630 - f1_score: 0.8336 - loss: 0.3344 - val_accuracy: 0.8057 - val_f1_score: 0.7646 - val_loss: 0.4698\n",
      "===========learning rate: 0.005===========\n",
      "Epoch 1/50\n",
      "\u001b[1m189/189\u001b[0m \u001b[32m━━━━━━━━━━━━━━━━━━━━\u001b[0m\u001b[37m\u001b[0m \u001b[1m9s\u001b[0m 6ms/step - accuracy: 0.6966 - f1_score: 0.6341 - loss: 0.6266 - val_accuracy: 0.7997 - val_f1_score: 0.7534 - val_loss: 0.4773\n",
      "Epoch 2/50\n",
      "\u001b[1m189/189\u001b[0m \u001b[32m━━━━━━━━━━━━━━━━━━━━\u001b[0m\u001b[37m\u001b[0m \u001b[1m0s\u001b[0m 2ms/step - accuracy: 0.7936 - f1_score: 0.7385 - loss: 0.4533 - val_accuracy: 0.8189 - val_f1_score: 0.7589 - val_loss: 0.4158\n",
      "Epoch 3/50\n",
      "\u001b[1m189/189\u001b[0m \u001b[32m━━━━━━━━━━━━━━━━━━━━\u001b[0m\u001b[37m\u001b[0m \u001b[1m0s\u001b[0m 2ms/step - accuracy: 0.8216 - f1_score: 0.7761 - loss: 0.4195 - val_accuracy: 0.8242 - val_f1_score: 0.7583 - val_loss: 0.4145\n",
      "Epoch 4/50\n",
      "\u001b[1m189/189\u001b[0m \u001b[32m━━━━━━━━━━━━━━━━━━━━\u001b[0m\u001b[37m\u001b[0m \u001b[1m0s\u001b[0m 2ms/step - accuracy: 0.8271 - f1_score: 0.7818 - loss: 0.4047 - val_accuracy: 0.8229 - val_f1_score: 0.7744 - val_loss: 0.4194\n",
      "Epoch 5/50\n",
      "\u001b[1m189/189\u001b[0m \u001b[32m━━━━━━━━━━━━━━━━━━━━\u001b[0m\u001b[37m\u001b[0m \u001b[1m0s\u001b[0m 2ms/step - accuracy: 0.8340 - f1_score: 0.7955 - loss: 0.3882 - val_accuracy: 0.8163 - val_f1_score: 0.7762 - val_loss: 0.4439\n",
      "Epoch 6/50\n",
      "\u001b[1m189/189\u001b[0m \u001b[32m━━━━━━━━━━━━━━━━━━━━\u001b[0m\u001b[37m\u001b[0m \u001b[1m0s\u001b[0m 2ms/step - accuracy: 0.8370 - f1_score: 0.7992 - loss: 0.3786 - val_accuracy: 0.8268 - val_f1_score: 0.7642 - val_loss: 0.4153\n",
      "Epoch 7/50\n",
      "\u001b[1m189/189\u001b[0m \u001b[32m━━━━━━━━━━━━━━━━━━━━\u001b[0m\u001b[37m\u001b[0m \u001b[1m0s\u001b[0m 2ms/step - accuracy: 0.8428 - f1_score: 0.8065 - loss: 0.3644 - val_accuracy: 0.8030 - val_f1_score: 0.7640 - val_loss: 0.4692\n",
      "Epoch 8/50\n",
      "\u001b[1m189/189\u001b[0m \u001b[32m━━━━━━━━━━━━━━━━━━━━\u001b[0m\u001b[37m\u001b[0m \u001b[1m0s\u001b[0m 2ms/step - accuracy: 0.8507 - f1_score: 0.8140 - loss: 0.3597 - val_accuracy: 0.8116 - val_f1_score: 0.7594 - val_loss: 0.4342\n",
      "Epoch 9/50\n",
      "\u001b[1m189/189\u001b[0m \u001b[32m━━━━━━━━━━━━━━━━━━━━\u001b[0m\u001b[37m\u001b[0m \u001b[1m0s\u001b[0m 2ms/step - accuracy: 0.8454 - f1_score: 0.8096 - loss: 0.3660 - val_accuracy: 0.8163 - val_f1_score: 0.7529 - val_loss: 0.4369\n",
      "Epoch 10/50\n",
      "\u001b[1m189/189\u001b[0m \u001b[32m━━━━━━━━━━━━━━━━━━━━\u001b[0m\u001b[37m\u001b[0m \u001b[1m0s\u001b[0m 2ms/step - accuracy: 0.8589 - f1_score: 0.8280 - loss: 0.3464 - val_accuracy: 0.8249 - val_f1_score: 0.7564 - val_loss: 0.4452\n",
      "Epoch 11/50\n",
      "\u001b[1m189/189\u001b[0m \u001b[32m━━━━━━━━━━━━━━━━━━━━\u001b[0m\u001b[37m\u001b[0m \u001b[1m0s\u001b[0m 2ms/step - accuracy: 0.8550 - f1_score: 0.8238 - loss: 0.3322 - val_accuracy: 0.8130 - val_f1_score: 0.7466 - val_loss: 0.4505\n",
      "Epoch 12/50\n",
      "\u001b[1m189/189\u001b[0m \u001b[32m━━━━━━━━━━━━━━━━━━━━\u001b[0m\u001b[37m\u001b[0m \u001b[1m0s\u001b[0m 2ms/step - accuracy: 0.8620 - f1_score: 0.8300 - loss: 0.3339 - val_accuracy: 0.8169 - val_f1_score: 0.7649 - val_loss: 0.4536\n",
      "Epoch 13/50\n",
      "\u001b[1m189/189\u001b[0m \u001b[32m━━━━━━━━━━━━━━━━━━━━\u001b[0m\u001b[37m\u001b[0m \u001b[1m0s\u001b[0m 2ms/step - accuracy: 0.8589 - f1_score: 0.8309 - loss: 0.3267 - val_accuracy: 0.7984 - val_f1_score: 0.7591 - val_loss: 0.4930\n"
     ]
    },
    {
     "data": {
      "image/png": "[encoded data removed]",
      "text/plain": [
       "<Figure size 640x480 with 1 Axes>"
      ]
     },
     "metadata": {},
     "output_type": "display_data"
    },
    {
     "data": {
      "image/png": "[encoded data removed]",
      "text/plain": [
       "<Figure size 640x480 with 1 Axes>"
      ]
     },
     "metadata": {},
     "output_type": "display_data"
    },
    {
     "data": {
      "image/png": "[encoded data removed]",
      "text/plain": [
       "<Figure size 640x480 with 1 Axes>"
      ]
     },
     "metadata": {},
     "output_type": "display_data"
    },
    {
     "data": {
      "image/png": "[encoded data removed]",
      "text/plain": [
       "<Figure size 640x480 with 1 Axes>"
      ]
     },
     "metadata": {},
     "output_type": "display_data"
    },
    {
     "data": {
      "image/png": "[encoded data removed]",
      "text/plain": [
       "<Figure size 640x480 with 1 Axes>"
      ]
     },
     "metadata": {},
     "output_type": "display_data"
    },
    {
     "data": {
      "image/png": "[encoded data removed]",
      "text/plain": [
       "<Figure size 640x480 with 1 Axes>"
      ]
     },
     "metadata": {},
     "output_type": "display_data"
    },
    {
     "data": {
      "image/png": "[encoded data removed]",
      "text/plain": [
       "<Figure size 640x480 with 1 Axes>"
      ]
     },
     "metadata": {},
     "output_type": "display_data"
    },
    {
     "data": {
      "image/png": "[encoded data removed]",
      "text/plain": [
       "<Figure size 640x480 with 1 Axes>"
      ]
     },
     "metadata": {},
     "output_type": "display_data"
    },
    {
     "data": {
      "image/png": "[encoded data removed]",
      "text/plain": [
       "<Figure size 640x480 with 1 Axes>"
      ]
     },
     "metadata": {},
     "output_type": "display_data"
    },
    {
     "data": {
      "image/png": "[encoded data removed]",
      "text/plain": [
       "<Figure size 640x480 with 1 Axes>"
      ]
     },
     "metadata": {},
     "output_type": "display_data"
    },
    {
     "data": {
      "image/png": "[encoded data removed]",
      "text/plain": [
       "<Figure size 640x480 with 1 Axes>"
      ]
     },
     "metadata": {},
     "output_type": "display_data"
    },
    {
     "data": {
      "image/png": "[encoded data removed]",
      "text/plain": [
       "<Figure size 640x480 with 1 Axes>"
      ]
     },
     "metadata": {},
     "output_type": "display_data"
    }
   ],
   "source": [
    "for l_rate in [1e-4, 5e-4, 1e-3, 5e-3]:\n",
    "    tf.keras.backend.clear_session()\n",
    "    print(f\"===========learning rate: {l_rate}===========\")\n",
    "    model = wrapper_model(train_embeddings.shape[-1], train_feature_stack.shape[1], summary=False)\n",
    "    wrapper_compile(model, train_embeddings, train_feature_stack, train['target'], l_rate=l_rate, epochs=50)\n",
    "    #wrapper_compile_cheat(model, train_embeddings, train_feature_stack, test_embeddings, test_feature_stack, train['target'], l_rate=l_rate, epochs=50)"
   ]
  },
  {
   "cell_type": "markdown",
   "id": "93174326",
   "metadata": {
    "papermill": {
     "duration": 0.092,
     "end_time": "2024-10-08T07:53:04.835158",
     "exception": false,
     "start_time": "2024-10-08T07:53:04.743158",
     "status": "completed"
    },
    "tags": []
   },
   "source": [
    "- choose learning rate: 5e-3, epochs: 6"
   ]
  },
  {
   "cell_type": "code",
   "execution_count": 43,
   "id": "18aa506f",
   "metadata": {
    "execution": {
     "iopub.execute_input": "2024-10-08T07:53:05.019326Z",
     "iopub.status.busy": "2024-10-08T07:53:05.018915Z",
     "iopub.status.idle": "2024-10-08T07:53:16.881008Z",
     "shell.execute_reply": "2024-10-08T07:53:16.880026Z"
    },
    "papermill": {
     "duration": 11.956728,
     "end_time": "2024-10-08T07:53:16.883055",
     "exception": false,
     "start_time": "2024-10-08T07:53:04.926327",
     "status": "completed"
    },
    "tags": []
   },
   "outputs": [
    {
     "data": {
      "text/html": [
       "<pre style=\"white-space:pre;overflow-x:auto;line-height:normal;font-family:Menlo,'DejaVu Sans Mono',consolas,'Courier New',monospace\"><span style=\"font-weight: bold\">Model: \"functional_3\"</span>\n",
       "</pre>\n"
      ],
      "text/plain": [
       "\u001b[1mModel: \"functional_3\"\u001b[0m\n"
      ]
     },
     "metadata": {},
     "output_type": "display_data"
    },
    {
     "data": {
      "text/html": [
       "<pre style=\"white-space:pre;overflow-x:auto;line-height:normal;font-family:Menlo,'DejaVu Sans Mono',consolas,'Courier New',monospace\">┏━━━━━━━━━━━━━━━━━━━━━┳━━━━━━━━━━━━━━━━━━━┳━━━━━━━━━━━━┳━━━━━━━━━━━━━━━━━━━┓\n",
       "┃<span style=\"font-weight: bold\"> Layer (type)        </span>┃<span style=\"font-weight: bold\"> Output Shape      </span>┃<span style=\"font-weight: bold\">    Param # </span>┃<span style=\"font-weight: bold\"> Connected to      </span>┃\n",
       "┡━━━━━━━━━━━━━━━━━━━━━╇━━━━━━━━━━━━━━━━━━━╇━━━━━━━━━━━━╇━━━━━━━━━━━━━━━━━━━┩\n",
       "│ embeddings_input    │ (<span style=\"color: #00d7ff; text-decoration-color: #00d7ff\">None</span>, <span style=\"color: #00af00; text-decoration-color: #00af00\">768</span>)       │          <span style=\"color: #00af00; text-decoration-color: #00af00\">0</span> │ -                 │\n",
       "│ (<span style=\"color: #0087ff; text-decoration-color: #0087ff\">InputLayer</span>)        │                   │            │                   │\n",
       "├─────────────────────┼───────────────────┼────────────┼───────────────────┤\n",
       "│ feature_input       │ (<span style=\"color: #00d7ff; text-decoration-color: #00d7ff\">None</span>, <span style=\"color: #00af00; text-decoration-color: #00af00\">380</span>)       │          <span style=\"color: #00af00; text-decoration-color: #00af00\">0</span> │ -                 │\n",
       "│ (<span style=\"color: #0087ff; text-decoration-color: #0087ff\">InputLayer</span>)        │                   │            │                   │\n",
       "├─────────────────────┼───────────────────┼────────────┼───────────────────┤\n",
       "│ dense_5 (<span style=\"color: #0087ff; text-decoration-color: #0087ff\">Dense</span>)     │ (<span style=\"color: #00d7ff; text-decoration-color: #00d7ff\">None</span>, <span style=\"color: #00af00; text-decoration-color: #00af00\">128</span>)       │     <span style=\"color: #00af00; text-decoration-color: #00af00\">98,432</span> │ embeddings_input… │\n",
       "├─────────────────────┼───────────────────┼────────────┼───────────────────┤\n",
       "│ dense_6 (<span style=\"color: #0087ff; text-decoration-color: #0087ff\">Dense</span>)     │ (<span style=\"color: #00d7ff; text-decoration-color: #00d7ff\">None</span>, <span style=\"color: #00af00; text-decoration-color: #00af00\">32</span>)        │     <span style=\"color: #00af00; text-decoration-color: #00af00\">12,192</span> │ feature_input[<span style=\"color: #00af00; text-decoration-color: #00af00\">0</span>]… │\n",
       "├─────────────────────┼───────────────────┼────────────┼───────────────────┤\n",
       "│ dropout_4 (<span style=\"color: #0087ff; text-decoration-color: #0087ff\">Dropout</span>) │ (<span style=\"color: #00d7ff; text-decoration-color: #00d7ff\">None</span>, <span style=\"color: #00af00; text-decoration-color: #00af00\">128</span>)       │          <span style=\"color: #00af00; text-decoration-color: #00af00\">0</span> │ dense_5[<span style=\"color: #00af00; text-decoration-color: #00af00\">0</span>][<span style=\"color: #00af00; text-decoration-color: #00af00\">0</span>]     │\n",
       "├─────────────────────┼───────────────────┼────────────┼───────────────────┤\n",
       "│ dropout_5 (<span style=\"color: #0087ff; text-decoration-color: #0087ff\">Dropout</span>) │ (<span style=\"color: #00d7ff; text-decoration-color: #00d7ff\">None</span>, <span style=\"color: #00af00; text-decoration-color: #00af00\">32</span>)        │          <span style=\"color: #00af00; text-decoration-color: #00af00\">0</span> │ dense_6[<span style=\"color: #00af00; text-decoration-color: #00af00\">0</span>][<span style=\"color: #00af00; text-decoration-color: #00af00\">0</span>]     │\n",
       "├─────────────────────┼───────────────────┼────────────┼───────────────────┤\n",
       "│ concatenate_1       │ (<span style=\"color: #00d7ff; text-decoration-color: #00d7ff\">None</span>, <span style=\"color: #00af00; text-decoration-color: #00af00\">160</span>)       │          <span style=\"color: #00af00; text-decoration-color: #00af00\">0</span> │ dropout_4[<span style=\"color: #00af00; text-decoration-color: #00af00\">0</span>][<span style=\"color: #00af00; text-decoration-color: #00af00\">0</span>],  │\n",
       "│ (<span style=\"color: #0087ff; text-decoration-color: #0087ff\">Concatenate</span>)       │                   │            │ dropout_5[<span style=\"color: #00af00; text-decoration-color: #00af00\">0</span>][<span style=\"color: #00af00; text-decoration-color: #00af00\">0</span>]   │\n",
       "├─────────────────────┼───────────────────┼────────────┼───────────────────┤\n",
       "│ dense_7 (<span style=\"color: #0087ff; text-decoration-color: #0087ff\">Dense</span>)     │ (<span style=\"color: #00d7ff; text-decoration-color: #00d7ff\">None</span>, <span style=\"color: #00af00; text-decoration-color: #00af00\">128</span>)       │     <span style=\"color: #00af00; text-decoration-color: #00af00\">20,608</span> │ concatenate_1[<span style=\"color: #00af00; text-decoration-color: #00af00\">0</span>]… │\n",
       "├─────────────────────┼───────────────────┼────────────┼───────────────────┤\n",
       "│ dropout_6 (<span style=\"color: #0087ff; text-decoration-color: #0087ff\">Dropout</span>) │ (<span style=\"color: #00d7ff; text-decoration-color: #00d7ff\">None</span>, <span style=\"color: #00af00; text-decoration-color: #00af00\">128</span>)       │          <span style=\"color: #00af00; text-decoration-color: #00af00\">0</span> │ dense_7[<span style=\"color: #00af00; text-decoration-color: #00af00\">0</span>][<span style=\"color: #00af00; text-decoration-color: #00af00\">0</span>]     │\n",
       "├─────────────────────┼───────────────────┼────────────┼───────────────────┤\n",
       "│ batch_normalizatio… │ (<span style=\"color: #00d7ff; text-decoration-color: #00d7ff\">None</span>, <span style=\"color: #00af00; text-decoration-color: #00af00\">128</span>)       │        <span style=\"color: #00af00; text-decoration-color: #00af00\">512</span> │ dropout_6[<span style=\"color: #00af00; text-decoration-color: #00af00\">0</span>][<span style=\"color: #00af00; text-decoration-color: #00af00\">0</span>]   │\n",
       "│ (<span style=\"color: #0087ff; text-decoration-color: #0087ff\">BatchNormalizatio…</span> │                   │            │                   │\n",
       "├─────────────────────┼───────────────────┼────────────┼───────────────────┤\n",
       "│ dense_8 (<span style=\"color: #0087ff; text-decoration-color: #0087ff\">Dense</span>)     │ (<span style=\"color: #00d7ff; text-decoration-color: #00d7ff\">None</span>, <span style=\"color: #00af00; text-decoration-color: #00af00\">64</span>)        │      <span style=\"color: #00af00; text-decoration-color: #00af00\">8,256</span> │ batch_normalizat… │\n",
       "├─────────────────────┼───────────────────┼────────────┼───────────────────┤\n",
       "│ dropout_7 (<span style=\"color: #0087ff; text-decoration-color: #0087ff\">Dropout</span>) │ (<span style=\"color: #00d7ff; text-decoration-color: #00d7ff\">None</span>, <span style=\"color: #00af00; text-decoration-color: #00af00\">64</span>)        │          <span style=\"color: #00af00; text-decoration-color: #00af00\">0</span> │ dense_8[<span style=\"color: #00af00; text-decoration-color: #00af00\">0</span>][<span style=\"color: #00af00; text-decoration-color: #00af00\">0</span>]     │\n",
       "├─────────────────────┼───────────────────┼────────────┼───────────────────┤\n",
       "│ batch_normalizatio… │ (<span style=\"color: #00d7ff; text-decoration-color: #00d7ff\">None</span>, <span style=\"color: #00af00; text-decoration-color: #00af00\">64</span>)        │        <span style=\"color: #00af00; text-decoration-color: #00af00\">256</span> │ dropout_7[<span style=\"color: #00af00; text-decoration-color: #00af00\">0</span>][<span style=\"color: #00af00; text-decoration-color: #00af00\">0</span>]   │\n",
       "│ (<span style=\"color: #0087ff; text-decoration-color: #0087ff\">BatchNormalizatio…</span> │                   │            │                   │\n",
       "├─────────────────────┼───────────────────┼────────────┼───────────────────┤\n",
       "│ dense_9 (<span style=\"color: #0087ff; text-decoration-color: #0087ff\">Dense</span>)     │ (<span style=\"color: #00d7ff; text-decoration-color: #00d7ff\">None</span>, <span style=\"color: #00af00; text-decoration-color: #00af00\">1</span>)         │         <span style=\"color: #00af00; text-decoration-color: #00af00\">65</span> │ batch_normalizat… │\n",
       "└─────────────────────┴───────────────────┴────────────┴───────────────────┘\n",
       "</pre>\n"
      ],
      "text/plain": [
       "┏━━━━━━━━━━━━━━━━━━━━━┳━━━━━━━━━━━━━━━━━━━┳━━━━━━━━━━━━┳━━━━━━━━━━━━━━━━━━━┓\n",
       "┃\u001b[1m \u001b[0m\u001b[1mLayer (type)       \u001b[0m\u001b[1m \u001b[0m┃\u001b[1m \u001b[0m\u001b[1mOutput Shape     \u001b[0m\u001b[1m \u001b[0m┃\u001b[1m \u001b[0m\u001b[1m   Param #\u001b[0m\u001b[1m \u001b[0m┃\u001b[1m \u001b[0m\u001b[1mConnected to     \u001b[0m\u001b[1m \u001b[0m┃\n",
       "┡━━━━━━━━━━━━━━━━━━━━━╇━━━━━━━━━━━━━━━━━━━╇━━━━━━━━━━━━╇━━━━━━━━━━━━━━━━━━━┩\n",
       "│ embeddings_input    │ (\u001b[38;5;45mNone\u001b[0m, \u001b[38;5;34m768\u001b[0m)       │          \u001b[38;5;34m0\u001b[0m │ -                 │\n",
       "│ (\u001b[38;5;33mInputLayer\u001b[0m)        │                   │            │                   │\n",
       "├─────────────────────┼───────────────────┼────────────┼───────────────────┤\n",
       "│ feature_input       │ (\u001b[38;5;45mNone\u001b[0m, \u001b[38;5;34m380\u001b[0m)       │          \u001b[38;5;34m0\u001b[0m │ -                 │\n",
       "│ (\u001b[38;5;33mInputLayer\u001b[0m)        │                   │            │                   │\n",
       "├─────────────────────┼───────────────────┼────────────┼───────────────────┤\n",
       "│ dense_5 (\u001b[38;5;33mDense\u001b[0m)     │ (\u001b[38;5;45mNone\u001b[0m, \u001b[38;5;34m128\u001b[0m)       │     \u001b[38;5;34m98,432\u001b[0m │ embeddings_input… │\n",
       "├─────────────────────┼───────────────────┼────────────┼───────────────────┤\n",
       "│ dense_6 (\u001b[38;5;33mDense\u001b[0m)     │ (\u001b[38;5;45mNone\u001b[0m, \u001b[38;5;34m32\u001b[0m)        │     \u001b[38;5;34m12,192\u001b[0m │ feature_input[\u001b[38;5;34m0\u001b[0m]… │\n",
       "├─────────────────────┼───────────────────┼────────────┼───────────────────┤\n",
       "│ dropout_4 (\u001b[38;5;33mDropout\u001b[0m) │ (\u001b[38;5;45mNone\u001b[0m, \u001b[38;5;34m128\u001b[0m)       │          \u001b[38;5;34m0\u001b[0m │ dense_5[\u001b[38;5;34m0\u001b[0m][\u001b[38;5;34m0\u001b[0m]     │\n",
       "├─────────────────────┼───────────────────┼────────────┼───────────────────┤\n",
       "│ dropout_5 (\u001b[38;5;33mDropout\u001b[0m) │ (\u001b[38;5;45mNone\u001b[0m, \u001b[38;5;34m32\u001b[0m)        │          \u001b[38;5;34m0\u001b[0m │ dense_6[\u001b[38;5;34m0\u001b[0m][\u001b[38;5;34m0\u001b[0m]     │\n",
       "├─────────────────────┼───────────────────┼────────────┼───────────────────┤\n",
       "│ concatenate_1       │ (\u001b[38;5;45mNone\u001b[0m, \u001b[38;5;34m160\u001b[0m)       │          \u001b[38;5;34m0\u001b[0m │ dropout_4[\u001b[38;5;34m0\u001b[0m][\u001b[38;5;34m0\u001b[0m],  │\n",
       "│ (\u001b[38;5;33mConcatenate\u001b[0m)       │                   │            │ dropout_5[\u001b[38;5;34m0\u001b[0m][\u001b[38;5;34m0\u001b[0m]   │\n",
       "├─────────────────────┼───────────────────┼────────────┼───────────────────┤\n",
       "│ dense_7 (\u001b[38;5;33mDense\u001b[0m)     │ (\u001b[38;5;45mNone\u001b[0m, \u001b[38;5;34m128\u001b[0m)       │     \u001b[38;5;34m20,608\u001b[0m │ concatenate_1[\u001b[38;5;34m0\u001b[0m]… │\n",
       "├─────────────────────┼───────────────────┼────────────┼───────────────────┤\n",
       "│ dropout_6 (\u001b[38;5;33mDropout\u001b[0m) │ (\u001b[38;5;45mNone\u001b[0m, \u001b[38;5;34m128\u001b[0m)       │          \u001b[38;5;34m0\u001b[0m │ dense_7[\u001b[38;5;34m0\u001b[0m][\u001b[38;5;34m0\u001b[0m]     │\n",
       "├─────────────────────┼───────────────────┼────────────┼───────────────────┤\n",
       "│ batch_normalizatio… │ (\u001b[38;5;45mNone\u001b[0m, \u001b[38;5;34m128\u001b[0m)       │        \u001b[38;5;34m512\u001b[0m │ dropout_6[\u001b[38;5;34m0\u001b[0m][\u001b[38;5;34m0\u001b[0m]   │\n",
       "│ (\u001b[38;5;33mBatchNormalizatio…\u001b[0m │                   │            │                   │\n",
       "├─────────────────────┼───────────────────┼────────────┼───────────────────┤\n",
       "│ dense_8 (\u001b[38;5;33mDense\u001b[0m)     │ (\u001b[38;5;45mNone\u001b[0m, \u001b[38;5;34m64\u001b[0m)        │      \u001b[38;5;34m8,256\u001b[0m │ batch_normalizat… │\n",
       "├─────────────────────┼───────────────────┼────────────┼───────────────────┤\n",
       "│ dropout_7 (\u001b[38;5;33mDropout\u001b[0m) │ (\u001b[38;5;45mNone\u001b[0m, \u001b[38;5;34m64\u001b[0m)        │          \u001b[38;5;34m0\u001b[0m │ dense_8[\u001b[38;5;34m0\u001b[0m][\u001b[38;5;34m0\u001b[0m]     │\n",
       "├─────────────────────┼───────────────────┼────────────┼───────────────────┤\n",
       "│ batch_normalizatio… │ (\u001b[38;5;45mNone\u001b[0m, \u001b[38;5;34m64\u001b[0m)        │        \u001b[38;5;34m256\u001b[0m │ dropout_7[\u001b[38;5;34m0\u001b[0m][\u001b[38;5;34m0\u001b[0m]   │\n",
       "│ (\u001b[38;5;33mBatchNormalizatio…\u001b[0m │                   │            │                   │\n",
       "├─────────────────────┼───────────────────┼────────────┼───────────────────┤\n",
       "│ dense_9 (\u001b[38;5;33mDense\u001b[0m)     │ (\u001b[38;5;45mNone\u001b[0m, \u001b[38;5;34m1\u001b[0m)         │         \u001b[38;5;34m65\u001b[0m │ batch_normalizat… │\n",
       "└─────────────────────┴───────────────────┴────────────┴───────────────────┘\n"
      ]
     },
     "metadata": {},
     "output_type": "display_data"
    },
    {
     "data": {
      "text/html": [
       "<pre style=\"white-space:pre;overflow-x:auto;line-height:normal;font-family:Menlo,'DejaVu Sans Mono',consolas,'Courier New',monospace\"><span style=\"font-weight: bold\"> Total params: </span><span style=\"color: #00af00; text-decoration-color: #00af00\">140,321</span> (548.13 KB)\n",
       "</pre>\n"
      ],
      "text/plain": [
       "\u001b[1m Total params: \u001b[0m\u001b[38;5;34m140,321\u001b[0m (548.13 KB)\n"
      ]
     },
     "metadata": {},
     "output_type": "display_data"
    },
    {
     "data": {
      "text/html": [
       "<pre style=\"white-space:pre;overflow-x:auto;line-height:normal;font-family:Menlo,'DejaVu Sans Mono',consolas,'Courier New',monospace\"><span style=\"font-weight: bold\"> Trainable params: </span><span style=\"color: #00af00; text-decoration-color: #00af00\">139,937</span> (546.63 KB)\n",
       "</pre>\n"
      ],
      "text/plain": [
       "\u001b[1m Trainable params: \u001b[0m\u001b[38;5;34m139,937\u001b[0m (546.63 KB)\n"
      ]
     },
     "metadata": {},
     "output_type": "display_data"
    },
    {
     "data": {
      "text/html": [
       "<pre style=\"white-space:pre;overflow-x:auto;line-height:normal;font-family:Menlo,'DejaVu Sans Mono',consolas,'Courier New',monospace\"><span style=\"font-weight: bold\"> Non-trainable params: </span><span style=\"color: #00af00; text-decoration-color: #00af00\">384</span> (1.50 KB)\n",
       "</pre>\n"
      ],
      "text/plain": [
       "\u001b[1m Non-trainable params: \u001b[0m\u001b[38;5;34m384\u001b[0m (1.50 KB)\n"
      ]
     },
     "metadata": {},
     "output_type": "display_data"
    },
    {
     "name": "stdout",
     "output_type": "stream",
     "text": [
      "Epoch 1/8\n",
      "\u001b[1m189/189\u001b[0m \u001b[32m━━━━━━━━━━━━━━━━━━━━\u001b[0m\u001b[37m\u001b[0m \u001b[1m8s\u001b[0m 6ms/step - accuracy: 0.6929 - f1_score: 0.6371 - loss: 0.6283 - val_accuracy: 0.8011 - val_f1_score: 0.7465 - val_loss: 0.4658\n",
      "Epoch 2/8\n",
      "\u001b[1m189/189\u001b[0m \u001b[32m━━━━━━━━━━━━━━━━━━━━\u001b[0m\u001b[37m\u001b[0m \u001b[1m0s\u001b[0m 2ms/step - accuracy: 0.7986 - f1_score: 0.7479 - loss: 0.4546 - val_accuracy: 0.8037 - val_f1_score: 0.7610 - val_loss: 0.4488\n",
      "Epoch 3/8\n",
      "\u001b[1m189/189\u001b[0m \u001b[32m━━━━━━━━━━━━━━━━━━━━\u001b[0m\u001b[37m\u001b[0m \u001b[1m0s\u001b[0m 2ms/step - accuracy: 0.8234 - f1_score: 0.7803 - loss: 0.4190 - val_accuracy: 0.8229 - val_f1_score: 0.7624 - val_loss: 0.4104\n",
      "Epoch 4/8\n",
      "\u001b[1m189/189\u001b[0m \u001b[32m━━━━━━━━━━━━━━━━━━━━\u001b[0m\u001b[37m\u001b[0m \u001b[1m0s\u001b[0m 2ms/step - accuracy: 0.8357 - f1_score: 0.7951 - loss: 0.3960 - val_accuracy: 0.8143 - val_f1_score: 0.7664 - val_loss: 0.4216\n",
      "Epoch 5/8\n",
      "\u001b[1m189/189\u001b[0m \u001b[32m━━━━━━━━━━━━━━━━━━━━\u001b[0m\u001b[37m\u001b[0m \u001b[1m0s\u001b[0m 3ms/step - accuracy: 0.8416 - f1_score: 0.8037 - loss: 0.3849 - val_accuracy: 0.8182 - val_f1_score: 0.7615 - val_loss: 0.4221\n",
      "Epoch 6/8\n",
      "\u001b[1m189/189\u001b[0m \u001b[32m━━━━━━━━━━━━━━━━━━━━\u001b[0m\u001b[37m\u001b[0m \u001b[1m0s\u001b[0m 3ms/step - accuracy: 0.8444 - f1_score: 0.8062 - loss: 0.3713 - val_accuracy: 0.8156 - val_f1_score: 0.7567 - val_loss: 0.4201\n",
      "Epoch 7/8\n",
      "\u001b[1m189/189\u001b[0m \u001b[32m━━━━━━━━━━━━━━━━━━━━\u001b[0m\u001b[37m\u001b[0m \u001b[1m0s\u001b[0m 2ms/step - accuracy: 0.8519 - f1_score: 0.8179 - loss: 0.3642 - val_accuracy: 0.8215 - val_f1_score: 0.7674 - val_loss: 0.4185\n",
      "Epoch 8/8\n",
      "\u001b[1m189/189\u001b[0m \u001b[32m━━━━━━━━━━━━━━━━━━━━\u001b[0m\u001b[37m\u001b[0m \u001b[1m0s\u001b[0m 2ms/step - accuracy: 0.8404 - f1_score: 0.8020 - loss: 0.3683 - val_accuracy: 0.8103 - val_f1_score: 0.7643 - val_loss: 0.4417\n"
     ]
    }
   ],
   "source": [
    "model = wrapper_model(train_embeddings.shape[-1], train_feature_stack.shape[1])\n",
    "wrapper_compile(model, train_embeddings, train_feature_stack, train['target'], l_rate=5e-3, epochs=8, plots=False)"
   ]
  },
  {
   "cell_type": "code",
   "execution_count": 44,
   "id": "6fa28bf3",
   "metadata": {
    "execution": {
     "iopub.execute_input": "2024-10-08T07:53:17.083907Z",
     "iopub.status.busy": "2024-10-08T07:53:17.083068Z",
     "iopub.status.idle": "2024-10-08T07:53:18.603388Z",
     "shell.execute_reply": "2024-10-08T07:53:18.602260Z"
    },
    "papermill": {
     "duration": 1.621956,
     "end_time": "2024-10-08T07:53:18.605516",
     "exception": false,
     "start_time": "2024-10-08T07:53:16.983560",
     "status": "completed"
    },
    "tags": []
   },
   "outputs": [
    {
     "name": "stdout",
     "output_type": "stream",
     "text": [
      "\u001b[1m237/237\u001b[0m \u001b[32m━━━━━━━━━━━━━━━━━━━━\u001b[0m\u001b[37m\u001b[0m \u001b[1m1s\u001b[0m 2ms/step\n",
      "\u001b[1m102/102\u001b[0m \u001b[32m━━━━━━━━━━━━━━━━━━━━\u001b[0m\u001b[37m\u001b[0m \u001b[1m0s\u001b[0m 3ms/step\n",
      "Train metrics: f1 score: 0.8049232844377002, accuracy: 0.8469779129744742\n",
      "Test metrics:  f1 score: 0.7627580833657966, accuracy: 0.8133619368679129\n"
     ]
    }
   ],
   "source": [
    "final_f1 = print_metrics(model, X_train=[train_embeddings, train_feature_stack], X_test=[test_embeddings, test_feature_stack])"
   ]
  },
  {
   "cell_type": "code",
   "execution_count": 45,
   "id": "d4c13f5d",
   "metadata": {
    "execution": {
     "iopub.execute_input": "2024-10-08T07:53:18.809667Z",
     "iopub.status.busy": "2024-10-08T07:53:18.809044Z",
     "iopub.status.idle": "2024-10-08T07:53:19.101756Z",
     "shell.execute_reply": "2024-10-08T07:53:19.100971Z"
    },
    "papermill": {
     "duration": 0.395582,
     "end_time": "2024-10-08T07:53:19.103683",
     "exception": false,
     "start_time": "2024-10-08T07:53:18.708101",
     "status": "completed"
    },
    "tags": []
   },
   "outputs": [
    {
     "name": "stdout",
     "output_type": "stream",
     "text": [
      "\u001b[1m102/102\u001b[0m \u001b[32m━━━━━━━━━━━━━━━━━━━━\u001b[0m\u001b[37m\u001b[0m \u001b[1m0s\u001b[0m 2ms/step\n"
     ]
    }
   ],
   "source": [
    "submission = test[['id']].copy()\n",
    "submission['target'] = list(np.concatenate(model.predict([test_embeddings, test_feature_stack]).tolist()))\n",
    "submission['target'] = (submission['target']>0.5).astype('int')\n",
    "submission.to_csv('submission.csv', index=False)"
   ]
  },
  {
   "cell_type": "markdown",
   "id": "89419106",
   "metadata": {
    "papermill": {
     "duration": 0.100974,
     "end_time": "2024-10-08T07:53:19.307209",
     "exception": false,
     "start_time": "2024-10-08T07:53:19.206235",
     "status": "completed"
    },
    "tags": []
   },
   "source": [
    "### test set optimization"
   ]
  },
  {
   "cell_type": "markdown",
   "id": "b4f7203c",
   "metadata": {
    "papermill": {
     "duration": 0.100627,
     "end_time": "2024-10-08T07:53:19.508853",
     "exception": false,
     "start_time": "2024-10-08T07:53:19.408226",
     "status": "completed"
    },
    "tags": []
   },
   "source": [
    "task: check mispredictions to identify the patterns current model can't detect"
   ]
  },
  {
   "cell_type": "code",
   "execution_count": 46,
   "id": "1493f36b",
   "metadata": {
    "execution": {
     "iopub.execute_input": "2024-10-08T07:53:19.711739Z",
     "iopub.status.busy": "2024-10-08T07:53:19.711310Z",
     "iopub.status.idle": "2024-10-08T07:53:20.004631Z",
     "shell.execute_reply": "2024-10-08T07:53:20.003685Z"
    },
    "papermill": {
     "duration": 0.397345,
     "end_time": "2024-10-08T07:53:20.006663",
     "exception": false,
     "start_time": "2024-10-08T07:53:19.609318",
     "status": "completed"
    },
    "tags": []
   },
   "outputs": [
    {
     "name": "stdout",
     "output_type": "stream",
     "text": [
      "\u001b[1m102/102\u001b[0m \u001b[32m━━━━━━━━━━━━━━━━━━━━\u001b[0m\u001b[37m\u001b[0m \u001b[1m0s\u001b[0m 2ms/step\n"
     ]
    },
    {
     "data": {
      "text/plain": [
       "0.18663806313208703"
      ]
     },
     "execution_count": 46,
     "metadata": {},
     "output_type": "execute_result"
    }
   ],
   "source": [
    "temp_test = pd.merge(test, test_labels, on='id')\n",
    "test_pred = model.predict([test_embeddings, test_feature_stack])\n",
    "if test_pred.shape[-1] > 1:\n",
    "    test_pred = np.argmax(test_pred, axis=1)\n",
    "else:\n",
    "    test_pred = (test_pred > 0.5).astype(int)\n",
    "    \n",
    "temp_test['prediction'] = test_pred\n",
    "temp_test['incorrect'] = temp_test['target']+temp_test['prediction']==1\n",
    "len(temp_test[temp_test['incorrect']])/len(temp_test)"
   ]
  },
  {
   "cell_type": "code",
   "execution_count": 47,
   "id": "1b26bc76",
   "metadata": {
    "execution": {
     "iopub.execute_input": "2024-10-08T07:53:20.212567Z",
     "iopub.status.busy": "2024-10-08T07:53:20.212201Z",
     "iopub.status.idle": "2024-10-08T07:53:20.224864Z",
     "shell.execute_reply": "2024-10-08T07:53:20.224068Z"
    },
    "papermill": {
     "duration": 0.116586,
     "end_time": "2024-10-08T07:53:20.227030",
     "exception": false,
     "start_time": "2024-10-08T07:53:20.110444",
     "status": "completed"
    },
    "tags": []
   },
   "outputs": [
    {
     "data": {
      "text/html": [
       "<div>\n",
       "<style scoped>\n",
       "    .dataframe tbody tr th:only-of-type {\n",
       "        vertical-align: middle;\n",
       "    }\n",
       "\n",
       "    .dataframe tbody tr th {\n",
       "        vertical-align: top;\n",
       "    }\n",
       "\n",
       "    .dataframe thead th {\n",
       "        text-align: right;\n",
       "    }\n",
       "</style>\n",
       "<table border=\"1\" class=\"dataframe\">\n",
       "  <thead>\n",
       "    <tr style=\"text-align: right;\">\n",
       "      <th></th>\n",
       "      <th>id</th>\n",
       "      <th>keyword</th>\n",
       "      <th>location</th>\n",
       "      <th>text</th>\n",
       "      <th>target</th>\n",
       "      <th>prediction</th>\n",
       "      <th>incorrect</th>\n",
       "    </tr>\n",
       "  </thead>\n",
       "  <tbody>\n",
       "    <tr>\n",
       "      <th>17</th>\n",
       "      <td>51</td>\n",
       "      <td>ablaze</td>\n",
       "      <td>NIGERIA</td>\n",
       "      <td># previouslyondoyintv : toke makinwas marriag...</td>\n",
       "      <td>0</td>\n",
       "      <td>1</td>\n",
       "      <td>True</td>\n",
       "    </tr>\n",
       "    <tr>\n",
       "      <th>25</th>\n",
       "      <td>87</td>\n",
       "      <td>ablaze</td>\n",
       "      <td>scarborough, ontario</td>\n",
       "      <td>@ ctvtoronto the bins in front of the field b...</td>\n",
       "      <td>0</td>\n",
       "      <td>1</td>\n",
       "      <td>True</td>\n",
       "    </tr>\n",
       "    <tr>\n",
       "      <th>27</th>\n",
       "      <td>90</td>\n",
       "      <td>ablaze</td>\n",
       "      <td>121 N La Salle St, Suite 500</td>\n",
       "      <td>' burning rahm ' : let us hope city hall buil...</td>\n",
       "      <td>0</td>\n",
       "      <td>1</td>\n",
       "      <td>True</td>\n",
       "    </tr>\n",
       "    <tr>\n",
       "      <th>33</th>\n",
       "      <td>108</td>\n",
       "      <td>accident</td>\n",
       "      <td>Massachusetts</td>\n",
       "      <td>coincidence or # curse ? still # unresolved se...</td>\n",
       "      <td>0</td>\n",
       "      <td>1</td>\n",
       "      <td>True</td>\n",
       "    </tr>\n",
       "    <tr>\n",
       "      <th>36</th>\n",
       "      <td>116</td>\n",
       "      <td>accident</td>\n",
       "      <td>unknown</td>\n",
       "      <td>for legal and medical referral service @ 1800_...</td>\n",
       "      <td>0</td>\n",
       "      <td>1</td>\n",
       "      <td>True</td>\n",
       "    </tr>\n",
       "  </tbody>\n",
       "</table>\n",
       "</div>"
      ],
      "text/plain": [
       "     id   keyword                      location  \\\n",
       "17   51    ablaze                       NIGERIA   \n",
       "25   87    ablaze          scarborough, ontario   \n",
       "27   90    ablaze  121 N La Salle St, Suite 500   \n",
       "33  108  accident                 Massachusetts   \n",
       "36  116  accident                       unknown   \n",
       "\n",
       "                                                 text  target  prediction  \\\n",
       "17   # previouslyondoyintv : toke makinwas marriag...       0           1   \n",
       "25   @ ctvtoronto the bins in front of the field b...       0           1   \n",
       "27   ' burning rahm ' : let us hope city hall buil...       0           1   \n",
       "33  coincidence or # curse ? still # unresolved se...       0           1   \n",
       "36  for legal and medical referral service @ 1800_...       0           1   \n",
       "\n",
       "    incorrect  \n",
       "17       True  \n",
       "25       True  \n",
       "27       True  \n",
       "33       True  \n",
       "36       True  "
      ]
     },
     "execution_count": 47,
     "metadata": {},
     "output_type": "execute_result"
    }
   ],
   "source": [
    "temp_test[temp_test['incorrect']].head()"
   ]
  },
  {
   "cell_type": "code",
   "execution_count": 48,
   "id": "1063957f",
   "metadata": {
    "execution": {
     "iopub.execute_input": "2024-10-08T07:53:20.431883Z",
     "iopub.status.busy": "2024-10-08T07:53:20.431501Z",
     "iopub.status.idle": "2024-10-08T07:53:20.443543Z",
     "shell.execute_reply": "2024-10-08T07:53:20.442695Z"
    },
    "papermill": {
     "duration": 0.116488,
     "end_time": "2024-10-08T07:53:20.445503",
     "exception": false,
     "start_time": "2024-10-08T07:53:20.329015",
     "status": "completed"
    },
    "tags": []
   },
   "outputs": [
    {
     "data": {
      "text/plain": [
       "keyword\n",
       "bioterrorism           10\n",
       "first%20responders     10\n",
       "collapse                9\n",
       "heat%20wave             9\n",
       "annihilation            8\n",
       "avalanche               8\n",
       "mass%20murderer         7\n",
       "buildings%20burning     7\n",
       "mass%20murder           7\n",
       "crashed                 7\n",
       "deaths                  6\n",
       "collapsed               6\n",
       "storm                   6\n",
       "snowstorm               6\n",
       "devastation             6\n",
       "riot                    6\n",
       "nuclear%20reactor       6\n",
       "hazard                  6\n",
       "flood                   6\n",
       "detonation              6\n",
       "drowning                6\n",
       "dtype: int64"
      ]
     },
     "execution_count": 48,
     "metadata": {},
     "output_type": "execute_result"
    }
   ],
   "source": [
    "incorrect = temp_test[temp_test['incorrect']]\n",
    "inc_keywords = incorrect.groupby('keyword').size().sort_values(ascending=False)\n",
    "inc_keywords[inc_keywords>5]"
   ]
  },
  {
   "cell_type": "code",
   "execution_count": 49,
   "id": "19ac81d3",
   "metadata": {
    "execution": {
     "iopub.execute_input": "2024-10-08T07:53:20.665997Z",
     "iopub.status.busy": "2024-10-08T07:53:20.665541Z",
     "iopub.status.idle": "2024-10-08T07:53:20.679357Z",
     "shell.execute_reply": "2024-10-08T07:53:20.678326Z"
    },
    "papermill": {
     "duration": 0.13482,
     "end_time": "2024-10-08T07:53:20.681654",
     "exception": false,
     "start_time": "2024-10-08T07:53:20.546834",
     "status": "completed"
    },
    "tags": []
   },
   "outputs": [
    {
     "data": {
      "text/plain": [
       "keyword\n",
       "threat                 0.600000\n",
       "collapse               0.562500\n",
       "heat%20wave            0.562500\n",
       "mass%20murderer        0.500000\n",
       "deaths                 0.500000\n",
       "bioterrorism           0.500000\n",
       "first%20responders     0.476190\n",
       "buildings%20burning    0.466667\n",
       "crashed                0.437500\n",
       "nuclear%20reactor      0.428571\n",
       "devastation            0.428571\n",
       "mass%20murder          0.411765\n",
       "dtype: float64"
      ]
     },
     "execution_count": 49,
     "metadata": {},
     "output_type": "execute_result"
    }
   ],
   "source": [
    "inc_ratio = (inc_keywords/test.groupby('keyword').size().sort_values(ascending=False)[inc_keywords.index]).sort_values(ascending=False)\n",
    "inc_ratio[inc_ratio>0.4]"
   ]
  },
  {
   "cell_type": "code",
   "execution_count": 50,
   "id": "4523bdda",
   "metadata": {
    "execution": {
     "iopub.execute_input": "2024-10-08T07:53:20.896833Z",
     "iopub.status.busy": "2024-10-08T07:53:20.896453Z",
     "iopub.status.idle": "2024-10-08T07:53:20.909373Z",
     "shell.execute_reply": "2024-10-08T07:53:20.908504Z"
    },
    "papermill": {
     "duration": 0.116844,
     "end_time": "2024-10-08T07:53:20.911231",
     "exception": false,
     "start_time": "2024-10-08T07:53:20.794387",
     "status": "completed"
    },
    "tags": []
   },
   "outputs": [
    {
     "data": {
      "text/html": [
       "<div>\n",
       "<style scoped>\n",
       "    .dataframe tbody tr th:only-of-type {\n",
       "        vertical-align: middle;\n",
       "    }\n",
       "\n",
       "    .dataframe tbody tr th {\n",
       "        vertical-align: top;\n",
       "    }\n",
       "\n",
       "    .dataframe thead th {\n",
       "        text-align: right;\n",
       "    }\n",
       "</style>\n",
       "<table border=\"1\" class=\"dataframe\">\n",
       "  <thead>\n",
       "    <tr style=\"text-align: right;\">\n",
       "      <th></th>\n",
       "      <th>id</th>\n",
       "      <th>keyword</th>\n",
       "      <th>location</th>\n",
       "      <th>text</th>\n",
       "      <th>target</th>\n",
       "      <th>prediction</th>\n",
       "      <th>incorrect</th>\n",
       "    </tr>\n",
       "  </thead>\n",
       "  <tbody>\n",
       "    <tr>\n",
       "      <th>2883</th>\n",
       "      <td>9543</td>\n",
       "      <td>threat</td>\n",
       "      <td>Baton Rouge, LA</td>\n",
       "      <td>@ szuniverse no threat of that sir . . . for ...</td>\n",
       "      <td>0</td>\n",
       "      <td>0</td>\n",
       "      <td>False</td>\n",
       "    </tr>\n",
       "    <tr>\n",
       "      <th>2884</th>\n",
       "      <td>9544</td>\n",
       "      <td>threat</td>\n",
       "      <td>unknown</td>\n",
       "      <td>white space devices pose threat to medical dev...</td>\n",
       "      <td>0</td>\n",
       "      <td>0</td>\n",
       "      <td>False</td>\n",
       "    </tr>\n",
       "    <tr>\n",
       "      <th>2885</th>\n",
       "      <td>9545</td>\n",
       "      <td>threat</td>\n",
       "      <td>San Francisco, CA</td>\n",
       "      <td>a reminder : white americans are the biggest t...</td>\n",
       "      <td>0</td>\n",
       "      <td>1</td>\n",
       "      <td>True</td>\n",
       "    </tr>\n",
       "    <tr>\n",
       "      <th>2886</th>\n",
       "      <td>9546</td>\n",
       "      <td>threat</td>\n",
       "      <td>unknown</td>\n",
       "      <td>angry orchard hard cider recalled due to threa...</td>\n",
       "      <td>1</td>\n",
       "      <td>0</td>\n",
       "      <td>True</td>\n",
       "    </tr>\n",
       "    <tr>\n",
       "      <th>2887</th>\n",
       "      <td>9549</td>\n",
       "      <td>threat</td>\n",
       "      <td>Portland, Oregon, USA</td>\n",
       "      <td>most popular content top story : barrel bombs ...</td>\n",
       "      <td>1</td>\n",
       "      <td>0</td>\n",
       "      <td>True</td>\n",
       "    </tr>\n",
       "  </tbody>\n",
       "</table>\n",
       "</div>"
      ],
      "text/plain": [
       "        id keyword               location  \\\n",
       "2883  9543  threat        Baton Rouge, LA   \n",
       "2884  9544  threat                unknown   \n",
       "2885  9545  threat      San Francisco, CA   \n",
       "2886  9546  threat                unknown   \n",
       "2887  9549  threat  Portland, Oregon, USA   \n",
       "\n",
       "                                                   text  target  prediction  \\\n",
       "2883   @ szuniverse no threat of that sir . . . for ...       0           0   \n",
       "2884  white space devices pose threat to medical dev...       0           0   \n",
       "2885  a reminder : white americans are the biggest t...       0           1   \n",
       "2886  angry orchard hard cider recalled due to threa...       1           0   \n",
       "2887  most popular content top story : barrel bombs ...       1           0   \n",
       "\n",
       "      incorrect  \n",
       "2883      False  \n",
       "2884      False  \n",
       "2885       True  \n",
       "2886       True  \n",
       "2887       True  "
      ]
     },
     "execution_count": 50,
     "metadata": {},
     "output_type": "execute_result"
    }
   ],
   "source": [
    "temp_test[temp_test['keyword']=='threat']"
   ]
  },
  {
   "cell_type": "code",
   "execution_count": 51,
   "id": "8ca3b949",
   "metadata": {
    "execution": {
     "iopub.execute_input": "2024-10-08T07:53:21.117263Z",
     "iopub.status.busy": "2024-10-08T07:53:21.116581Z",
     "iopub.status.idle": "2024-10-08T07:53:21.130717Z",
     "shell.execute_reply": "2024-10-08T07:53:21.129738Z"
    },
    "papermill": {
     "duration": 0.11992,
     "end_time": "2024-10-08T07:53:21.132703",
     "exception": false,
     "start_time": "2024-10-08T07:53:21.012783",
     "status": "completed"
    },
    "tags": []
   },
   "outputs": [
    {
     "data": {
      "text/html": [
       "<div>\n",
       "<style scoped>\n",
       "    .dataframe tbody tr th:only-of-type {\n",
       "        vertical-align: middle;\n",
       "    }\n",
       "\n",
       "    .dataframe tbody tr th {\n",
       "        vertical-align: top;\n",
       "    }\n",
       "\n",
       "    .dataframe thead th {\n",
       "        text-align: right;\n",
       "    }\n",
       "</style>\n",
       "<table border=\"1\" class=\"dataframe\">\n",
       "  <thead>\n",
       "    <tr style=\"text-align: right;\">\n",
       "      <th></th>\n",
       "      <th>id</th>\n",
       "      <th>keyword</th>\n",
       "      <th>location</th>\n",
       "      <th>text</th>\n",
       "      <th>target</th>\n",
       "    </tr>\n",
       "  </thead>\n",
       "  <tbody>\n",
       "    <tr>\n",
       "      <th>6659</th>\n",
       "      <td>9542</td>\n",
       "      <td>threat</td>\n",
       "      <td>Everywhere</td>\n",
       "      <td>build and share your own custom applications a...</td>\n",
       "      <td>0</td>\n",
       "    </tr>\n",
       "    <tr>\n",
       "      <th>6660</th>\n",
       "      <td>9547</td>\n",
       "      <td>threat</td>\n",
       "      <td>unknown</td>\n",
       "      <td>is this the end of australias best burger ? vi...</td>\n",
       "      <td>0</td>\n",
       "    </tr>\n",
       "    <tr>\n",
       "      <th>6661</th>\n",
       "      <td>9548</td>\n",
       "      <td>threat</td>\n",
       "      <td>Hyrule</td>\n",
       "      <td>@ kinggerudo_ to the largest moblin ' s he ' ...</td>\n",
       "      <td>0</td>\n",
       "    </tr>\n",
       "    <tr>\n",
       "      <th>6662</th>\n",
       "      <td>9550</td>\n",
       "      <td>threat</td>\n",
       "      <td>front row at a show</td>\n",
       "      <td>white americans are the biggest threat in the ...</td>\n",
       "      <td>0</td>\n",
       "    </tr>\n",
       "    <tr>\n",
       "      <th>6663</th>\n",
       "      <td>9551</td>\n",
       "      <td>threat</td>\n",
       "      <td>Ohio, USA</td>\n",
       "      <td>the few i warned about . . were just as i expe...</td>\n",
       "      <td>0</td>\n",
       "    </tr>\n",
       "    <tr>\n",
       "      <th>6664</th>\n",
       "      <td>9552</td>\n",
       "      <td>threat</td>\n",
       "      <td>London, UK</td>\n",
       "      <td>generational british schism over privacy threa...</td>\n",
       "      <td>0</td>\n",
       "    </tr>\n",
       "    <tr>\n",
       "      <th>6665</th>\n",
       "      <td>9553</td>\n",
       "      <td>threat</td>\n",
       "      <td>Arlington, VA</td>\n",
       "      <td>get access to the most extensive sources of th...</td>\n",
       "      <td>0</td>\n",
       "    </tr>\n",
       "    <tr>\n",
       "      <th>6666</th>\n",
       "      <td>9554</td>\n",
       "      <td>threat</td>\n",
       "      <td>God.Family.Money</td>\n",
       "      <td>if a nigga was a threat then that boy ah be th...</td>\n",
       "      <td>0</td>\n",
       "    </tr>\n",
       "    <tr>\n",
       "      <th>6667</th>\n",
       "      <td>9555</td>\n",
       "      <td>threat</td>\n",
       "      <td>Everywhere</td>\n",
       "      <td>purple heart vet finds jihad threat on his car...</td>\n",
       "      <td>0</td>\n",
       "    </tr>\n",
       "    <tr>\n",
       "      <th>6668</th>\n",
       "      <td>9556</td>\n",
       "      <td>threat</td>\n",
       "      <td>Kwajalein/Virginia/Dayton, OH</td>\n",
       "      <td>@ dmassa5 definite triple crown threat . him ...</td>\n",
       "      <td>1</td>\n",
       "    </tr>\n",
       "    <tr>\n",
       "      <th>6669</th>\n",
       "      <td>9557</td>\n",
       "      <td>threat</td>\n",
       "      <td>BiÌ±an,Laguna</td>\n",
       "      <td>meek mill responds to drakes ovo fest set with...</td>\n",
       "      <td>1</td>\n",
       "    </tr>\n",
       "  </tbody>\n",
       "</table>\n",
       "</div>"
      ],
      "text/plain": [
       "        id keyword                       location  \\\n",
       "6659  9542  threat                     Everywhere   \n",
       "6660  9547  threat                        unknown   \n",
       "6661  9548  threat                         Hyrule   \n",
       "6662  9550  threat            front row at a show   \n",
       "6663  9551  threat                      Ohio, USA   \n",
       "6664  9552  threat                     London, UK   \n",
       "6665  9553  threat                  Arlington, VA   \n",
       "6666  9554  threat               God.Family.Money   \n",
       "6667  9555  threat                     Everywhere   \n",
       "6668  9556  threat  Kwajalein/Virginia/Dayton, OH   \n",
       "6669  9557  threat                  BiÌ±an,Laguna   \n",
       "\n",
       "                                                   text  target  \n",
       "6659  build and share your own custom applications a...       0  \n",
       "6660  is this the end of australias best burger ? vi...       0  \n",
       "6661   @ kinggerudo_ to the largest moblin ' s he ' ...       0  \n",
       "6662  white americans are the biggest threat in the ...       0  \n",
       "6663  the few i warned about . . were just as i expe...       0  \n",
       "6664  generational british schism over privacy threa...       0  \n",
       "6665  get access to the most extensive sources of th...       0  \n",
       "6666  if a nigga was a threat then that boy ah be th...       0  \n",
       "6667  purple heart vet finds jihad threat on his car...       0  \n",
       "6668   @ dmassa5 definite triple crown threat . him ...       1  \n",
       "6669  meek mill responds to drakes ovo fest set with...       1  "
      ]
     },
     "execution_count": 51,
     "metadata": {},
     "output_type": "execute_result"
    }
   ],
   "source": [
    "train[train['keyword']=='threat']"
   ]
  },
  {
   "cell_type": "code",
   "execution_count": null,
   "id": "3386ef10",
   "metadata": {
    "papermill": {
     "duration": 0.101341,
     "end_time": "2024-10-08T07:53:21.336409",
     "exception": false,
     "start_time": "2024-10-08T07:53:21.235068",
     "status": "completed"
    },
    "tags": []
   },
   "outputs": [],
   "source": []
  }
 ],
 "metadata": {
  "kaggle": {
   "accelerator": "gpu",
   "dataSources": [
    {
     "databundleVersionId": 869809,
     "sourceId": 17777,
     "sourceType": "competition"
    },
    {
     "sourceId": 26000235,
     "sourceType": "kernelVersion"
    },
    {
     "modelId": 2819,
     "modelInstanceId": 4678,
     "sourceId": 6057,
     "sourceType": "modelInstanceVersion"
    },
    {
     "modelId": 2821,
     "modelInstanceId": 4689,
     "sourceId": 6068,
     "sourceType": "modelInstanceVersion"
    }
   ],
   "dockerImageVersionId": 30775,
   "isGpuEnabled": true,
   "isInternetEnabled": true,
   "language": "python",
   "sourceType": "notebook"
  },
  "kernelspec": {
   "display_name": "Python 3",
   "language": "python",
   "name": "python3"
  },
  "language_info": {
   "codemirror_mode": {
    "name": "ipython",
    "version": 3
   },
   "file_extension": ".py",
   "mimetype": "text/x-python",
   "name": "python",
   "nbconvert_exporter": "python",
   "pygments_lexer": "ipython3",
   "version": "3.10.14"
  },
  "papermill": {
   "default_parameters": {},
   "duration": 988.216475,
   "end_time": "2024-10-08T07:53:24.429808",
   "environment_variables": {},
   "exception": null,
   "input_path": "__notebook__.ipynb",
   "output_path": "__notebook__.ipynb",
   "parameters": {},
   "start_time": "2024-10-08T07:36:56.213333",
   "version": "2.6.0"
  },
  "widgets": {
   "application/vnd.jupyter.widget-state+json": {
    "state": {
     "08390e6216554acebc141bceaccaadd7": {
      "model_module": "@jupyter-widgets/base",
      "model_module_version": "1.2.0",
      "model_name": "LayoutModel",
      "state": {
       "_model_module": "@jupyter-widgets/base",
       "_model_module_version": "1.2.0",
       "_model_name": "LayoutModel",
       "_view_count": null,
       "_view_module": "@jupyter-widgets/base",
       "_view_module_version": "1.2.0",
       "_view_name": "LayoutView",
       "align_content": null,
       "align_items": null,
       "align_self": null,
       "border": null,
       "bottom": null,
       "display": null,
       "flex": null,
       "flex_flow": null,
       "grid_area": null,
       "grid_auto_columns": null,
       "grid_auto_flow": null,
       "grid_auto_rows": null,
       "grid_column": null,
       "grid_gap": null,
       "grid_row": null,
       "grid_template_areas": null,
       "grid_template_columns": null,
       "grid_template_rows": null,
       "height": null,
       "justify_content": null,
       "justify_items": null,
       "left": null,
       "margin": null,
       "max_height": null,
       "max_width": null,
       "min_height": null,
       "min_width": null,
       "object_fit": null,
       "object_position": null,
       "order": null,
       "overflow": null,
       "overflow_x": null,
       "overflow_y": null,
       "padding": null,
       "right": null,
       "top": null,
       "visibility": null,
       "width": null
      }
     },
     "085da077f18846da86d59e1f1a52a6b0": {
      "model_module": "@jupyter-widgets/controls",
      "model_module_version": "1.5.0",
      "model_name": "HBoxModel",
      "state": {
       "_dom_classes": [],
       "_model_module": "@jupyter-widgets/controls",
       "_model_module_version": "1.5.0",
       "_model_name": "HBoxModel",
       "_view_count": null,
       "_view_module": "@jupyter-widgets/controls",
       "_view_module_version": "1.5.0",
       "_view_name": "HBoxView",
       "box_style": "",
       "children": [
        "IPY_MODEL_24ef8189871f48a5ba436bf241689aec",
        "IPY_MODEL_e3d409afb48f4017a454779417d53361",
        "IPY_MODEL_5fb498a83eb0446a9c4545aa29f1543c"
       ],
       "layout": "IPY_MODEL_c8411527a4ff46f6a93c165300fbf29e"
      }
     },
     "0bc43b943096408aad52f738c1bae096": {
      "model_module": "@jupyter-widgets/base",
      "model_module_version": "1.2.0",
      "model_name": "LayoutModel",
      "state": {
       "_model_module": "@jupyter-widgets/base",
       "_model_module_version": "1.2.0",
       "_model_name": "LayoutModel",
       "_view_count": null,
       "_view_module": "@jupyter-widgets/base",
       "_view_module_version": "1.2.0",
       "_view_name": "LayoutView",
       "align_content": null,
       "align_items": null,
       "align_self": null,
       "border": null,
       "bottom": null,
       "display": null,
       "flex": null,
       "flex_flow": null,
       "grid_area": null,
       "grid_auto_columns": null,
       "grid_auto_flow": null,
       "grid_auto_rows": null,
       "grid_column": null,
       "grid_gap": null,
       "grid_row": null,
       "grid_template_areas": null,
       "grid_template_columns": null,
       "grid_template_rows": null,
       "height": null,
       "justify_content": null,
       "justify_items": null,
       "left": null,
       "margin": null,
       "max_height": null,
       "max_width": null,
       "min_height": null,
       "min_width": null,
       "object_fit": null,
       "object_position": null,
       "order": null,
       "overflow": null,
       "overflow_x": null,
       "overflow_y": null,
       "padding": null,
       "right": null,
       "top": null,
       "visibility": null,
       "width": null
      }
     },
     "0cf423d89d804191b24284b092577ec1": {
      "model_module": "@jupyter-widgets/controls",
      "model_module_version": "1.5.0",
      "model_name": "HTMLModel",
      "state": {
       "_dom_classes": [],
       "_model_module": "@jupyter-widgets/controls",
       "_model_module_version": "1.5.0",
       "_model_name": "HTMLModel",
       "_view_count": null,
       "_view_module": "@jupyter-widgets/controls",
       "_view_module_version": "1.5.0",
       "_view_name": "HTMLView",
       "description": "",
       "description_tooltip": null,
       "layout": "IPY_MODEL_0bc43b943096408aad52f738c1bae096",
       "placeholder": "​",
       "style": "IPY_MODEL_50fa095b68b846d8ab20f1d3ed7b04ad",
       "value": " 629/629 [00:00&lt;00:00, 50.7kB/s]"
      }
     },
     "0d530ba69f9540dea981b6a040d96bd2": {
      "model_module": "@jupyter-widgets/base",
      "model_module_version": "1.2.0",
      "model_name": "LayoutModel",
      "state": {
       "_model_module": "@jupyter-widgets/base",
       "_model_module_version": "1.2.0",
       "_model_name": "LayoutModel",
       "_view_count": null,
       "_view_module": "@jupyter-widgets/base",
       "_view_module_version": "1.2.0",
       "_view_name": "LayoutView",
       "align_content": null,
       "align_items": null,
       "align_self": null,
       "border": null,
       "bottom": null,
       "display": null,
       "flex": null,
       "flex_flow": null,
       "grid_area": null,
       "grid_auto_columns": null,
       "grid_auto_flow": null,
       "grid_auto_rows": null,
       "grid_column": null,
       "grid_gap": null,
       "grid_row": null,
       "grid_template_areas": null,
       "grid_template_columns": null,
       "grid_template_rows": null,
       "height": null,
       "justify_content": null,
       "justify_items": null,
       "left": null,
       "margin": null,
       "max_height": null,
       "max_width": null,
       "min_height": null,
       "min_width": null,
       "object_fit": null,
       "object_position": null,
       "order": null,
       "overflow": null,
       "overflow_x": null,
       "overflow_y": null,
       "padding": null,
       "right": null,
       "top": null,
       "visibility": null,
       "width": null
      }
     },
     "0dd56cd21322490fbe8a5a28403b2533": {
      "model_module": "@jupyter-widgets/base",
      "model_module_version": "1.2.0",
      "model_name": "LayoutModel",
      "state": {
       "_model_module": "@jupyter-widgets/base",
       "_model_module_version": "1.2.0",
       "_model_name": "LayoutModel",
       "_view_count": null,
       "_view_module": "@jupyter-widgets/base",
       "_view_module_version": "1.2.0",
       "_view_name": "LayoutView",
       "align_content": null,
       "align_items": null,
       "align_self": null,
       "border": null,
       "bottom": null,
       "display": null,
       "flex": null,
       "flex_flow": null,
       "grid_area": null,
       "grid_auto_columns": null,
       "grid_auto_flow": null,
       "grid_auto_rows": null,
       "grid_column": null,
       "grid_gap": null,
       "grid_row": null,
       "grid_template_areas": null,
       "grid_template_columns": null,
       "grid_template_rows": null,
       "height": null,
       "justify_content": null,
       "justify_items": null,
       "left": null,
       "margin": null,
       "max_height": null,
       "max_width": null,
       "min_height": null,
       "min_width": null,
       "object_fit": null,
       "object_position": null,
       "order": null,
       "overflow": null,
       "overflow_x": null,
       "overflow_y": null,
       "padding": null,
       "right": null,
       "top": null,
       "visibility": null,
       "width": null
      }
     },
     "0e24ca9b01ff428e8450a2c17d3ac49d": {
      "model_module": "@jupyter-widgets/base",
      "model_module_version": "1.2.0",
      "model_name": "LayoutModel",
      "state": {
       "_model_module": "@jupyter-widgets/base",
       "_model_module_version": "1.2.0",
       "_model_name": "LayoutModel",
       "_view_count": null,
       "_view_module": "@jupyter-widgets/base",
       "_view_module_version": "1.2.0",
       "_view_name": "LayoutView",
       "align_content": null,
       "align_items": null,
       "align_self": null,
       "border": null,
       "bottom": null,
       "display": null,
       "flex": null,
       "flex_flow": null,
       "grid_area": null,
       "grid_auto_columns": null,
       "grid_auto_flow": null,
       "grid_auto_rows": null,
       "grid_column": null,
       "grid_gap": null,
       "grid_row": null,
       "grid_template_areas": null,
       "grid_template_columns": null,
       "grid_template_rows": null,
       "height": null,
       "justify_content": null,
       "justify_items": null,
       "left": null,
       "margin": null,
       "max_height": null,
       "max_width": null,
       "min_height": null,
       "min_width": null,
       "object_fit": null,
       "object_position": null,
       "order": null,
       "overflow": null,
       "overflow_x": null,
       "overflow_y": null,
       "padding": null,
       "right": null,
       "top": null,
       "visibility": null,
       "width": null
      }
     },
     "0e8ca370bf9146cda3448a556f9e43ae": {
      "model_module": "@jupyter-widgets/base",
      "model_module_version": "1.2.0",
      "model_name": "LayoutModel",
      "state": {
       "_model_module": "@jupyter-widgets/base",
       "_model_module_version": "1.2.0",
       "_model_name": "LayoutModel",
       "_view_count": null,
       "_view_module": "@jupyter-widgets/base",
       "_view_module_version": "1.2.0",
       "_view_name": "LayoutView",
       "align_content": null,
       "align_items": null,
       "align_self": null,
       "border": null,
       "bottom": null,
       "display": null,
       "flex": null,
       "flex_flow": null,
       "grid_area": null,
       "grid_auto_columns": null,
       "grid_auto_flow": null,
       "grid_auto_rows": null,
       "grid_column": null,
       "grid_gap": null,
       "grid_row": null,
       "grid_template_areas": null,
       "grid_template_columns": null,
       "grid_template_rows": null,
       "height": null,
       "justify_content": null,
       "justify_items": null,
       "left": null,
       "margin": null,
       "max_height": null,
       "max_width": null,
       "min_height": null,
       "min_width": null,
       "object_fit": null,
       "object_position": null,
       "order": null,
       "overflow": null,
       "overflow_x": null,
       "overflow_y": null,
       "padding": null,
       "right": null,
       "top": null,
       "visibility": null,
       "width": null
      }
     },
     "0ee7326980da4d99a669ff55dd250904": {
      "model_module": "@jupyter-widgets/controls",
      "model_module_version": "1.5.0",
      "model_name": "DescriptionStyleModel",
      "state": {
       "_model_module": "@jupyter-widgets/controls",
       "_model_module_version": "1.5.0",
       "_model_name": "DescriptionStyleModel",
       "_view_count": null,
       "_view_module": "@jupyter-widgets/base",
       "_view_module_version": "1.2.0",
       "_view_name": "StyleView",
       "description_width": ""
      }
     },
     "0f96ccabe5dc4567920f062e3e5f1eab": {
      "model_module": "@jupyter-widgets/base",
      "model_module_version": "1.2.0",
      "model_name": "LayoutModel",
      "state": {
       "_model_module": "@jupyter-widgets/base",
       "_model_module_version": "1.2.0",
       "_model_name": "LayoutModel",
       "_view_count": null,
       "_view_module": "@jupyter-widgets/base",
       "_view_module_version": "1.2.0",
       "_view_name": "LayoutView",
       "align_content": null,
       "align_items": null,
       "align_self": null,
       "border": null,
       "bottom": null,
       "display": null,
       "flex": null,
       "flex_flow": null,
       "grid_area": null,
       "grid_auto_columns": null,
       "grid_auto_flow": null,
       "grid_auto_rows": null,
       "grid_column": null,
       "grid_gap": null,
       "grid_row": null,
       "grid_template_areas": null,
       "grid_template_columns": null,
       "grid_template_rows": null,
       "height": null,
       "justify_content": null,
       "justify_items": null,
       "left": null,
       "margin": null,
       "max_height": null,
       "max_width": null,
       "min_height": null,
       "min_width": null,
       "object_fit": null,
       "object_position": null,
       "order": null,
       "overflow": null,
       "overflow_x": null,
       "overflow_y": null,
       "padding": null,
       "right": null,
       "top": null,
       "visibility": null,
       "width": null
      }
     },
     "157b32f1a3f54e10afbddc5ff0651394": {
      "model_module": "@jupyter-widgets/base",
      "model_module_version": "1.2.0",
      "model_name": "LayoutModel",
      "state": {
       "_model_module": "@jupyter-widgets/base",
       "_model_module_version": "1.2.0",
       "_model_name": "LayoutModel",
       "_view_count": null,
       "_view_module": "@jupyter-widgets/base",
       "_view_module_version": "1.2.0",
       "_view_name": "LayoutView",
       "align_content": null,
       "align_items": null,
       "align_self": null,
       "border": null,
       "bottom": null,
       "display": null,
       "flex": null,
       "flex_flow": null,
       "grid_area": null,
       "grid_auto_columns": null,
       "grid_auto_flow": null,
       "grid_auto_rows": null,
       "grid_column": null,
       "grid_gap": null,
       "grid_row": null,
       "grid_template_areas": null,
       "grid_template_columns": null,
       "grid_template_rows": null,
       "height": null,
       "justify_content": null,
       "justify_items": null,
       "left": null,
       "margin": null,
       "max_height": null,
       "max_width": null,
       "min_height": null,
       "min_width": null,
       "object_fit": null,
       "object_position": null,
       "order": null,
       "overflow": null,
       "overflow_x": null,
       "overflow_y": null,
       "padding": null,
       "right": null,
       "top": null,
       "visibility": null,
       "width": null
      }
     },
     "15d8161565944c94a22d27cd93289b11": {
      "model_module": "@jupyter-widgets/controls",
      "model_module_version": "1.5.0",
      "model_name": "HBoxModel",
      "state": {
       "_dom_classes": [],
       "_model_module": "@jupyter-widgets/controls",
       "_model_module_version": "1.5.0",
       "_model_name": "HBoxModel",
       "_view_count": null,
       "_view_module": "@jupyter-widgets/controls",
       "_view_module_version": "1.5.0",
       "_view_name": "HBoxView",
       "box_style": "",
       "children": [
        "IPY_MODEL_8c8b3116483a4eef8daf32dca36a356f",
        "IPY_MODEL_1b29288c97db49c7bc55be58832dbf0b",
        "IPY_MODEL_55dc8ed669de4120b6de6b4e704b0534"
       ],
       "layout": "IPY_MODEL_0d530ba69f9540dea981b6a040d96bd2"
      }
     },
     "1b29288c97db49c7bc55be58832dbf0b": {
      "model_module": "@jupyter-widgets/controls",
      "model_module_version": "1.5.0",
      "model_name": "FloatProgressModel",
      "state": {
       "_dom_classes": [],
       "_model_module": "@jupyter-widgets/controls",
       "_model_module_version": "1.5.0",
       "_model_name": "FloatProgressModel",
       "_view_count": null,
       "_view_module": "@jupyter-widgets/controls",
       "_view_module_version": "1.5.0",
       "_view_name": "ProgressView",
       "bar_style": "success",
       "description": "",
       "description_tooltip": null,
       "layout": "IPY_MODEL_4d25e8bfacfa48158f6dedad079fef56",
       "max": 48.0,
       "min": 0.0,
       "orientation": "horizontal",
       "style": "IPY_MODEL_d3a8499a28944fcf97ac2a277643f07c",
       "value": 48.0
      }
     },
     "1e56d019b6d34bc5bdc0a058cf00c7a4": {
      "model_module": "@jupyter-widgets/controls",
      "model_module_version": "1.5.0",
      "model_name": "HBoxModel",
      "state": {
       "_dom_classes": [],
       "_model_module": "@jupyter-widgets/controls",
       "_model_module_version": "1.5.0",
       "_model_name": "HBoxModel",
       "_view_count": null,
       "_view_module": "@jupyter-widgets/controls",
       "_view_module_version": "1.5.0",
       "_view_name": "HBoxView",
       "box_style": "",
       "children": [
        "IPY_MODEL_27bee11bbb5c479bab869958b69663f3",
        "IPY_MODEL_d59ac510714b479299e4ee09edbedc9a",
        "IPY_MODEL_0cf423d89d804191b24284b092577ec1"
       ],
       "layout": "IPY_MODEL_a2c23fdb3d4b4a54be36624325fc931a"
      }
     },
     "1f3662bf090d47dbaf406984cdcd7256": {
      "model_module": "@jupyter-widgets/base",
      "model_module_version": "1.2.0",
      "model_name": "LayoutModel",
      "state": {
       "_model_module": "@jupyter-widgets/base",
       "_model_module_version": "1.2.0",
       "_model_name": "LayoutModel",
       "_view_count": null,
       "_view_module": "@jupyter-widgets/base",
       "_view_module_version": "1.2.0",
       "_view_name": "LayoutView",
       "align_content": null,
       "align_items": null,
       "align_self": null,
       "border": null,
       "bottom": null,
       "display": null,
       "flex": null,
       "flex_flow": null,
       "grid_area": null,
       "grid_auto_columns": null,
       "grid_auto_flow": null,
       "grid_auto_rows": null,
       "grid_column": null,
       "grid_gap": null,
       "grid_row": null,
       "grid_template_areas": null,
       "grid_template_columns": null,
       "grid_template_rows": null,
       "height": null,
       "justify_content": null,
       "justify_items": null,
       "left": null,
       "margin": null,
       "max_height": null,
       "max_width": null,
       "min_height": null,
       "min_width": null,
       "object_fit": null,
       "object_position": null,
       "order": null,
       "overflow": null,
       "overflow_x": null,
       "overflow_y": null,
       "padding": null,
       "right": null,
       "top": null,
       "visibility": null,
       "width": null
      }
     },
     "1f9e86147e3b4bf18cdf4bd04c480d23": {
      "model_module": "@jupyter-widgets/controls",
      "model_module_version": "1.5.0",
      "model_name": "ProgressStyleModel",
      "state": {
       "_model_module": "@jupyter-widgets/controls",
       "_model_module_version": "1.5.0",
       "_model_name": "ProgressStyleModel",
       "_view_count": null,
       "_view_module": "@jupyter-widgets/base",
       "_view_module_version": "1.2.0",
       "_view_name": "StyleView",
       "bar_color": null,
       "description_width": ""
      }
     },
     "20797d5f9ecd48d2b3e08b3fbda69bca": {
      "model_module": "@jupyter-widgets/controls",
      "model_module_version": "1.5.0",
      "model_name": "HTMLModel",
      "state": {
       "_dom_classes": [],
       "_model_module": "@jupyter-widgets/controls",
       "_model_module_version": "1.5.0",
       "_model_name": "HTMLModel",
       "_view_count": null,
       "_view_module": "@jupyter-widgets/controls",
       "_view_module_version": "1.5.0",
       "_view_name": "HTMLView",
       "description": "",
       "description_tooltip": null,
       "layout": "IPY_MODEL_ca7188be26194592959be91b2ec4fc64",
       "placeholder": "​",
       "style": "IPY_MODEL_e86da7c1fce648eab54c34f260d86145",
       "value": "tokenizer_config.json: 100%"
      }
     },
     "22143d62b26249dc9082af23f32a0eac": {
      "model_module": "@jupyter-widgets/controls",
      "model_module_version": "1.5.0",
      "model_name": "HBoxModel",
      "state": {
       "_dom_classes": [],
       "_model_module": "@jupyter-widgets/controls",
       "_model_module_version": "1.5.0",
       "_model_name": "HBoxModel",
       "_view_count": null,
       "_view_module": "@jupyter-widgets/controls",
       "_view_module_version": "1.5.0",
       "_view_name": "HBoxView",
       "box_style": "",
       "children": [
        "IPY_MODEL_f391d4cf9c04413296f13be966ac029e",
        "IPY_MODEL_f4904c5b6bd84cd49dfafb2aafc161df",
        "IPY_MODEL_8b4b53de5a3847088d3186b79b2df890"
       ],
       "layout": "IPY_MODEL_eab5479498fd41f081680738c4f7164c"
      }
     },
     "24ef8189871f48a5ba436bf241689aec": {
      "model_module": "@jupyter-widgets/controls",
      "model_module_version": "1.5.0",
      "model_name": "HTMLModel",
      "state": {
       "_dom_classes": [],
       "_model_module": "@jupyter-widgets/controls",
       "_model_module_version": "1.5.0",
       "_model_name": "HTMLModel",
       "_view_count": null,
       "_view_module": "@jupyter-widgets/controls",
       "_view_module_version": "1.5.0",
       "_view_name": "HTMLView",
       "description": "",
       "description_tooltip": null,
       "layout": "IPY_MODEL_492f8d45cb4e46b2b44cdc8af7c68b15",
       "placeholder": "​",
       "style": "IPY_MODEL_68f264fb4a724d8c8d8bf35d4563cafa",
       "value": "tokenizer.json: 100%"
      }
     },
     "27bee11bbb5c479bab869958b69663f3": {
      "model_module": "@jupyter-widgets/controls",
      "model_module_version": "1.5.0",
      "model_name": "HTMLModel",
      "state": {
       "_dom_classes": [],
       "_model_module": "@jupyter-widgets/controls",
       "_model_module_version": "1.5.0",
       "_model_name": "HTMLModel",
       "_view_count": null,
       "_view_module": "@jupyter-widgets/controls",
       "_view_module_version": "1.5.0",
       "_view_name": "HTMLView",
       "description": "",
       "description_tooltip": null,
       "layout": "IPY_MODEL_9efc1b1cfc1c4ebc95f0168d1ec12720",
       "placeholder": "​",
       "style": "IPY_MODEL_b21a3c802abd415fbd9b4b9e6c00576f",
       "value": "config.json: 100%"
      }
     },
     "2f52dac33b8149d19d91c8a318e11fd7": {
      "model_module": "@jupyter-widgets/controls",
      "model_module_version": "1.5.0",
      "model_name": "ProgressStyleModel",
      "state": {
       "_model_module": "@jupyter-widgets/controls",
       "_model_module_version": "1.5.0",
       "_model_name": "ProgressStyleModel",
       "_view_count": null,
       "_view_module": "@jupyter-widgets/base",
       "_view_module_version": "1.2.0",
       "_view_name": "StyleView",
       "bar_color": null,
       "description_width": ""
      }
     },
     "2fa72791b83c4059967017a44255d082": {
      "model_module": "@jupyter-widgets/base",
      "model_module_version": "1.2.0",
      "model_name": "LayoutModel",
      "state": {
       "_model_module": "@jupyter-widgets/base",
       "_model_module_version": "1.2.0",
       "_model_name": "LayoutModel",
       "_view_count": null,
       "_view_module": "@jupyter-widgets/base",
       "_view_module_version": "1.2.0",
       "_view_name": "LayoutView",
       "align_content": null,
       "align_items": null,
       "align_self": null,
       "border": null,
       "bottom": null,
       "display": null,
       "flex": null,
       "flex_flow": null,
       "grid_area": null,
       "grid_auto_columns": null,
       "grid_auto_flow": null,
       "grid_auto_rows": null,
       "grid_column": null,
       "grid_gap": null,
       "grid_row": null,
       "grid_template_areas": null,
       "grid_template_columns": null,
       "grid_template_rows": null,
       "height": null,
       "justify_content": null,
       "justify_items": null,
       "left": null,
       "margin": null,
       "max_height": null,
       "max_width": null,
       "min_height": null,
       "min_width": null,
       "object_fit": null,
       "object_position": null,
       "order": null,
       "overflow": null,
       "overflow_x": null,
       "overflow_y": null,
       "padding": null,
       "right": null,
       "top": null,
       "visibility": null,
       "width": null
      }
     },
     "3061a649df614094b61d6c6c7c42f9b4": {
      "model_module": "@jupyter-widgets/controls",
      "model_module_version": "1.5.0",
      "model_name": "HTMLModel",
      "state": {
       "_dom_classes": [],
       "_model_module": "@jupyter-widgets/controls",
       "_model_module_version": "1.5.0",
       "_model_name": "HTMLModel",
       "_view_count": null,
       "_view_module": "@jupyter-widgets/controls",
       "_view_module_version": "1.5.0",
       "_view_name": "HTMLView",
       "description": "",
       "description_tooltip": null,
       "layout": "IPY_MODEL_c01d8edadf9644a7986c019aabf6672d",
       "placeholder": "​",
       "style": "IPY_MODEL_b9c0c9971321447d8d999fdb17cc608b",
       "value": " 232k/232k [00:00&lt;00:00, 4.79MB/s]"
      }
     },
     "338061dfa1104ff19f3e863147911dcf": {
      "model_module": "@jupyter-widgets/controls",
      "model_module_version": "1.5.0",
      "model_name": "DescriptionStyleModel",
      "state": {
       "_model_module": "@jupyter-widgets/controls",
       "_model_module_version": "1.5.0",
       "_model_name": "DescriptionStyleModel",
       "_view_count": null,
       "_view_module": "@jupyter-widgets/base",
       "_view_module_version": "1.2.0",
       "_view_name": "StyleView",
       "description_width": ""
      }
     },
     "35842b0e62a44f8e89fd34b49f248b56": {
      "model_module": "@jupyter-widgets/controls",
      "model_module_version": "1.5.0",
      "model_name": "HBoxModel",
      "state": {
       "_dom_classes": [],
       "_model_module": "@jupyter-widgets/controls",
       "_model_module_version": "1.5.0",
       "_model_name": "HBoxModel",
       "_view_count": null,
       "_view_module": "@jupyter-widgets/controls",
       "_view_module_version": "1.5.0",
       "_view_name": "HBoxView",
       "box_style": "",
       "children": [
        "IPY_MODEL_f7124a31e5c54d4dbfc9224655c90735",
        "IPY_MODEL_f14fd49af0e3410aa3ee8eb4c06d7911",
        "IPY_MODEL_3061a649df614094b61d6c6c7c42f9b4"
       ],
       "layout": "IPY_MODEL_fc4f6cd6883c4086a8ce1210d1b9ead5"
      }
     },
     "3dd0375a67e147b9a8b1098bdb6a303c": {
      "model_module": "@jupyter-widgets/controls",
      "model_module_version": "1.5.0",
      "model_name": "FloatProgressModel",
      "state": {
       "_dom_classes": [],
       "_model_module": "@jupyter-widgets/controls",
       "_model_module_version": "1.5.0",
       "_model_name": "FloatProgressModel",
       "_view_count": null,
       "_view_module": "@jupyter-widgets/controls",
       "_view_module_version": "1.5.0",
       "_view_name": "ProgressView",
       "bar_style": "success",
       "description": "",
       "description_tooltip": null,
       "layout": "IPY_MODEL_61e6f26207e44615a2bd9095f026175a",
       "max": 48.0,
       "min": 0.0,
       "orientation": "horizontal",
       "style": "IPY_MODEL_59f50cf18dae4a68b50e2187adc8318b",
       "value": 48.0
      }
     },
     "432885b4501f4872a6fd517ec5c10740": {
      "model_module": "@jupyter-widgets/base",
      "model_module_version": "1.2.0",
      "model_name": "LayoutModel",
      "state": {
       "_model_module": "@jupyter-widgets/base",
       "_model_module_version": "1.2.0",
       "_model_name": "LayoutModel",
       "_view_count": null,
       "_view_module": "@jupyter-widgets/base",
       "_view_module_version": "1.2.0",
       "_view_name": "LayoutView",
       "align_content": null,
       "align_items": null,
       "align_self": null,
       "border": null,
       "bottom": null,
       "display": null,
       "flex": null,
       "flex_flow": null,
       "grid_area": null,
       "grid_auto_columns": null,
       "grid_auto_flow": null,
       "grid_auto_rows": null,
       "grid_column": null,
       "grid_gap": null,
       "grid_row": null,
       "grid_template_areas": null,
       "grid_template_columns": null,
       "grid_template_rows": null,
       "height": null,
       "justify_content": null,
       "justify_items": null,
       "left": null,
       "margin": null,
       "max_height": null,
       "max_width": null,
       "min_height": null,
       "min_width": null,
       "object_fit": null,
       "object_position": null,
       "order": null,
       "overflow": null,
       "overflow_x": null,
       "overflow_y": null,
       "padding": null,
       "right": null,
       "top": null,
       "visibility": null,
       "width": null
      }
     },
     "459cf309a84c4000b1efd8dcaefe0d6a": {
      "model_module": "@jupyter-widgets/controls",
      "model_module_version": "1.5.0",
      "model_name": "DescriptionStyleModel",
      "state": {
       "_model_module": "@jupyter-widgets/controls",
       "_model_module_version": "1.5.0",
       "_model_name": "DescriptionStyleModel",
       "_view_count": null,
       "_view_module": "@jupyter-widgets/base",
       "_view_module_version": "1.2.0",
       "_view_name": "StyleView",
       "description_width": ""
      }
     },
     "48fa274252c844f0a00f7065a841d84f": {
      "model_module": "@jupyter-widgets/controls",
      "model_module_version": "1.5.0",
      "model_name": "ProgressStyleModel",
      "state": {
       "_model_module": "@jupyter-widgets/controls",
       "_model_module_version": "1.5.0",
       "_model_name": "ProgressStyleModel",
       "_view_count": null,
       "_view_module": "@jupyter-widgets/base",
       "_view_module_version": "1.2.0",
       "_view_name": "StyleView",
       "bar_color": null,
       "description_width": ""
      }
     },
     "49297b2a3c5143d89cce8577235a5b21": {
      "model_module": "@jupyter-widgets/base",
      "model_module_version": "1.2.0",
      "model_name": "LayoutModel",
      "state": {
       "_model_module": "@jupyter-widgets/base",
       "_model_module_version": "1.2.0",
       "_model_name": "LayoutModel",
       "_view_count": null,
       "_view_module": "@jupyter-widgets/base",
       "_view_module_version": "1.2.0",
       "_view_name": "LayoutView",
       "align_content": null,
       "align_items": null,
       "align_self": null,
       "border": null,
       "bottom": null,
       "display": null,
       "flex": null,
       "flex_flow": null,
       "grid_area": null,
       "grid_auto_columns": null,
       "grid_auto_flow": null,
       "grid_auto_rows": null,
       "grid_column": null,
       "grid_gap": null,
       "grid_row": null,
       "grid_template_areas": null,
       "grid_template_columns": null,
       "grid_template_rows": null,
       "height": null,
       "justify_content": null,
       "justify_items": null,
       "left": null,
       "margin": null,
       "max_height": null,
       "max_width": null,
       "min_height": null,
       "min_width": null,
       "object_fit": null,
       "object_position": null,
       "order": null,
       "overflow": null,
       "overflow_x": null,
       "overflow_y": null,
       "padding": null,
       "right": null,
       "top": null,
       "visibility": null,
       "width": null
      }
     },
     "492f8d45cb4e46b2b44cdc8af7c68b15": {
      "model_module": "@jupyter-widgets/base",
      "model_module_version": "1.2.0",
      "model_name": "LayoutModel",
      "state": {
       "_model_module": "@jupyter-widgets/base",
       "_model_module_version": "1.2.0",
       "_model_name": "LayoutModel",
       "_view_count": null,
       "_view_module": "@jupyter-widgets/base",
       "_view_module_version": "1.2.0",
       "_view_name": "LayoutView",
       "align_content": null,
       "align_items": null,
       "align_self": null,
       "border": null,
       "bottom": null,
       "display": null,
       "flex": null,
       "flex_flow": null,
       "grid_area": null,
       "grid_auto_columns": null,
       "grid_auto_flow": null,
       "grid_auto_rows": null,
       "grid_column": null,
       "grid_gap": null,
       "grid_row": null,
       "grid_template_areas": null,
       "grid_template_columns": null,
       "grid_template_rows": null,
       "height": null,
       "justify_content": null,
       "justify_items": null,
       "left": null,
       "margin": null,
       "max_height": null,
       "max_width": null,
       "min_height": null,
       "min_width": null,
       "object_fit": null,
       "object_position": null,
       "order": null,
       "overflow": null,
       "overflow_x": null,
       "overflow_y": null,
       "padding": null,
       "right": null,
       "top": null,
       "visibility": null,
       "width": null
      }
     },
     "49b2ad2f05ec40f8a266f95fe0d9591d": {
      "model_module": "@jupyter-widgets/controls",
      "model_module_version": "1.5.0",
      "model_name": "DescriptionStyleModel",
      "state": {
       "_model_module": "@jupyter-widgets/controls",
       "_model_module_version": "1.5.0",
       "_model_name": "DescriptionStyleModel",
       "_view_count": null,
       "_view_module": "@jupyter-widgets/base",
       "_view_module_version": "1.2.0",
       "_view_name": "StyleView",
       "description_width": ""
      }
     },
     "4a051b1d25d848bc8b7f3a0f28c51a48": {
      "model_module": "@jupyter-widgets/controls",
      "model_module_version": "1.5.0",
      "model_name": "HTMLModel",
      "state": {
       "_dom_classes": [],
       "_model_module": "@jupyter-widgets/controls",
       "_model_module_version": "1.5.0",
       "_model_name": "HTMLModel",
       "_view_count": null,
       "_view_module": "@jupyter-widgets/controls",
       "_view_module_version": "1.5.0",
       "_view_name": "HTMLView",
       "description": "",
       "description_tooltip": null,
       "layout": "IPY_MODEL_432885b4501f4872a6fd517ec5c10740",
       "placeholder": "​",
       "style": "IPY_MODEL_9ced93d052ae45e6a6e6fc0152c3a88d",
       "value": " 268M/268M [00:01&lt;00:00, 299MB/s]"
      }
     },
     "4a0d903a21d547a3a7704bc754d612c3": {
      "model_module": "@jupyter-widgets/controls",
      "model_module_version": "1.5.0",
      "model_name": "DescriptionStyleModel",
      "state": {
       "_model_module": "@jupyter-widgets/controls",
       "_model_module_version": "1.5.0",
       "_model_name": "DescriptionStyleModel",
       "_view_count": null,
       "_view_module": "@jupyter-widgets/base",
       "_view_module_version": "1.2.0",
       "_view_name": "StyleView",
       "description_width": ""
      }
     },
     "4b2def50bc2049c587f26670425af65f": {
      "model_module": "@jupyter-widgets/base",
      "model_module_version": "1.2.0",
      "model_name": "LayoutModel",
      "state": {
       "_model_module": "@jupyter-widgets/base",
       "_model_module_version": "1.2.0",
       "_model_name": "LayoutModel",
       "_view_count": null,
       "_view_module": "@jupyter-widgets/base",
       "_view_module_version": "1.2.0",
       "_view_name": "LayoutView",
       "align_content": null,
       "align_items": null,
       "align_self": null,
       "border": null,
       "bottom": null,
       "display": null,
       "flex": null,
       "flex_flow": null,
       "grid_area": null,
       "grid_auto_columns": null,
       "grid_auto_flow": null,
       "grid_auto_rows": null,
       "grid_column": null,
       "grid_gap": null,
       "grid_row": null,
       "grid_template_areas": null,
       "grid_template_columns": null,
       "grid_template_rows": null,
       "height": null,
       "justify_content": null,
       "justify_items": null,
       "left": null,
       "margin": null,
       "max_height": null,
       "max_width": null,
       "min_height": null,
       "min_width": null,
       "object_fit": null,
       "object_position": null,
       "order": null,
       "overflow": null,
       "overflow_x": null,
       "overflow_y": null,
       "padding": null,
       "right": null,
       "top": null,
       "visibility": null,
       "width": null
      }
     },
     "4d25e8bfacfa48158f6dedad079fef56": {
      "model_module": "@jupyter-widgets/base",
      "model_module_version": "1.2.0",
      "model_name": "LayoutModel",
      "state": {
       "_model_module": "@jupyter-widgets/base",
       "_model_module_version": "1.2.0",
       "_model_name": "LayoutModel",
       "_view_count": null,
       "_view_module": "@jupyter-widgets/base",
       "_view_module_version": "1.2.0",
       "_view_name": "LayoutView",
       "align_content": null,
       "align_items": null,
       "align_self": null,
       "border": null,
       "bottom": null,
       "display": null,
       "flex": null,
       "flex_flow": null,
       "grid_area": null,
       "grid_auto_columns": null,
       "grid_auto_flow": null,
       "grid_auto_rows": null,
       "grid_column": null,
       "grid_gap": null,
       "grid_row": null,
       "grid_template_areas": null,
       "grid_template_columns": null,
       "grid_template_rows": null,
       "height": null,
       "justify_content": null,
       "justify_items": null,
       "left": null,
       "margin": null,
       "max_height": null,
       "max_width": null,
       "min_height": null,
       "min_width": null,
       "object_fit": null,
       "object_position": null,
       "order": null,
       "overflow": null,
       "overflow_x": null,
       "overflow_y": null,
       "padding": null,
       "right": null,
       "top": null,
       "visibility": null,
       "width": null
      }
     },
     "50c258de159a46fba486d5fea9e990c0": {
      "model_module": "@jupyter-widgets/controls",
      "model_module_version": "1.5.0",
      "model_name": "HTMLModel",
      "state": {
       "_dom_classes": [],
       "_model_module": "@jupyter-widgets/controls",
       "_model_module_version": "1.5.0",
       "_model_name": "HTMLModel",
       "_view_count": null,
       "_view_module": "@jupyter-widgets/controls",
       "_view_module_version": "1.5.0",
       "_view_name": "HTMLView",
       "description": "",
       "description_tooltip": null,
       "layout": "IPY_MODEL_ed7a773566f044e9b8ea747b558704d1",
       "placeholder": "​",
       "style": "IPY_MODEL_88bb473b49e047aa9f25e669c39787c4",
       "value": " 48.0/48.0 [00:00&lt;00:00, 4.12kB/s]"
      }
     },
     "50fa095b68b846d8ab20f1d3ed7b04ad": {
      "model_module": "@jupyter-widgets/controls",
      "model_module_version": "1.5.0",
      "model_name": "DescriptionStyleModel",
      "state": {
       "_model_module": "@jupyter-widgets/controls",
       "_model_module_version": "1.5.0",
       "_model_name": "DescriptionStyleModel",
       "_view_count": null,
       "_view_module": "@jupyter-widgets/base",
       "_view_module_version": "1.2.0",
       "_view_name": "StyleView",
       "description_width": ""
      }
     },
     "537330a1a1e245e6a1e58ff411edf653": {
      "model_module": "@jupyter-widgets/controls",
      "model_module_version": "1.5.0",
      "model_name": "HBoxModel",
      "state": {
       "_dom_classes": [],
       "_model_module": "@jupyter-widgets/controls",
       "_model_module_version": "1.5.0",
       "_model_name": "HBoxModel",
       "_view_count": null,
       "_view_module": "@jupyter-widgets/controls",
       "_view_module_version": "1.5.0",
       "_view_name": "HBoxView",
       "box_style": "",
       "children": [
        "IPY_MODEL_20797d5f9ecd48d2b3e08b3fbda69bca",
        "IPY_MODEL_3dd0375a67e147b9a8b1098bdb6a303c",
        "IPY_MODEL_50c258de159a46fba486d5fea9e990c0"
       ],
       "layout": "IPY_MODEL_0e8ca370bf9146cda3448a556f9e43ae"
      }
     },
     "55dc8ed669de4120b6de6b4e704b0534": {
      "model_module": "@jupyter-widgets/controls",
      "model_module_version": "1.5.0",
      "model_name": "HTMLModel",
      "state": {
       "_dom_classes": [],
       "_model_module": "@jupyter-widgets/controls",
       "_model_module_version": "1.5.0",
       "_model_name": "HTMLModel",
       "_view_count": null,
       "_view_module": "@jupyter-widgets/controls",
       "_view_module_version": "1.5.0",
       "_view_name": "HTMLView",
       "description": "",
       "description_tooltip": null,
       "layout": "IPY_MODEL_4b2def50bc2049c587f26670425af65f",
       "placeholder": "​",
       "style": "IPY_MODEL_49b2ad2f05ec40f8a266f95fe0d9591d",
       "value": " 48.0/48.0 [00:00&lt;00:00, 3.75kB/s]"
      }
     },
     "586b1f74d96742239243c76786d954f0": {
      "model_module": "@jupyter-widgets/base",
      "model_module_version": "1.2.0",
      "model_name": "LayoutModel",
      "state": {
       "_model_module": "@jupyter-widgets/base",
       "_model_module_version": "1.2.0",
       "_model_name": "LayoutModel",
       "_view_count": null,
       "_view_module": "@jupyter-widgets/base",
       "_view_module_version": "1.2.0",
       "_view_name": "LayoutView",
       "align_content": null,
       "align_items": null,
       "align_self": null,
       "border": null,
       "bottom": null,
       "display": null,
       "flex": null,
       "flex_flow": null,
       "grid_area": null,
       "grid_auto_columns": null,
       "grid_auto_flow": null,
       "grid_auto_rows": null,
       "grid_column": null,
       "grid_gap": null,
       "grid_row": null,
       "grid_template_areas": null,
       "grid_template_columns": null,
       "grid_template_rows": null,
       "height": null,
       "justify_content": null,
       "justify_items": null,
       "left": null,
       "margin": null,
       "max_height": null,
       "max_width": null,
       "min_height": null,
       "min_width": null,
       "object_fit": null,
       "object_position": null,
       "order": null,
       "overflow": null,
       "overflow_x": null,
       "overflow_y": null,
       "padding": null,
       "right": null,
       "top": null,
       "visibility": null,
       "width": null
      }
     },
     "59f50cf18dae4a68b50e2187adc8318b": {
      "model_module": "@jupyter-widgets/controls",
      "model_module_version": "1.5.0",
      "model_name": "ProgressStyleModel",
      "state": {
       "_model_module": "@jupyter-widgets/controls",
       "_model_module_version": "1.5.0",
       "_model_name": "ProgressStyleModel",
       "_view_count": null,
       "_view_module": "@jupyter-widgets/base",
       "_view_module_version": "1.2.0",
       "_view_name": "StyleView",
       "bar_color": null,
       "description_width": ""
      }
     },
     "5a6ca1b6aeb94560a6973343aac7c2b4": {
      "model_module": "@jupyter-widgets/controls",
      "model_module_version": "1.5.0",
      "model_name": "FloatProgressModel",
      "state": {
       "_dom_classes": [],
       "_model_module": "@jupyter-widgets/controls",
       "_model_module_version": "1.5.0",
       "_model_name": "FloatProgressModel",
       "_view_count": null,
       "_view_module": "@jupyter-widgets/controls",
       "_view_module_version": "1.5.0",
       "_view_name": "ProgressView",
       "bar_style": "success",
       "description": "",
       "description_tooltip": null,
       "layout": "IPY_MODEL_e17b167a3c62410daa461eb4dd43f628",
       "max": 483.0,
       "min": 0.0,
       "orientation": "horizontal",
       "style": "IPY_MODEL_1f9e86147e3b4bf18cdf4bd04c480d23",
       "value": 483.0
      }
     },
     "5fb498a83eb0446a9c4545aa29f1543c": {
      "model_module": "@jupyter-widgets/controls",
      "model_module_version": "1.5.0",
      "model_name": "HTMLModel",
      "state": {
       "_dom_classes": [],
       "_model_module": "@jupyter-widgets/controls",
       "_model_module_version": "1.5.0",
       "_model_name": "HTMLModel",
       "_view_count": null,
       "_view_module": "@jupyter-widgets/controls",
       "_view_module_version": "1.5.0",
       "_view_name": "HTMLView",
       "description": "",
       "description_tooltip": null,
       "layout": "IPY_MODEL_7e07f0e5c951484f86899965f23fda70",
       "placeholder": "​",
       "style": "IPY_MODEL_459cf309a84c4000b1efd8dcaefe0d6a",
       "value": " 466k/466k [00:00&lt;00:00, 2.46MB/s]"
      }
     },
     "61e6f26207e44615a2bd9095f026175a": {
      "model_module": "@jupyter-widgets/base",
      "model_module_version": "1.2.0",
      "model_name": "LayoutModel",
      "state": {
       "_model_module": "@jupyter-widgets/base",
       "_model_module_version": "1.2.0",
       "_model_name": "LayoutModel",
       "_view_count": null,
       "_view_module": "@jupyter-widgets/base",
       "_view_module_version": "1.2.0",
       "_view_name": "LayoutView",
       "align_content": null,
       "align_items": null,
       "align_self": null,
       "border": null,
       "bottom": null,
       "display": null,
       "flex": null,
       "flex_flow": null,
       "grid_area": null,
       "grid_auto_columns": null,
       "grid_auto_flow": null,
       "grid_auto_rows": null,
       "grid_column": null,
       "grid_gap": null,
       "grid_row": null,
       "grid_template_areas": null,
       "grid_template_columns": null,
       "grid_template_rows": null,
       "height": null,
       "justify_content": null,
       "justify_items": null,
       "left": null,
       "margin": null,
       "max_height": null,
       "max_width": null,
       "min_height": null,
       "min_width": null,
       "object_fit": null,
       "object_position": null,
       "order": null,
       "overflow": null,
       "overflow_x": null,
       "overflow_y": null,
       "padding": null,
       "right": null,
       "top": null,
       "visibility": null,
       "width": null
      }
     },
     "65b1c0a33f074d31b820e87122bd99b4": {
      "model_module": "@jupyter-widgets/base",
      "model_module_version": "1.2.0",
      "model_name": "LayoutModel",
      "state": {
       "_model_module": "@jupyter-widgets/base",
       "_model_module_version": "1.2.0",
       "_model_name": "LayoutModel",
       "_view_count": null,
       "_view_module": "@jupyter-widgets/base",
       "_view_module_version": "1.2.0",
       "_view_name": "LayoutView",
       "align_content": null,
       "align_items": null,
       "align_self": null,
       "border": null,
       "bottom": null,
       "display": null,
       "flex": null,
       "flex_flow": null,
       "grid_area": null,
       "grid_auto_columns": null,
       "grid_auto_flow": null,
       "grid_auto_rows": null,
       "grid_column": null,
       "grid_gap": null,
       "grid_row": null,
       "grid_template_areas": null,
       "grid_template_columns": null,
       "grid_template_rows": null,
       "height": null,
       "justify_content": null,
       "justify_items": null,
       "left": null,
       "margin": null,
       "max_height": null,
       "max_width": null,
       "min_height": null,
       "min_width": null,
       "object_fit": null,
       "object_position": null,
       "order": null,
       "overflow": null,
       "overflow_x": null,
       "overflow_y": null,
       "padding": null,
       "right": null,
       "top": null,
       "visibility": null,
       "width": null
      }
     },
     "68f264fb4a724d8c8d8bf35d4563cafa": {
      "model_module": "@jupyter-widgets/controls",
      "model_module_version": "1.5.0",
      "model_name": "DescriptionStyleModel",
      "state": {
       "_model_module": "@jupyter-widgets/controls",
       "_model_module_version": "1.5.0",
       "_model_name": "DescriptionStyleModel",
       "_view_count": null,
       "_view_module": "@jupyter-widgets/base",
       "_view_module_version": "1.2.0",
       "_view_name": "StyleView",
       "description_width": ""
      }
     },
     "6b5034b3a148422294b65345c1efdd6d": {
      "model_module": "@jupyter-widgets/controls",
      "model_module_version": "1.5.0",
      "model_name": "ProgressStyleModel",
      "state": {
       "_model_module": "@jupyter-widgets/controls",
       "_model_module_version": "1.5.0",
       "_model_name": "ProgressStyleModel",
       "_view_count": null,
       "_view_module": "@jupyter-widgets/base",
       "_view_module_version": "1.2.0",
       "_view_name": "StyleView",
       "bar_color": null,
       "description_width": ""
      }
     },
     "6b9a4bb13f4049c199e35a1ee75c3164": {
      "model_module": "@jupyter-widgets/controls",
      "model_module_version": "1.5.0",
      "model_name": "DescriptionStyleModel",
      "state": {
       "_model_module": "@jupyter-widgets/controls",
       "_model_module_version": "1.5.0",
       "_model_name": "DescriptionStyleModel",
       "_view_count": null,
       "_view_module": "@jupyter-widgets/base",
       "_view_module_version": "1.2.0",
       "_view_name": "StyleView",
       "description_width": ""
      }
     },
     "74188f029fe1432bad9a05cdc5208213": {
      "model_module": "@jupyter-widgets/controls",
      "model_module_version": "1.5.0",
      "model_name": "ProgressStyleModel",
      "state": {
       "_model_module": "@jupyter-widgets/controls",
       "_model_module_version": "1.5.0",
       "_model_name": "ProgressStyleModel",
       "_view_count": null,
       "_view_module": "@jupyter-widgets/base",
       "_view_module_version": "1.2.0",
       "_view_name": "StyleView",
       "bar_color": null,
       "description_width": ""
      }
     },
     "7731672b3cfa4b58a66e5c075cf53b7b": {
      "model_module": "@jupyter-widgets/base",
      "model_module_version": "1.2.0",
      "model_name": "LayoutModel",
      "state": {
       "_model_module": "@jupyter-widgets/base",
       "_model_module_version": "1.2.0",
       "_model_name": "LayoutModel",
       "_view_count": null,
       "_view_module": "@jupyter-widgets/base",
       "_view_module_version": "1.2.0",
       "_view_name": "LayoutView",
       "align_content": null,
       "align_items": null,
       "align_self": null,
       "border": null,
       "bottom": null,
       "display": null,
       "flex": null,
       "flex_flow": null,
       "grid_area": null,
       "grid_auto_columns": null,
       "grid_auto_flow": null,
       "grid_auto_rows": null,
       "grid_column": null,
       "grid_gap": null,
       "grid_row": null,
       "grid_template_areas": null,
       "grid_template_columns": null,
       "grid_template_rows": null,
       "height": null,
       "justify_content": null,
       "justify_items": null,
       "left": null,
       "margin": null,
       "max_height": null,
       "max_width": null,
       "min_height": null,
       "min_width": null,
       "object_fit": null,
       "object_position": null,
       "order": null,
       "overflow": null,
       "overflow_x": null,
       "overflow_y": null,
       "padding": null,
       "right": null,
       "top": null,
       "visibility": null,
       "width": null
      }
     },
     "797fb47741d14c8394cd18debe59a2b5": {
      "model_module": "@jupyter-widgets/controls",
      "model_module_version": "1.5.0",
      "model_name": "HBoxModel",
      "state": {
       "_dom_classes": [],
       "_model_module": "@jupyter-widgets/controls",
       "_model_module_version": "1.5.0",
       "_model_name": "HBoxModel",
       "_view_count": null,
       "_view_module": "@jupyter-widgets/controls",
       "_view_module_version": "1.5.0",
       "_view_name": "HBoxView",
       "box_style": "",
       "children": [
        "IPY_MODEL_80a5b32367f349569c5e0b84ad134b4a",
        "IPY_MODEL_977629f16d0748e0b2df9935d2a55e2d",
        "IPY_MODEL_aaab4803d0cb4a6883f729131e7833d6"
       ],
       "layout": "IPY_MODEL_cb2c30232eb043d490d92f03a02266e3"
      }
     },
     "7e07f0e5c951484f86899965f23fda70": {
      "model_module": "@jupyter-widgets/base",
      "model_module_version": "1.2.0",
      "model_name": "LayoutModel",
      "state": {
       "_model_module": "@jupyter-widgets/base",
       "_model_module_version": "1.2.0",
       "_model_name": "LayoutModel",
       "_view_count": null,
       "_view_module": "@jupyter-widgets/base",
       "_view_module_version": "1.2.0",
       "_view_name": "LayoutView",
       "align_content": null,
       "align_items": null,
       "align_self": null,
       "border": null,
       "bottom": null,
       "display": null,
       "flex": null,
       "flex_flow": null,
       "grid_area": null,
       "grid_auto_columns": null,
       "grid_auto_flow": null,
       "grid_auto_rows": null,
       "grid_column": null,
       "grid_gap": null,
       "grid_row": null,
       "grid_template_areas": null,
       "grid_template_columns": null,
       "grid_template_rows": null,
       "height": null,
       "justify_content": null,
       "justify_items": null,
       "left": null,
       "margin": null,
       "max_height": null,
       "max_width": null,
       "min_height": null,
       "min_width": null,
       "object_fit": null,
       "object_position": null,
       "order": null,
       "overflow": null,
       "overflow_x": null,
       "overflow_y": null,
       "padding": null,
       "right": null,
       "top": null,
       "visibility": null,
       "width": null
      }
     },
     "80a5b32367f349569c5e0b84ad134b4a": {
      "model_module": "@jupyter-widgets/controls",
      "model_module_version": "1.5.0",
      "model_name": "HTMLModel",
      "state": {
       "_dom_classes": [],
       "_model_module": "@jupyter-widgets/controls",
       "_model_module_version": "1.5.0",
       "_model_name": "HTMLModel",
       "_view_count": null,
       "_view_module": "@jupyter-widgets/controls",
       "_view_module_version": "1.5.0",
       "_view_name": "HTMLView",
       "description": "",
       "description_tooltip": null,
       "layout": "IPY_MODEL_0e24ca9b01ff428e8450a2c17d3ac49d",
       "placeholder": "​",
       "style": "IPY_MODEL_cfc8c958f67c47e6993d5fbc37076510",
       "value": "vocab.txt: 100%"
      }
     },
     "8584fa51ac5f4e35aacac743afeda15d": {
      "model_module": "@jupyter-widgets/controls",
      "model_module_version": "1.5.0",
      "model_name": "HBoxModel",
      "state": {
       "_dom_classes": [],
       "_model_module": "@jupyter-widgets/controls",
       "_model_module_version": "1.5.0",
       "_model_name": "HBoxModel",
       "_view_count": null,
       "_view_module": "@jupyter-widgets/controls",
       "_view_module_version": "1.5.0",
       "_view_name": "HBoxView",
       "box_style": "",
       "children": [
        "IPY_MODEL_bd107d65183242cdac27d2fb7d51a1fc",
        "IPY_MODEL_c4c5298b4c53408b9ec33ab8e586aa08",
        "IPY_MODEL_4a051b1d25d848bc8b7f3a0f28c51a48"
       ],
       "layout": "IPY_MODEL_fad7f3be777546b5b007a78476228576"
      }
     },
     "88bb473b49e047aa9f25e669c39787c4": {
      "model_module": "@jupyter-widgets/controls",
      "model_module_version": "1.5.0",
      "model_name": "DescriptionStyleModel",
      "state": {
       "_model_module": "@jupyter-widgets/controls",
       "_model_module_version": "1.5.0",
       "_model_name": "DescriptionStyleModel",
       "_view_count": null,
       "_view_module": "@jupyter-widgets/base",
       "_view_module_version": "1.2.0",
       "_view_name": "StyleView",
       "description_width": ""
      }
     },
     "8b4b53de5a3847088d3186b79b2df890": {
      "model_module": "@jupyter-widgets/controls",
      "model_module_version": "1.5.0",
      "model_name": "HTMLModel",
      "state": {
       "_dom_classes": [],
       "_model_module": "@jupyter-widgets/controls",
       "_model_module_version": "1.5.0",
       "_model_name": "HTMLModel",
       "_view_count": null,
       "_view_module": "@jupyter-widgets/controls",
       "_view_module_version": "1.5.0",
       "_view_name": "HTMLView",
       "description": "",
       "description_tooltip": null,
       "layout": "IPY_MODEL_2fa72791b83c4059967017a44255d082",
       "placeholder": "​",
       "style": "IPY_MODEL_4a0d903a21d547a3a7704bc754d612c3",
       "value": " 268M/268M [00:01&lt;00:00, 310MB/s]"
      }
     },
     "8c8b3116483a4eef8daf32dca36a356f": {
      "model_module": "@jupyter-widgets/controls",
      "model_module_version": "1.5.0",
      "model_name": "HTMLModel",
      "state": {
       "_dom_classes": [],
       "_model_module": "@jupyter-widgets/controls",
       "_model_module_version": "1.5.0",
       "_model_name": "HTMLModel",
       "_view_count": null,
       "_view_module": "@jupyter-widgets/controls",
       "_view_module_version": "1.5.0",
       "_view_name": "HTMLView",
       "description": "",
       "description_tooltip": null,
       "layout": "IPY_MODEL_65b1c0a33f074d31b820e87122bd99b4",
       "placeholder": "​",
       "style": "IPY_MODEL_0ee7326980da4d99a669ff55dd250904",
       "value": "tokenizer_config.json: 100%"
      }
     },
     "8fba728e29d34713863e7ec2bef5ee46": {
      "model_module": "@jupyter-widgets/controls",
      "model_module_version": "1.5.0",
      "model_name": "DescriptionStyleModel",
      "state": {
       "_model_module": "@jupyter-widgets/controls",
       "_model_module_version": "1.5.0",
       "_model_name": "DescriptionStyleModel",
       "_view_count": null,
       "_view_module": "@jupyter-widgets/base",
       "_view_module_version": "1.2.0",
       "_view_name": "StyleView",
       "description_width": ""
      }
     },
     "977629f16d0748e0b2df9935d2a55e2d": {
      "model_module": "@jupyter-widgets/controls",
      "model_module_version": "1.5.0",
      "model_name": "FloatProgressModel",
      "state": {
       "_dom_classes": [],
       "_model_module": "@jupyter-widgets/controls",
       "_model_module_version": "1.5.0",
       "_model_name": "FloatProgressModel",
       "_view_count": null,
       "_view_module": "@jupyter-widgets/controls",
       "_view_module_version": "1.5.0",
       "_view_name": "ProgressView",
       "bar_style": "success",
       "description": "",
       "description_tooltip": null,
       "layout": "IPY_MODEL_bf790c3f5f0e44eba46c38843b6f8f9b",
       "max": 231508.0,
       "min": 0.0,
       "orientation": "horizontal",
       "style": "IPY_MODEL_6b5034b3a148422294b65345c1efdd6d",
       "value": 231508.0
      }
     },
     "9ced93d052ae45e6a6e6fc0152c3a88d": {
      "model_module": "@jupyter-widgets/controls",
      "model_module_version": "1.5.0",
      "model_name": "DescriptionStyleModel",
      "state": {
       "_model_module": "@jupyter-widgets/controls",
       "_model_module_version": "1.5.0",
       "_model_name": "DescriptionStyleModel",
       "_view_count": null,
       "_view_module": "@jupyter-widgets/base",
       "_view_module_version": "1.2.0",
       "_view_name": "StyleView",
       "description_width": ""
      }
     },
     "9efc1b1cfc1c4ebc95f0168d1ec12720": {
      "model_module": "@jupyter-widgets/base",
      "model_module_version": "1.2.0",
      "model_name": "LayoutModel",
      "state": {
       "_model_module": "@jupyter-widgets/base",
       "_model_module_version": "1.2.0",
       "_model_name": "LayoutModel",
       "_view_count": null,
       "_view_module": "@jupyter-widgets/base",
       "_view_module_version": "1.2.0",
       "_view_name": "LayoutView",
       "align_content": null,
       "align_items": null,
       "align_self": null,
       "border": null,
       "bottom": null,
       "display": null,
       "flex": null,
       "flex_flow": null,
       "grid_area": null,
       "grid_auto_columns": null,
       "grid_auto_flow": null,
       "grid_auto_rows": null,
       "grid_column": null,
       "grid_gap": null,
       "grid_row": null,
       "grid_template_areas": null,
       "grid_template_columns": null,
       "grid_template_rows": null,
       "height": null,
       "justify_content": null,
       "justify_items": null,
       "left": null,
       "margin": null,
       "max_height": null,
       "max_width": null,
       "min_height": null,
       "min_width": null,
       "object_fit": null,
       "object_position": null,
       "order": null,
       "overflow": null,
       "overflow_x": null,
       "overflow_y": null,
       "padding": null,
       "right": null,
       "top": null,
       "visibility": null,
       "width": null
      }
     },
     "a0d20d3310c84614837d9da2f736ffb2": {
      "model_module": "@jupyter-widgets/base",
      "model_module_version": "1.2.0",
      "model_name": "LayoutModel",
      "state": {
       "_model_module": "@jupyter-widgets/base",
       "_model_module_version": "1.2.0",
       "_model_name": "LayoutModel",
       "_view_count": null,
       "_view_module": "@jupyter-widgets/base",
       "_view_module_version": "1.2.0",
       "_view_name": "LayoutView",
       "align_content": null,
       "align_items": null,
       "align_self": null,
       "border": null,
       "bottom": null,
       "display": null,
       "flex": null,
       "flex_flow": null,
       "grid_area": null,
       "grid_auto_columns": null,
       "grid_auto_flow": null,
       "grid_auto_rows": null,
       "grid_column": null,
       "grid_gap": null,
       "grid_row": null,
       "grid_template_areas": null,
       "grid_template_columns": null,
       "grid_template_rows": null,
       "height": null,
       "justify_content": null,
       "justify_items": null,
       "left": null,
       "margin": null,
       "max_height": null,
       "max_width": null,
       "min_height": null,
       "min_width": null,
       "object_fit": null,
       "object_position": null,
       "order": null,
       "overflow": null,
       "overflow_x": null,
       "overflow_y": null,
       "padding": null,
       "right": null,
       "top": null,
       "visibility": null,
       "width": null
      }
     },
     "a2c23fdb3d4b4a54be36624325fc931a": {
      "model_module": "@jupyter-widgets/base",
      "model_module_version": "1.2.0",
      "model_name": "LayoutModel",
      "state": {
       "_model_module": "@jupyter-widgets/base",
       "_model_module_version": "1.2.0",
       "_model_name": "LayoutModel",
       "_view_count": null,
       "_view_module": "@jupyter-widgets/base",
       "_view_module_version": "1.2.0",
       "_view_name": "LayoutView",
       "align_content": null,
       "align_items": null,
       "align_self": null,
       "border": null,
       "bottom": null,
       "display": null,
       "flex": null,
       "flex_flow": null,
       "grid_area": null,
       "grid_auto_columns": null,
       "grid_auto_flow": null,
       "grid_auto_rows": null,
       "grid_column": null,
       "grid_gap": null,
       "grid_row": null,
       "grid_template_areas": null,
       "grid_template_columns": null,
       "grid_template_rows": null,
       "height": null,
       "justify_content": null,
       "justify_items": null,
       "left": null,
       "margin": null,
       "max_height": null,
       "max_width": null,
       "min_height": null,
       "min_width": null,
       "object_fit": null,
       "object_position": null,
       "order": null,
       "overflow": null,
       "overflow_x": null,
       "overflow_y": null,
       "padding": null,
       "right": null,
       "top": null,
       "visibility": null,
       "width": null
      }
     },
     "a9b35d246d5442d98dadb6167473b722": {
      "model_module": "@jupyter-widgets/controls",
      "model_module_version": "1.5.0",
      "model_name": "HTMLModel",
      "state": {
       "_dom_classes": [],
       "_model_module": "@jupyter-widgets/controls",
       "_model_module_version": "1.5.0",
       "_model_name": "HTMLModel",
       "_view_count": null,
       "_view_module": "@jupyter-widgets/controls",
       "_view_module_version": "1.5.0",
       "_view_name": "HTMLView",
       "description": "",
       "description_tooltip": null,
       "layout": "IPY_MODEL_0f96ccabe5dc4567920f062e3e5f1eab",
       "placeholder": "​",
       "style": "IPY_MODEL_e729a7e05b204bcc9d2ca38959a77b35",
       "value": "config.json: 100%"
      }
     },
     "aaab4803d0cb4a6883f729131e7833d6": {
      "model_module": "@jupyter-widgets/controls",
      "model_module_version": "1.5.0",
      "model_name": "HTMLModel",
      "state": {
       "_dom_classes": [],
       "_model_module": "@jupyter-widgets/controls",
       "_model_module_version": "1.5.0",
       "_model_name": "HTMLModel",
       "_view_count": null,
       "_view_module": "@jupyter-widgets/controls",
       "_view_module_version": "1.5.0",
       "_view_name": "HTMLView",
       "description": "",
       "description_tooltip": null,
       "layout": "IPY_MODEL_a0d20d3310c84614837d9da2f736ffb2",
       "placeholder": "​",
       "style": "IPY_MODEL_ac361436d62c46eab708f4b3e4b9d8d0",
       "value": " 232k/232k [00:00&lt;00:00, 1.80MB/s]"
      }
     },
     "abd60131fe484d63b954c3e83af4ccde": {
      "model_module": "@jupyter-widgets/base",
      "model_module_version": "1.2.0",
      "model_name": "LayoutModel",
      "state": {
       "_model_module": "@jupyter-widgets/base",
       "_model_module_version": "1.2.0",
       "_model_name": "LayoutModel",
       "_view_count": null,
       "_view_module": "@jupyter-widgets/base",
       "_view_module_version": "1.2.0",
       "_view_name": "LayoutView",
       "align_content": null,
       "align_items": null,
       "align_self": null,
       "border": null,
       "bottom": null,
       "display": null,
       "flex": null,
       "flex_flow": null,
       "grid_area": null,
       "grid_auto_columns": null,
       "grid_auto_flow": null,
       "grid_auto_rows": null,
       "grid_column": null,
       "grid_gap": null,
       "grid_row": null,
       "grid_template_areas": null,
       "grid_template_columns": null,
       "grid_template_rows": null,
       "height": null,
       "justify_content": null,
       "justify_items": null,
       "left": null,
       "margin": null,
       "max_height": null,
       "max_width": null,
       "min_height": null,
       "min_width": null,
       "object_fit": null,
       "object_position": null,
       "order": null,
       "overflow": null,
       "overflow_x": null,
       "overflow_y": null,
       "padding": null,
       "right": null,
       "top": null,
       "visibility": null,
       "width": null
      }
     },
     "ac361436d62c46eab708f4b3e4b9d8d0": {
      "model_module": "@jupyter-widgets/controls",
      "model_module_version": "1.5.0",
      "model_name": "DescriptionStyleModel",
      "state": {
       "_model_module": "@jupyter-widgets/controls",
       "_model_module_version": "1.5.0",
       "_model_name": "DescriptionStyleModel",
       "_view_count": null,
       "_view_module": "@jupyter-widgets/base",
       "_view_module_version": "1.2.0",
       "_view_name": "StyleView",
       "description_width": ""
      }
     },
     "b21a3c802abd415fbd9b4b9e6c00576f": {
      "model_module": "@jupyter-widgets/controls",
      "model_module_version": "1.5.0",
      "model_name": "DescriptionStyleModel",
      "state": {
       "_model_module": "@jupyter-widgets/controls",
       "_model_module_version": "1.5.0",
       "_model_name": "DescriptionStyleModel",
       "_view_count": null,
       "_view_module": "@jupyter-widgets/base",
       "_view_module_version": "1.2.0",
       "_view_name": "StyleView",
       "description_width": ""
      }
     },
     "b8444c05f8754668946fc50c545038ad": {
      "model_module": "@jupyter-widgets/controls",
      "model_module_version": "1.5.0",
      "model_name": "HBoxModel",
      "state": {
       "_dom_classes": [],
       "_model_module": "@jupyter-widgets/controls",
       "_model_module_version": "1.5.0",
       "_model_name": "HBoxModel",
       "_view_count": null,
       "_view_module": "@jupyter-widgets/controls",
       "_view_module_version": "1.5.0",
       "_view_name": "HBoxView",
       "box_style": "",
       "children": [
        "IPY_MODEL_a9b35d246d5442d98dadb6167473b722",
        "IPY_MODEL_5a6ca1b6aeb94560a6973343aac7c2b4",
        "IPY_MODEL_e2751844bf0a42be846c2f647f6e1055"
       ],
       "layout": "IPY_MODEL_49297b2a3c5143d89cce8577235a5b21"
      }
     },
     "b9c0c9971321447d8d999fdb17cc608b": {
      "model_module": "@jupyter-widgets/controls",
      "model_module_version": "1.5.0",
      "model_name": "DescriptionStyleModel",
      "state": {
       "_model_module": "@jupyter-widgets/controls",
       "_model_module_version": "1.5.0",
       "_model_name": "DescriptionStyleModel",
       "_view_count": null,
       "_view_module": "@jupyter-widgets/base",
       "_view_module_version": "1.2.0",
       "_view_name": "StyleView",
       "description_width": ""
      }
     },
     "bd107d65183242cdac27d2fb7d51a1fc": {
      "model_module": "@jupyter-widgets/controls",
      "model_module_version": "1.5.0",
      "model_name": "HTMLModel",
      "state": {
       "_dom_classes": [],
       "_model_module": "@jupyter-widgets/controls",
       "_model_module_version": "1.5.0",
       "_model_name": "HTMLModel",
       "_view_count": null,
       "_view_module": "@jupyter-widgets/controls",
       "_view_module_version": "1.5.0",
       "_view_name": "HTMLView",
       "description": "",
       "description_tooltip": null,
       "layout": "IPY_MODEL_1f3662bf090d47dbaf406984cdcd7256",
       "placeholder": "​",
       "style": "IPY_MODEL_ddeef2e19e664d11a6f93e0d8208e00a",
       "value": "model.safetensors: 100%"
      }
     },
     "be9247025609401383a2a537796e86a1": {
      "model_module": "@jupyter-widgets/base",
      "model_module_version": "1.2.0",
      "model_name": "LayoutModel",
      "state": {
       "_model_module": "@jupyter-widgets/base",
       "_model_module_version": "1.2.0",
       "_model_name": "LayoutModel",
       "_view_count": null,
       "_view_module": "@jupyter-widgets/base",
       "_view_module_version": "1.2.0",
       "_view_name": "LayoutView",
       "align_content": null,
       "align_items": null,
       "align_self": null,
       "border": null,
       "bottom": null,
       "display": null,
       "flex": null,
       "flex_flow": null,
       "grid_area": null,
       "grid_auto_columns": null,
       "grid_auto_flow": null,
       "grid_auto_rows": null,
       "grid_column": null,
       "grid_gap": null,
       "grid_row": null,
       "grid_template_areas": null,
       "grid_template_columns": null,
       "grid_template_rows": null,
       "height": null,
       "justify_content": null,
       "justify_items": null,
       "left": null,
       "margin": null,
       "max_height": null,
       "max_width": null,
       "min_height": null,
       "min_width": null,
       "object_fit": null,
       "object_position": null,
       "order": null,
       "overflow": null,
       "overflow_x": null,
       "overflow_y": null,
       "padding": null,
       "right": null,
       "top": null,
       "visibility": null,
       "width": null
      }
     },
     "bf790c3f5f0e44eba46c38843b6f8f9b": {
      "model_module": "@jupyter-widgets/base",
      "model_module_version": "1.2.0",
      "model_name": "LayoutModel",
      "state": {
       "_model_module": "@jupyter-widgets/base",
       "_model_module_version": "1.2.0",
       "_model_name": "LayoutModel",
       "_view_count": null,
       "_view_module": "@jupyter-widgets/base",
       "_view_module_version": "1.2.0",
       "_view_name": "LayoutView",
       "align_content": null,
       "align_items": null,
       "align_self": null,
       "border": null,
       "bottom": null,
       "display": null,
       "flex": null,
       "flex_flow": null,
       "grid_area": null,
       "grid_auto_columns": null,
       "grid_auto_flow": null,
       "grid_auto_rows": null,
       "grid_column": null,
       "grid_gap": null,
       "grid_row": null,
       "grid_template_areas": null,
       "grid_template_columns": null,
       "grid_template_rows": null,
       "height": null,
       "justify_content": null,
       "justify_items": null,
       "left": null,
       "margin": null,
       "max_height": null,
       "max_width": null,
       "min_height": null,
       "min_width": null,
       "object_fit": null,
       "object_position": null,
       "order": null,
       "overflow": null,
       "overflow_x": null,
       "overflow_y": null,
       "padding": null,
       "right": null,
       "top": null,
       "visibility": null,
       "width": null
      }
     },
     "c01d8edadf9644a7986c019aabf6672d": {
      "model_module": "@jupyter-widgets/base",
      "model_module_version": "1.2.0",
      "model_name": "LayoutModel",
      "state": {
       "_model_module": "@jupyter-widgets/base",
       "_model_module_version": "1.2.0",
       "_model_name": "LayoutModel",
       "_view_count": null,
       "_view_module": "@jupyter-widgets/base",
       "_view_module_version": "1.2.0",
       "_view_name": "LayoutView",
       "align_content": null,
       "align_items": null,
       "align_self": null,
       "border": null,
       "bottom": null,
       "display": null,
       "flex": null,
       "flex_flow": null,
       "grid_area": null,
       "grid_auto_columns": null,
       "grid_auto_flow": null,
       "grid_auto_rows": null,
       "grid_column": null,
       "grid_gap": null,
       "grid_row": null,
       "grid_template_areas": null,
       "grid_template_columns": null,
       "grid_template_rows": null,
       "height": null,
       "justify_content": null,
       "justify_items": null,
       "left": null,
       "margin": null,
       "max_height": null,
       "max_width": null,
       "min_height": null,
       "min_width": null,
       "object_fit": null,
       "object_position": null,
       "order": null,
       "overflow": null,
       "overflow_x": null,
       "overflow_y": null,
       "padding": null,
       "right": null,
       "top": null,
       "visibility": null,
       "width": null
      }
     },
     "c4c5298b4c53408b9ec33ab8e586aa08": {
      "model_module": "@jupyter-widgets/controls",
      "model_module_version": "1.5.0",
      "model_name": "FloatProgressModel",
      "state": {
       "_dom_classes": [],
       "_model_module": "@jupyter-widgets/controls",
       "_model_module_version": "1.5.0",
       "_model_name": "FloatProgressModel",
       "_view_count": null,
       "_view_module": "@jupyter-widgets/controls",
       "_view_module_version": "1.5.0",
       "_view_name": "ProgressView",
       "bar_style": "success",
       "description": "",
       "description_tooltip": null,
       "layout": "IPY_MODEL_586b1f74d96742239243c76786d954f0",
       "max": 267954768.0,
       "min": 0.0,
       "orientation": "horizontal",
       "style": "IPY_MODEL_dc92f3112d734c58af0e7d6e902710a0",
       "value": 267954768.0
      }
     },
     "c6255d4c8ac24d1890b775e8115d4a74": {
      "model_module": "@jupyter-widgets/base",
      "model_module_version": "1.2.0",
      "model_name": "LayoutModel",
      "state": {
       "_model_module": "@jupyter-widgets/base",
       "_model_module_version": "1.2.0",
       "_model_name": "LayoutModel",
       "_view_count": null,
       "_view_module": "@jupyter-widgets/base",
       "_view_module_version": "1.2.0",
       "_view_name": "LayoutView",
       "align_content": null,
       "align_items": null,
       "align_self": null,
       "border": null,
       "bottom": null,
       "display": null,
       "flex": null,
       "flex_flow": null,
       "grid_area": null,
       "grid_auto_columns": null,
       "grid_auto_flow": null,
       "grid_auto_rows": null,
       "grid_column": null,
       "grid_gap": null,
       "grid_row": null,
       "grid_template_areas": null,
       "grid_template_columns": null,
       "grid_template_rows": null,
       "height": null,
       "justify_content": null,
       "justify_items": null,
       "left": null,
       "margin": null,
       "max_height": null,
       "max_width": null,
       "min_height": null,
       "min_width": null,
       "object_fit": null,
       "object_position": null,
       "order": null,
       "overflow": null,
       "overflow_x": null,
       "overflow_y": null,
       "padding": null,
       "right": null,
       "top": null,
       "visibility": null,
       "width": null
      }
     },
     "c8411527a4ff46f6a93c165300fbf29e": {
      "model_module": "@jupyter-widgets/base",
      "model_module_version": "1.2.0",
      "model_name": "LayoutModel",
      "state": {
       "_model_module": "@jupyter-widgets/base",
       "_model_module_version": "1.2.0",
       "_model_name": "LayoutModel",
       "_view_count": null,
       "_view_module": "@jupyter-widgets/base",
       "_view_module_version": "1.2.0",
       "_view_name": "LayoutView",
       "align_content": null,
       "align_items": null,
       "align_self": null,
       "border": null,
       "bottom": null,
       "display": null,
       "flex": null,
       "flex_flow": null,
       "grid_area": null,
       "grid_auto_columns": null,
       "grid_auto_flow": null,
       "grid_auto_rows": null,
       "grid_column": null,
       "grid_gap": null,
       "grid_row": null,
       "grid_template_areas": null,
       "grid_template_columns": null,
       "grid_template_rows": null,
       "height": null,
       "justify_content": null,
       "justify_items": null,
       "left": null,
       "margin": null,
       "max_height": null,
       "max_width": null,
       "min_height": null,
       "min_width": null,
       "object_fit": null,
       "object_position": null,
       "order": null,
       "overflow": null,
       "overflow_x": null,
       "overflow_y": null,
       "padding": null,
       "right": null,
       "top": null,
       "visibility": null,
       "width": null
      }
     },
     "ca7188be26194592959be91b2ec4fc64": {
      "model_module": "@jupyter-widgets/base",
      "model_module_version": "1.2.0",
      "model_name": "LayoutModel",
      "state": {
       "_model_module": "@jupyter-widgets/base",
       "_model_module_version": "1.2.0",
       "_model_name": "LayoutModel",
       "_view_count": null,
       "_view_module": "@jupyter-widgets/base",
       "_view_module_version": "1.2.0",
       "_view_name": "LayoutView",
       "align_content": null,
       "align_items": null,
       "align_self": null,
       "border": null,
       "bottom": null,
       "display": null,
       "flex": null,
       "flex_flow": null,
       "grid_area": null,
       "grid_auto_columns": null,
       "grid_auto_flow": null,
       "grid_auto_rows": null,
       "grid_column": null,
       "grid_gap": null,
       "grid_row": null,
       "grid_template_areas": null,
       "grid_template_columns": null,
       "grid_template_rows": null,
       "height": null,
       "justify_content": null,
       "justify_items": null,
       "left": null,
       "margin": null,
       "max_height": null,
       "max_width": null,
       "min_height": null,
       "min_width": null,
       "object_fit": null,
       "object_position": null,
       "order": null,
       "overflow": null,
       "overflow_x": null,
       "overflow_y": null,
       "padding": null,
       "right": null,
       "top": null,
       "visibility": null,
       "width": null
      }
     },
     "cb2c30232eb043d490d92f03a02266e3": {
      "model_module": "@jupyter-widgets/base",
      "model_module_version": "1.2.0",
      "model_name": "LayoutModel",
      "state": {
       "_model_module": "@jupyter-widgets/base",
       "_model_module_version": "1.2.0",
       "_model_name": "LayoutModel",
       "_view_count": null,
       "_view_module": "@jupyter-widgets/base",
       "_view_module_version": "1.2.0",
       "_view_name": "LayoutView",
       "align_content": null,
       "align_items": null,
       "align_self": null,
       "border": null,
       "bottom": null,
       "display": null,
       "flex": null,
       "flex_flow": null,
       "grid_area": null,
       "grid_auto_columns": null,
       "grid_auto_flow": null,
       "grid_auto_rows": null,
       "grid_column": null,
       "grid_gap": null,
       "grid_row": null,
       "grid_template_areas": null,
       "grid_template_columns": null,
       "grid_template_rows": null,
       "height": null,
       "justify_content": null,
       "justify_items": null,
       "left": null,
       "margin": null,
       "max_height": null,
       "max_width": null,
       "min_height": null,
       "min_width": null,
       "object_fit": null,
       "object_position": null,
       "order": null,
       "overflow": null,
       "overflow_x": null,
       "overflow_y": null,
       "padding": null,
       "right": null,
       "top": null,
       "visibility": null,
       "width": null
      }
     },
     "cfc8c958f67c47e6993d5fbc37076510": {
      "model_module": "@jupyter-widgets/controls",
      "model_module_version": "1.5.0",
      "model_name": "DescriptionStyleModel",
      "state": {
       "_model_module": "@jupyter-widgets/controls",
       "_model_module_version": "1.5.0",
       "_model_name": "DescriptionStyleModel",
       "_view_count": null,
       "_view_module": "@jupyter-widgets/base",
       "_view_module_version": "1.2.0",
       "_view_name": "StyleView",
       "description_width": ""
      }
     },
     "d3a8499a28944fcf97ac2a277643f07c": {
      "model_module": "@jupyter-widgets/controls",
      "model_module_version": "1.5.0",
      "model_name": "ProgressStyleModel",
      "state": {
       "_model_module": "@jupyter-widgets/controls",
       "_model_module_version": "1.5.0",
       "_model_name": "ProgressStyleModel",
       "_view_count": null,
       "_view_module": "@jupyter-widgets/base",
       "_view_module_version": "1.2.0",
       "_view_name": "StyleView",
       "bar_color": null,
       "description_width": ""
      }
     },
     "d59ac510714b479299e4ee09edbedc9a": {
      "model_module": "@jupyter-widgets/controls",
      "model_module_version": "1.5.0",
      "model_name": "FloatProgressModel",
      "state": {
       "_dom_classes": [],
       "_model_module": "@jupyter-widgets/controls",
       "_model_module_version": "1.5.0",
       "_model_name": "FloatProgressModel",
       "_view_count": null,
       "_view_module": "@jupyter-widgets/controls",
       "_view_module_version": "1.5.0",
       "_view_name": "ProgressView",
       "bar_style": "success",
       "description": "",
       "description_tooltip": null,
       "layout": "IPY_MODEL_abd60131fe484d63b954c3e83af4ccde",
       "max": 629.0,
       "min": 0.0,
       "orientation": "horizontal",
       "style": "IPY_MODEL_48fa274252c844f0a00f7065a841d84f",
       "value": 629.0
      }
     },
     "dc92f3112d734c58af0e7d6e902710a0": {
      "model_module": "@jupyter-widgets/controls",
      "model_module_version": "1.5.0",
      "model_name": "ProgressStyleModel",
      "state": {
       "_model_module": "@jupyter-widgets/controls",
       "_model_module_version": "1.5.0",
       "_model_name": "ProgressStyleModel",
       "_view_count": null,
       "_view_module": "@jupyter-widgets/base",
       "_view_module_version": "1.2.0",
       "_view_name": "StyleView",
       "bar_color": null,
       "description_width": ""
      }
     },
     "ddeef2e19e664d11a6f93e0d8208e00a": {
      "model_module": "@jupyter-widgets/controls",
      "model_module_version": "1.5.0",
      "model_name": "DescriptionStyleModel",
      "state": {
       "_model_module": "@jupyter-widgets/controls",
       "_model_module_version": "1.5.0",
       "_model_name": "DescriptionStyleModel",
       "_view_count": null,
       "_view_module": "@jupyter-widgets/base",
       "_view_module_version": "1.2.0",
       "_view_name": "StyleView",
       "description_width": ""
      }
     },
     "e17b167a3c62410daa461eb4dd43f628": {
      "model_module": "@jupyter-widgets/base",
      "model_module_version": "1.2.0",
      "model_name": "LayoutModel",
      "state": {
       "_model_module": "@jupyter-widgets/base",
       "_model_module_version": "1.2.0",
       "_model_name": "LayoutModel",
       "_view_count": null,
       "_view_module": "@jupyter-widgets/base",
       "_view_module_version": "1.2.0",
       "_view_name": "LayoutView",
       "align_content": null,
       "align_items": null,
       "align_self": null,
       "border": null,
       "bottom": null,
       "display": null,
       "flex": null,
       "flex_flow": null,
       "grid_area": null,
       "grid_auto_columns": null,
       "grid_auto_flow": null,
       "grid_auto_rows": null,
       "grid_column": null,
       "grid_gap": null,
       "grid_row": null,
       "grid_template_areas": null,
       "grid_template_columns": null,
       "grid_template_rows": null,
       "height": null,
       "justify_content": null,
       "justify_items": null,
       "left": null,
       "margin": null,
       "max_height": null,
       "max_width": null,
       "min_height": null,
       "min_width": null,
       "object_fit": null,
       "object_position": null,
       "order": null,
       "overflow": null,
       "overflow_x": null,
       "overflow_y": null,
       "padding": null,
       "right": null,
       "top": null,
       "visibility": null,
       "width": null
      }
     },
     "e2751844bf0a42be846c2f647f6e1055": {
      "model_module": "@jupyter-widgets/controls",
      "model_module_version": "1.5.0",
      "model_name": "HTMLModel",
      "state": {
       "_dom_classes": [],
       "_model_module": "@jupyter-widgets/controls",
       "_model_module_version": "1.5.0",
       "_model_name": "HTMLModel",
       "_view_count": null,
       "_view_module": "@jupyter-widgets/controls",
       "_view_module_version": "1.5.0",
       "_view_name": "HTMLView",
       "description": "",
       "description_tooltip": null,
       "layout": "IPY_MODEL_157b32f1a3f54e10afbddc5ff0651394",
       "placeholder": "​",
       "style": "IPY_MODEL_338061dfa1104ff19f3e863147911dcf",
       "value": " 483/483 [00:00&lt;00:00, 41.0kB/s]"
      }
     },
     "e3d409afb48f4017a454779417d53361": {
      "model_module": "@jupyter-widgets/controls",
      "model_module_version": "1.5.0",
      "model_name": "FloatProgressModel",
      "state": {
       "_dom_classes": [],
       "_model_module": "@jupyter-widgets/controls",
       "_model_module_version": "1.5.0",
       "_model_name": "FloatProgressModel",
       "_view_count": null,
       "_view_module": "@jupyter-widgets/controls",
       "_view_module_version": "1.5.0",
       "_view_name": "ProgressView",
       "bar_style": "success",
       "description": "",
       "description_tooltip": null,
       "layout": "IPY_MODEL_7731672b3cfa4b58a66e5c075cf53b7b",
       "max": 466062.0,
       "min": 0.0,
       "orientation": "horizontal",
       "style": "IPY_MODEL_74188f029fe1432bad9a05cdc5208213",
       "value": 466062.0
      }
     },
     "e729a7e05b204bcc9d2ca38959a77b35": {
      "model_module": "@jupyter-widgets/controls",
      "model_module_version": "1.5.0",
      "model_name": "DescriptionStyleModel",
      "state": {
       "_model_module": "@jupyter-widgets/controls",
       "_model_module_version": "1.5.0",
       "_model_name": "DescriptionStyleModel",
       "_view_count": null,
       "_view_module": "@jupyter-widgets/base",
       "_view_module_version": "1.2.0",
       "_view_name": "StyleView",
       "description_width": ""
      }
     },
     "e86da7c1fce648eab54c34f260d86145": {
      "model_module": "@jupyter-widgets/controls",
      "model_module_version": "1.5.0",
      "model_name": "DescriptionStyleModel",
      "state": {
       "_model_module": "@jupyter-widgets/controls",
       "_model_module_version": "1.5.0",
       "_model_name": "DescriptionStyleModel",
       "_view_count": null,
       "_view_module": "@jupyter-widgets/base",
       "_view_module_version": "1.2.0",
       "_view_name": "StyleView",
       "description_width": ""
      }
     },
     "eab5479498fd41f081680738c4f7164c": {
      "model_module": "@jupyter-widgets/base",
      "model_module_version": "1.2.0",
      "model_name": "LayoutModel",
      "state": {
       "_model_module": "@jupyter-widgets/base",
       "_model_module_version": "1.2.0",
       "_model_name": "LayoutModel",
       "_view_count": null,
       "_view_module": "@jupyter-widgets/base",
       "_view_module_version": "1.2.0",
       "_view_name": "LayoutView",
       "align_content": null,
       "align_items": null,
       "align_self": null,
       "border": null,
       "bottom": null,
       "display": null,
       "flex": null,
       "flex_flow": null,
       "grid_area": null,
       "grid_auto_columns": null,
       "grid_auto_flow": null,
       "grid_auto_rows": null,
       "grid_column": null,
       "grid_gap": null,
       "grid_row": null,
       "grid_template_areas": null,
       "grid_template_columns": null,
       "grid_template_rows": null,
       "height": null,
       "justify_content": null,
       "justify_items": null,
       "left": null,
       "margin": null,
       "max_height": null,
       "max_width": null,
       "min_height": null,
       "min_width": null,
       "object_fit": null,
       "object_position": null,
       "order": null,
       "overflow": null,
       "overflow_x": null,
       "overflow_y": null,
       "padding": null,
       "right": null,
       "top": null,
       "visibility": null,
       "width": null
      }
     },
     "ed7a773566f044e9b8ea747b558704d1": {
      "model_module": "@jupyter-widgets/base",
      "model_module_version": "1.2.0",
      "model_name": "LayoutModel",
      "state": {
       "_model_module": "@jupyter-widgets/base",
       "_model_module_version": "1.2.0",
       "_model_name": "LayoutModel",
       "_view_count": null,
       "_view_module": "@jupyter-widgets/base",
       "_view_module_version": "1.2.0",
       "_view_name": "LayoutView",
       "align_content": null,
       "align_items": null,
       "align_self": null,
       "border": null,
       "bottom": null,
       "display": null,
       "flex": null,
       "flex_flow": null,
       "grid_area": null,
       "grid_auto_columns": null,
       "grid_auto_flow": null,
       "grid_auto_rows": null,
       "grid_column": null,
       "grid_gap": null,
       "grid_row": null,
       "grid_template_areas": null,
       "grid_template_columns": null,
       "grid_template_rows": null,
       "height": null,
       "justify_content": null,
       "justify_items": null,
       "left": null,
       "margin": null,
       "max_height": null,
       "max_width": null,
       "min_height": null,
       "min_width": null,
       "object_fit": null,
       "object_position": null,
       "order": null,
       "overflow": null,
       "overflow_x": null,
       "overflow_y": null,
       "padding": null,
       "right": null,
       "top": null,
       "visibility": null,
       "width": null
      }
     },
     "f14fd49af0e3410aa3ee8eb4c06d7911": {
      "model_module": "@jupyter-widgets/controls",
      "model_module_version": "1.5.0",
      "model_name": "FloatProgressModel",
      "state": {
       "_dom_classes": [],
       "_model_module": "@jupyter-widgets/controls",
       "_model_module_version": "1.5.0",
       "_model_name": "FloatProgressModel",
       "_view_count": null,
       "_view_module": "@jupyter-widgets/controls",
       "_view_module_version": "1.5.0",
       "_view_name": "ProgressView",
       "bar_style": "success",
       "description": "",
       "description_tooltip": null,
       "layout": "IPY_MODEL_08390e6216554acebc141bceaccaadd7",
       "max": 231508.0,
       "min": 0.0,
       "orientation": "horizontal",
       "style": "IPY_MODEL_2f52dac33b8149d19d91c8a318e11fd7",
       "value": 231508.0
      }
     },
     "f391d4cf9c04413296f13be966ac029e": {
      "model_module": "@jupyter-widgets/controls",
      "model_module_version": "1.5.0",
      "model_name": "HTMLModel",
      "state": {
       "_dom_classes": [],
       "_model_module": "@jupyter-widgets/controls",
       "_model_module_version": "1.5.0",
       "_model_name": "HTMLModel",
       "_view_count": null,
       "_view_module": "@jupyter-widgets/controls",
       "_view_module_version": "1.5.0",
       "_view_name": "HTMLView",
       "description": "",
       "description_tooltip": null,
       "layout": "IPY_MODEL_c6255d4c8ac24d1890b775e8115d4a74",
       "placeholder": "​",
       "style": "IPY_MODEL_8fba728e29d34713863e7ec2bef5ee46",
       "value": "model.safetensors: 100%"
      }
     },
     "f4904c5b6bd84cd49dfafb2aafc161df": {
      "model_module": "@jupyter-widgets/controls",
      "model_module_version": "1.5.0",
      "model_name": "FloatProgressModel",
      "state": {
       "_dom_classes": [],
       "_model_module": "@jupyter-widgets/controls",
       "_model_module_version": "1.5.0",
       "_model_name": "FloatProgressModel",
       "_view_count": null,
       "_view_module": "@jupyter-widgets/controls",
       "_view_module_version": "1.5.0",
       "_view_name": "ProgressView",
       "bar_style": "success",
       "description": "",
       "description_tooltip": null,
       "layout": "IPY_MODEL_be9247025609401383a2a537796e86a1",
       "max": 267832558.0,
       "min": 0.0,
       "orientation": "horizontal",
       "style": "IPY_MODEL_f4de57cf02fa45b48c2f649aa2b71585",
       "value": 267832558.0
      }
     },
     "f4de57cf02fa45b48c2f649aa2b71585": {
      "model_module": "@jupyter-widgets/controls",
      "model_module_version": "1.5.0",
      "model_name": "ProgressStyleModel",
      "state": {
       "_model_module": "@jupyter-widgets/controls",
       "_model_module_version": "1.5.0",
       "_model_name": "ProgressStyleModel",
       "_view_count": null,
       "_view_module": "@jupyter-widgets/base",
       "_view_module_version": "1.2.0",
       "_view_name": "StyleView",
       "bar_color": null,
       "description_width": ""
      }
     },
     "f7124a31e5c54d4dbfc9224655c90735": {
      "model_module": "@jupyter-widgets/controls",
      "model_module_version": "1.5.0",
      "model_name": "HTMLModel",
      "state": {
       "_dom_classes": [],
       "_model_module": "@jupyter-widgets/controls",
       "_model_module_version": "1.5.0",
       "_model_name": "HTMLModel",
       "_view_count": null,
       "_view_module": "@jupyter-widgets/controls",
       "_view_module_version": "1.5.0",
       "_view_name": "HTMLView",
       "description": "",
       "description_tooltip": null,
       "layout": "IPY_MODEL_0dd56cd21322490fbe8a5a28403b2533",
       "placeholder": "​",
       "style": "IPY_MODEL_6b9a4bb13f4049c199e35a1ee75c3164",
       "value": "vocab.txt: 100%"
      }
     },
     "fad7f3be777546b5b007a78476228576": {
      "model_module": "@jupyter-widgets/base",
      "model_module_version": "1.2.0",
      "model_name": "LayoutModel",
      "state": {
       "_model_module": "@jupyter-widgets/base",
       "_model_module_version": "1.2.0",
       "_model_name": "LayoutModel",
       "_view_count": null,
       "_view_module": "@jupyter-widgets/base",
       "_view_module_version": "1.2.0",
       "_view_name": "LayoutView",
       "align_content": null,
       "align_items": null,
       "align_self": null,
       "border": null,
       "bottom": null,
       "display": null,
       "flex": null,
       "flex_flow": null,
       "grid_area": null,
       "grid_auto_columns": null,
       "grid_auto_flow": null,
       "grid_auto_rows": null,
       "grid_column": null,
       "grid_gap": null,
       "grid_row": null,
       "grid_template_areas": null,
       "grid_template_columns": null,
       "grid_template_rows": null,
       "height": null,
       "justify_content": null,
       "justify_items": null,
       "left": null,
       "margin": null,
       "max_height": null,
       "max_width": null,
       "min_height": null,
       "min_width": null,
       "object_fit": null,
       "object_position": null,
       "order": null,
       "overflow": null,
       "overflow_x": null,
       "overflow_y": null,
       "padding": null,
       "right": null,
       "top": null,
       "visibility": null,
       "width": null
      }
     },
     "fc4f6cd6883c4086a8ce1210d1b9ead5": {
      "model_module": "@jupyter-widgets/base",
      "model_module_version": "1.2.0",
      "model_name": "LayoutModel",
      "state": {
       "_model_module": "@jupyter-widgets/base",
       "_model_module_version": "1.2.0",
       "_model_name": "LayoutModel",
       "_view_count": null,
       "_view_module": "@jupyter-widgets/base",
       "_view_module_version": "1.2.0",
       "_view_name": "LayoutView",
       "align_content": null,
       "align_items": null,
       "align_self": null,
       "border": null,
       "bottom": null,
       "display": null,
       "flex": null,
       "flex_flow": null,
       "grid_area": null,
       "grid_auto_columns": null,
       "grid_auto_flow": null,
       "grid_auto_rows": null,
       "grid_column": null,
       "grid_gap": null,
       "grid_row": null,
       "grid_template_areas": null,
       "grid_template_columns": null,
       "grid_template_rows": null,
       "height": null,
       "justify_content": null,
       "justify_items": null,
       "left": null,
       "margin": null,
       "max_height": null,
       "max_width": null,
       "min_height": null,
       "min_width": null,
       "object_fit": null,
       "object_position": null,
       "order": null,
       "overflow": null,
       "overflow_x": null,
       "overflow_y": null,
       "padding": null,
       "right": null,
       "top": null,
       "visibility": null,
       "width": null
      }
     }
    },
    "version_major": 2,
    "version_minor": 0
   }
  }
 },
 "nbformat": 4,
 "nbformat_minor": 5
}
